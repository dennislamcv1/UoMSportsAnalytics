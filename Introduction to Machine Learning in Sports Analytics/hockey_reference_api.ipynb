{
 "cells": [
  {
   "cell_type": "code",
   "execution_count": null,
   "metadata": {
    "cell_id": "00001-497cd69e-1b6b-46e9-90f7-e7c39215a5fc",
    "deepnote_cell_type": "code",
    "deepnote_to_be_reexecuted": false,
    "execution_millis": 0,
    "execution_start": 1622476973074,
    "source_hash": "84a09f3e",
    "tags": []
   },
   "outputs": [],
   "source": [
    "# Let's bring in our data science imports and our import_ipynb\n",
    "# functionality\n",
    "import pandas as pd\n",
    "import import_ipynb\n",
    "\n",
    "# Now we can import our nhl api, which is really nice\n",
    "import nhl_api\n",
    "\n",
    "# Let's build a private function here to get the details of the hart voting\n",
    "def __get_historical_hart_results(season:str=\"20172018\") -> pd.DataFrame:\n",
    "    df=pd.DataFrame()\n",
    "    try:\n",
    "        df=pd.read_html(f\"https://www.hockey-reference.com/awards/voting-{season[-4:]}.html#hart_stats\")[0]\n",
    "        df=df.droplevel(0, axis='columns')\n",
    "        df[\"season\"]=season\n",
    "    except:\n",
    "        pass #some seasons don't exist because of labor actions\n",
    "    return df\n",
    "\n",
    "# And our public function to generate all of the results for the seasons we're interested in\n",
    "def historical_hart_results():\n",
    "    \"\"\"Generates player statistics and hart voting results for the 1996-1997\n",
    "    through 2019-2020 seasons of the NHL excluding the strike/lockout years\n",
    "    in the early 200s. Data are saved to local CSV files.\n",
    "    \"\"\"\n",
    "    hart_results=pd.DataFrame()\n",
    "    player_results=pd.DataFrame()\n",
    "    for season in [str(i)+str(i+1) for i in range (1996,2020)]:\n",
    "        # Get hockey reference data on voting outcomes\n",
    "        hart_results=hart_results.append(_get_historical_hart_results(season))\n",
    "\n",
    "        # Get NHL data on players (more complete)\n",
    "        new_player_results = nhl_api.get_player_stats_by_season(season, save=False, save_dir=\"data\")\n",
    "        new_player_results['season'] = season\n",
    "        player_results=player_results.append(new_player_results)\n",
    "\n",
    "    # Save data to CSVs\n",
    "    hart_results.to_csv(\"assets/istorical_hart_results.csv\", index=False)\n",
    "    player_results.to_csv(\"assets/historical_player_data.csv\", index=False)\n",
    "    return"
   ]
  },
  {
   "cell_type": "code",
   "execution_count": null,
   "metadata": {
    "cell_id": "00001-df434e69-5b7b-43ad-9648-14472ee2128c",
    "deepnote_cell_type": "code",
    "deepnote_to_be_reexecuted": false,
    "execution_millis": 815376,
    "execution_start": 1622477128689,
    "source_hash": "7eb0a06b",
    "tags": []
   },
   "outputs": [],
   "source": [
    "# Uncomment to create datafiles, won't work on Coursera\n",
    "# historical_hart_results()"
   ]
  }
 ],
 "metadata": {
  "deepnote": {
   "is_reactive": false
  },
  "deepnote_execution_queue": [],
  "deepnote_notebook_id": "52e33170-c900-4a0c-90f7-dd105cd8dc84",
  "kernelspec": {
   "display_name": "Python 3",
   "language": "python",
   "name": "python3"
  },
  "language_info": {
   "codemirror_mode": {
    "name": "ipython",
    "version": 3
   },
   "file_extension": ".py",
   "mimetype": "text/x-python",
   "name": "python",
   "nbconvert_exporter": "python",
   "pygments_lexer": "ipython3",
   "version": "3.8.8"
  }
 },
 "nbformat": 4,
 "nbformat_minor": 4
}
