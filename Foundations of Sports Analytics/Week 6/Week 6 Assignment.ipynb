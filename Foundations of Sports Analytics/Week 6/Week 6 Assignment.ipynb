{
 "cells": [
  {
   "cell_type": "markdown",
   "metadata": {},
   "source": [
    "## Part 1 - Data Preparation and Exploration "
   ]
  },
  {
   "cell_type": "code",
   "execution_count": null,
   "metadata": {},
   "outputs": [],
   "source": [
    "%%capture\n",
    "# Due to the configuration of the base Jupter image, the following imports are required for the regressions in the assignment to report the correct metrics\n",
    "\n",
    "import sys \n",
    "!{sys.executable} -m pip uninstall statsmodels --yes \n",
    "!{sys.executable} -m pip uninstall numpy --yes\n",
    "!{sys.executable} -m pip uninstall pandas --yes \n",
    "!{sys.executable} -m pip uninstall patsy --yes \n",
    "!{sys.executable} -m pip install numpy==1.17\n",
    "!{sys.executable} -m pip install pandas==1.0\n",
    "!{sys.executable} -m pip install patsy==0.5.2\n",
    "!{sys.executable} -m pip install statsmodels==0.11.1"
   ]
  },
  {
   "cell_type": "code",
   "execution_count": null,
   "metadata": {},
   "outputs": [],
   "source": [
    "#Import Libraries\n",
    "\n",
    "import pandas as pd\n",
    "import datetime as dt\n",
    "import scipy.stats as sp\n",
    "import numpy as np\n",
    "import statsmodels.formula.api as sm "
   ]
  },
  {
   "cell_type": "code",
   "execution_count": null,
   "metadata": {},
   "outputs": [],
   "source": [
    "# Import Shotlog_14_15 and Player_Stats Datasets\n",
    "\n",
    "Shotlog_1415=pd.read_csv(\"Assignment Data/Week 6/Shotlog_14_15.csv\")\n",
    "Player_Stats=pd.read_csv(\"Assignment Data/Week 6/Player_Stats_14_15.csv\")\n",
    "display(Shotlog_1415)"
   ]
  },
  {
   "cell_type": "code",
   "execution_count": null,
   "metadata": {},
   "outputs": [],
   "source": []
  },
  {
   "cell_type": "markdown",
   "metadata": {},
   "source": [
    "## Part 2 - Conditional Probability and Autocorrelation"
   ]
  },
  {
   "cell_type": "code",
   "execution_count": null,
   "metadata": {},
   "outputs": [],
   "source": []
  },
  {
   "cell_type": "markdown",
   "metadata": {},
   "source": [
    "## Part 3 - Regression Analyses"
   ]
  },
  {
   "cell_type": "code",
   "execution_count": null,
   "metadata": {},
   "outputs": [],
   "source": []
  }
 ],
 "metadata": {
  "kernelspec": {
   "display_name": "Python 3",
   "language": "python",
   "name": "python3"
  },
  "language_info": {
   "codemirror_mode": {
    "name": "ipython",
    "version": 3
   },
   "file_extension": ".py",
   "mimetype": "text/x-python",
   "name": "python",
   "nbconvert_exporter": "python",
   "pygments_lexer": "ipython3",
   "version": "3.6.7"
  }
 },
 "nbformat": 4,
 "nbformat_minor": 2
}
