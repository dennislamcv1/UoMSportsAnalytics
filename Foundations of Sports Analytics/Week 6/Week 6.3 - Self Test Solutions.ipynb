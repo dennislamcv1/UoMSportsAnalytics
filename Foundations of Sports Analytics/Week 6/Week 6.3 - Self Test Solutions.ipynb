{
 "cells": [
  {
   "cell_type": "markdown",
   "metadata": {},
   "source": [
    "## Note on Self-Tests for Week 6\n",
    "Due to the amount of code used in this week's lecture notebooks, only the solutions to the self-tests are included here rather than all code required to run the self-tests. Attempting to run this code will fail, it is intended for reference only."
   ]
  },
  {
   "cell_type": "markdown",
   "metadata": {},
   "source": [
    "## Self Test - 1 Solution\n",
    "### Graph the prediction error for James Jones\n",
    "- Separate the shots by game\n",
    "- Interpret your result"
   ]
  },
  {
   "cell_type": "code",
   "execution_count": null,
   "metadata": {},
   "outputs": [],
   "source": [
    "James_Jones=Shotlog[(Shotlog.shoot_player == 'James Jones')]\n",
    "g = sns.FacetGrid(James_Jones, col=\"date\", col_wrap=4)\n",
    "g = g.map(plt.plot, \"time\", \"current_shot_hit\", marker='o', linewidth=0)"
   ]
  },
  {
   "cell_type": "markdown",
   "metadata": {},
   "source": [
    "## Self Test - 2 Solution\n",
    "\n",
    "Use regression analysis to test \"hot hand\" for Cheick Diallo\n",
    "1. Run an ordinary least square regression of current error on lagged error for Cheick Diallo.\n",
    "2. Run a weighted least sqaure regression of current error on lagged error for Cheick Diallo, weight=1/shot_per_game.\n",
    "3. Interpret your regression results."
   ]
  },
  {
   "cell_type": "code",
   "execution_count": null,
   "metadata": {},
   "outputs": [],
   "source": [
    "reg_Diallo = sm.ols(formula = 'error ~ lagerror+home_game+opponent_previous_shot+points+time_from_last_shot+quarter', data= Cheick_Diallo).fit()\n",
    "print(reg_Diallo.summary())"
   ]
  },
  {
   "cell_type": "code",
   "execution_count": null,
   "metadata": {},
   "outputs": [],
   "source": [
    "reg_Diallo_wls = sm.wls(formula = 'error ~ lagerror+home_game+opponent_previous_shot+points+time_from_last_shot+quarter',  weights=1/Cheick_Diallo['shot_per_game'] , data=Cheick_Diallo).fit()\n",
    "print(reg_Diallo_wls.summary())"
   ]
  }
 ],
 "metadata": {
  "kernelspec": {
   "display_name": "Python 3",
   "language": "python",
   "name": "python3"
  },
  "language_info": {
   "codemirror_mode": {
    "name": "ipython",
    "version": 3
   },
   "file_extension": ".py",
   "mimetype": "text/x-python",
   "name": "python",
   "nbconvert_exporter": "python",
   "pygments_lexer": "ipython3",
   "version": "3.7.4"
  }
 },
 "nbformat": 4,
 "nbformat_minor": 2
}
