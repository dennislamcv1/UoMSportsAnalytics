{
 "cells": [
  {
   "cell_type": "markdown",
   "metadata": {
    "scrolled": true
   },
   "source": [
    "### We will use the 2016-2017 basketball shot log data to demonstrate how to test the hot hand.\n",
    "\n",
    "#### Import useful libraries and the shot log data  "
   ]
  },
  {
   "cell_type": "markdown",
   "metadata": {},
   "source": [
    "#### Please note that the 3 lecture notebooks for this week must be run in order, as the following notebooks rely on the output of the previous "
   ]
  },
  {
   "cell_type": "code",
   "execution_count": null,
   "metadata": {},
   "outputs": [],
   "source": [
    "import pandas as pd\n",
    "import numpy as np\n",
    "\n",
    "Shotlog=pd.read_csv(\"../../Data/Week 6/Shotlog_16_17.csv\")\n",
    "Shotlog.head()"
   ]
  },
  {
   "cell_type": "code",
   "execution_count": null,
   "metadata": {},
   "outputs": [],
   "source": [
    "Shotlog.shape"
   ]
  },
  {
   "cell_type": "markdown",
   "metadata": {},
   "source": [
    "## Data Preparation\n",
    "\n",
    "### Missing Value"
   ]
  },
  {
   "cell_type": "code",
   "execution_count": null,
   "metadata": {},
   "outputs": [],
   "source": [
    "Shotlog.info()"
   ]
  },
  {
   "cell_type": "markdown",
   "metadata": {},
   "source": [
    "### Let’s create some useful variables. \n",
    "- Create dummy variables to indicate hit or miss of current shot and previous shot.\n"
   ]
  },
  {
   "cell_type": "code",
   "execution_count": null,
   "metadata": {},
   "outputs": [],
   "source": [
    "Shotlog['current_shot_hit'] = np.where(Shotlog['current_shot_outcome']==\"SCORED\", 1, 0)\n",
    "Shotlog.head()"
   ]
  },
  {
   "cell_type": "markdown",
   "metadata": {},
   "source": [
    "- Make sure the variable \"date\" is stored as a date type variable.\n"
   ]
  },
  {
   "cell_type": "code",
   "execution_count": null,
   "metadata": {},
   "outputs": [],
   "source": [
    "import datetime as dt\n",
    "Shotlog['date']=pd.to_datetime(Shotlog['date'])"
   ]
  },
  {
   "cell_type": "markdown",
   "metadata": {},
   "source": [
    "- Convert the variable \"time\" to be datetime type variable\n",
    " 1. We will first add the hour (00) to the time variable since the time variable will be stored in the format 'HH:MM:SS';\n",
    " 2. We will use \"to_timedelta\" to work with variable with only time information.\n"
   ]
  },
  {
   "cell_type": "code",
   "execution_count": null,
   "metadata": {},
   "outputs": [],
   "source": [
    "Shotlog['time'] = pd.to_timedelta('00:'+ Shotlog['time'])\n",
    "Shotlog['time'].describe()"
   ]
  },
  {
   "cell_type": "markdown",
   "metadata": {},
   "source": [
    "- Create lagged variable to indicate the result of the previous shot by the same player in the same game.\n",
    " 1. We will first sort the shot outcome by the quarter and time in the game;\n",
    " 2. We will group the data by player and game (date) and use the \"shift\" command to create a lag variable.\n"
   ]
  },
  {
   "cell_type": "code",
   "execution_count": null,
   "metadata": {},
   "outputs": [],
   "source": [
    "Shotlog['lag_shot_hit']=Shotlog.sort_values(by=['quarter','time'], ascending=[True, True]).groupby(['shoot_player','date'])['current_shot_hit'].shift(1)\n",
    "Shotlog.head()"
   ]
  },
  {
   "cell_type": "markdown",
   "metadata": {
    "scrolled": true
   },
   "source": [
    "#### We can sort the shot log data by player, game(date),  quarter, and time of the shot.\n",
    "\n"
   ]
  },
  {
   "cell_type": "code",
   "execution_count": null,
   "metadata": {},
   "outputs": [],
   "source": [
    "Shotlog.sort_values(by=['shoot_player', 'date', 'quarter', 'time'], ascending=[True, True, True, True])"
   ]
  },
  {
   "cell_type": "markdown",
   "metadata": {},
   "source": [
    "_Notice that for the first shots of the game by the given players, the lagged outcome variable will have missing value._\n",
    "\n",
    "#### Let's create a dataframe for average success rate of players over the season.\n",
    "\n",
    "Since the \"current_shot_hit\" variable is a dummy variable (=1 if hit, =0 if miss), the average of this variable would indicate the success rate of the player over the season."
   ]
  },
  {
   "cell_type": "code",
   "execution_count": null,
   "metadata": {},
   "outputs": [],
   "source": [
    "Player_Stats=Shotlog.groupby(['shoot_player'])['current_shot_hit'].mean()\n",
    "Player_Stats=Player_Stats.reset_index()\n",
    "Player_Stats.head()"
   ]
  },
  {
   "cell_type": "markdown",
   "metadata": {},
   "source": [
    "- Let's rename the \"current_shot_hit\" variable in the newly created date frame as \"average_hit\". \n"
   ]
  },
  {
   "cell_type": "code",
   "execution_count": null,
   "metadata": {},
   "outputs": [],
   "source": [
    "Player_Stats.rename(columns={'current_shot_hit':'average_hit'}, inplace=True)"
   ]
  },
  {
   "cell_type": "markdown",
   "metadata": {},
   "source": [
    "#### We will use the player statistics to analyze the hot hand. So we will merge average player statistics dataframe back to the shot log dataframe.\n"
   ]
  },
  {
   "cell_type": "code",
   "execution_count": null,
   "metadata": {},
   "outputs": [],
   "source": [
    "Shotlog=pd.merge(Shotlog, Player_Stats, on=['shoot_player'])\n",
    "Shotlog.head()"
   ]
  },
  {
   "cell_type": "markdown",
   "metadata": {},
   "source": [
    "- Create a variable to indicate the total number of shots recorded in the dataset for each player. \n"
   ]
  },
  {
   "cell_type": "code",
   "execution_count": null,
   "metadata": {},
   "outputs": [],
   "source": [
    "Player_Shots=Shotlog.groupby(['shoot_player']).size().reset_index(name='shot_count')"
   ]
  },
  {
   "cell_type": "code",
   "execution_count": null,
   "metadata": {},
   "outputs": [],
   "source": [
    "Player_Shots.sort_values(by=['shot_count'], ascending=[False]).head()"
   ]
  },
  {
   "cell_type": "markdown",
   "metadata": {},
   "source": [
    "We should also note that players have different number of shots in each individual game. We will need to treat the data differently for a player who had only two shots in a game compared to those who had attempted 30 in a game. \n",
    "\n",
    "- Create a variable to indicate the number of shots in each game for by each player.\n"
   ]
  },
  {
   "cell_type": "code",
   "execution_count": null,
   "metadata": {},
   "outputs": [],
   "source": [
    "Player_Game=Shotlog.groupby(['shoot_player','date']).size().reset_index(name='shot_per_game')\n",
    "Player_Game.head()"
   ]
  },
  {
   "cell_type": "markdown",
   "metadata": {},
   "source": [
    "#### We will merge the shot count data frames back to the shot log dataframe.\n"
   ]
  },
  {
   "cell_type": "code",
   "execution_count": null,
   "metadata": {},
   "outputs": [],
   "source": [
    "Shotlog=pd.merge(Shotlog, Player_Shots, on=['shoot_player'])\n",
    "Shotlog=pd.merge(Shotlog, Player_Game, on=['shoot_player','date'])\n",
    "display(Shotlog)"
   ]
  },
  {
   "cell_type": "markdown",
   "metadata": {},
   "source": [
    "#### We will sort the data again after merging.\n"
   ]
  },
  {
   "cell_type": "code",
   "execution_count": null,
   "metadata": {},
   "outputs": [],
   "source": [
    "Shotlog.sort_values(by=['shoot_player', 'date', 'quarter', 'time'], ascending=[True, True, True, True])"
   ]
  },
  {
   "cell_type": "markdown",
   "metadata": {},
   "source": [
    "#### We will treat the \"points\" and \"quarter\" variables as objects."
   ]
  },
  {
   "cell_type": "code",
   "execution_count": null,
   "metadata": {},
   "outputs": [],
   "source": [
    "Shotlog['points'] = Shotlog['points'].astype(object)\n",
    "Shotlog['quarter'] = Shotlog['quarter'].astype(object)"
   ]
  },
  {
   "cell_type": "markdown",
   "metadata": {},
   "source": [
    "#### Missing values\n",
    "- Drop observations with missing value in lagged variable.\n"
   ]
  },
  {
   "cell_type": "code",
   "execution_count": null,
   "metadata": {},
   "outputs": [],
   "source": [
    "Shotlog=Shotlog[pd.notnull(Shotlog[\"lag_shot_hit\"])]"
   ]
  },
  {
   "cell_type": "markdown",
   "metadata": {},
   "source": [
    "#### Let's take a quick look at the number of variables and the number of observations in our clean dataframe."
   ]
  },
  {
   "cell_type": "code",
   "execution_count": null,
   "metadata": {},
   "outputs": [],
   "source": [
    "Shotlog.shape"
   ]
  },
  {
   "cell_type": "markdown",
   "metadata": {},
   "source": [
    "### Save our updated data"
   ]
  },
  {
   "cell_type": "code",
   "execution_count": null,
   "metadata": {},
   "outputs": [],
   "source": [
    "Shotlog.to_csv(\"../../Data/Week 6/Shotlog1.csv\", index=False)\n",
    "Player_Stats.to_csv(\"../../Data/Week 6/Player_Stats1.csv\", index=False)\n",
    "Player_Shots.to_csv(\"../../Data/Week 6/Player_Shots1.csv\", index=False)\n",
    "Player_Game.to_csv(\"../../Data/Week 6/Player_Game1.csv\", index=False)"
   ]
  },
  {
   "cell_type": "code",
   "execution_count": null,
   "metadata": {},
   "outputs": [],
   "source": []
  }
 ],
 "metadata": {
  "kernelspec": {
   "display_name": "Python 3",
   "language": "python",
   "name": "python3"
  },
  "language_info": {
   "codemirror_mode": {
    "name": "ipython",
    "version": 3
   },
   "file_extension": ".py",
   "mimetype": "text/x-python",
   "name": "python",
   "nbconvert_exporter": "python",
   "pygments_lexer": "ipython3",
   "version": "3.6.7"
  }
 },
 "nbformat": 4,
 "nbformat_minor": 2
}
