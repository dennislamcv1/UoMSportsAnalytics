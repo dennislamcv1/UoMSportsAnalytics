{
 "cells": [
  {
   "cell_type": "markdown",
   "metadata": {},
   "source": [
    "# Using Summary Statistics to Examine the \"Hot Hand\"\n",
    "#### Import useful libraries and the updated shot log data"
   ]
  },
  {
   "cell_type": "code",
   "execution_count": null,
   "metadata": {},
   "outputs": [],
   "source": [
    "import pandas as pd\n",
    "import numpy as np\n",
    "import datetime as dt\n",
    "\n",
    "Shotlog=pd.read_csv(\"../../Data/Week 6/Shotlog1.csv\")\n",
    "Player_Stats=pd.read_csv(\"../../Data/Week 6/Player_Stats1.csv\")\n",
    "Player_Shots=pd.read_csv(\"../../Data/Week 6/Player_Shots1.csv\")\n",
    "Player_Game=pd.read_csv(\"../../Data/Week 6/Player_Game1.csv\")\n",
    "Shotlog.head()"
   ]
  },
  {
   "cell_type": "markdown",
   "metadata": {
    "scrolled": true
   },
   "source": [
    "## Conditional Probability\n",
    "We can first calculate the conditional probability of making a shot in the current period conditional on making the previous shot. \n",
    "$$Conditional \\ Probability=\\frac{Probability \\ of \\ Making \\ Consecutive \\ Shots}{Probability \\ of \\ Making \\ Previous \\ Shot}$$\n",
    "\n",
    "We will need to create a variable that indicates a player made consecutive shots."
   ]
  },
  {
   "cell_type": "code",
   "execution_count": null,
   "metadata": {},
   "outputs": [],
   "source": [
    "Shotlog['conse_shot_hit'] = np.where((Shotlog['current_shot_hit']==1)&(Shotlog['lag_shot_hit']==1), 1, 0) \n",
    "Shotlog.head()"
   ]
  },
  {
   "cell_type": "markdown",
   "metadata": {},
   "source": [
    "We can create a player level dataframe. The average of the variable \"conse_shot_hit\" would be the joint probability of making current and previous shots. We will also calculate the average of \"lag_shot_hit\" to indicate the probability of making the previous shot. "
   ]
  },
  {
   "cell_type": "code",
   "execution_count": null,
   "metadata": {},
   "outputs": [],
   "source": [
    "Player_Prob=Shotlog.groupby(['shoot_player'])['conse_shot_hit','lag_shot_hit'].mean()\n",
    "Player_Prob=Player_Prob.reset_index()\n",
    "Player_Prob.rename(columns={'lag_shot_hit':'average_lag_hit'}, inplace=True)\n",
    "Player_Prob.head()"
   ]
  },
  {
   "cell_type": "markdown",
   "metadata": {},
   "source": [
    "#### Calculate conditional probability for each player\n",
    "We can calculate the conditional probability by dividing the joint probability by the probability of making the previous shot."
   ]
  },
  {
   "cell_type": "code",
   "execution_count": null,
   "metadata": {},
   "outputs": [],
   "source": [
    "Player_Prob['conditional_prob']=Player_Prob['conse_shot_hit']/Player_Prob['average_lag_hit']\n",
    "Player_Prob.head()"
   ]
  },
  {
   "cell_type": "markdown",
   "metadata": {},
   "source": [
    "We can merge the \"Player_Prob\" data frame with the \"Player_Stats\" data frame we created earlier to compare the conditional probability and the unconditional probability. If the two probabilities are the same, or almost the same, then we fail to find evidence that the making the current shot depends on making the previous shot. "
   ]
  },
  {
   "cell_type": "code",
   "execution_count": null,
   "metadata": {},
   "outputs": [],
   "source": [
    "Player_Stats=pd.merge(Player_Prob, Player_Stats, on=['shoot_player'])\n",
    "Player_Stats.head(10)"
   ]
  },
  {
   "cell_type": "markdown",
   "metadata": {},
   "source": [
    "Let's first take a quick look at our \"Player_Stats\" data frame."
   ]
  },
  {
   "cell_type": "code",
   "execution_count": null,
   "metadata": {},
   "outputs": [],
   "source": [
    "Player_Stats.info()"
   ]
  },
  {
   "cell_type": "markdown",
   "metadata": {},
   "source": [
    "Note that when we created the \"conditional_prob\" variable, some observations may have missing value since the \"average_lag_shot\" variable may contain zero value. We will delete these observations with missing values in conditional probability."
   ]
  },
  {
   "cell_type": "code",
   "execution_count": null,
   "metadata": {},
   "outputs": [],
   "source": [
    "Player_Stats=Player_Stats[pd.notnull(Player_Stats[\"conditional_prob\"])]"
   ]
  },
  {
   "cell_type": "markdown",
   "metadata": {},
   "source": [
    "We can first check which players have the highest conditional probability, i.e., more likely to have hot hand.\n",
    "\n",
    "Let's sort the data by conditional probability."
   ]
  },
  {
   "cell_type": "code",
   "execution_count": null,
   "metadata": {},
   "outputs": [],
   "source": [
    "Player_Stats.sort_values(by=['conditional_prob'], ascending=[False]).head(10)"
   ]
  },
  {
   "cell_type": "markdown",
   "metadata": {},
   "source": [
    "Comparing the \"conditional_prob\" variable and the \"average_hit\" variable, some players have a slightly higher conditional probability but some also have a lower conditional probability.\n",
    "\n",
    "We can sort the data by the value of difference between conditional and unconditional probabilities. "
   ]
  },
  {
   "cell_type": "code",
   "execution_count": null,
   "metadata": {},
   "outputs": [],
   "source": [
    "Player_Stats['diff_prob']=Player_Stats['conditional_prob']-Player_Stats['average_hit']\n",
    "Player_Stats=pd.merge(Player_Stats, Player_Shots, on=['shoot_player'])\n",
    "Player_Stats.sort_values(by=['diff_prob'], ascending=[False]).head(10)"
   ]
  },
  {
   "cell_type": "markdown",
   "metadata": {},
   "source": [
    "Comparing the \"conditional_prob\" variable and the \"average_hit\" variable, some players have a slightly higher conditional probability but some also have a lower conditional probability. We can sort the data by the value of the difference between conditional and unconditional probabilities. We can see that Lamar Patterson has the highest difference between the two probabilities, at 30%. But we could also see that the sample size for Patterson is pretty small. For Joe Young and Damjan Rudez, we have about 80 observations and the difference in the probabilities is about 20%.  \n",
    "\n",
    "### T-test for statistical significance on the difference\n",
    "\n",
    "More rigorously, we can use a t-test to test if the players’ probability of hitting the goal is statistically significantly different than their conditional probability. \n",
    "\n",
    "We need to choose a significance level before we perform the test. If the test produces a p-value less than the chosen significance level, then we say that there is a statistically significant difference between the two probabilities; otherwise, we fail to find evidence to support that the two probabilities are statistically significantly different from each other. \n",
    "\n",
    "The most commonly used significance level is 0.05.\n",
    "\n",
    "#### To perform a t-test, we need to import a new library, \"scipy.stats.\""
   ]
  },
  {
   "cell_type": "code",
   "execution_count": null,
   "metadata": {},
   "outputs": [],
   "source": [
    "import scipy.stats as sp"
   ]
  },
  {
   "cell_type": "markdown",
   "metadata": {},
   "source": [
    "#### We can use the ttest_ind() function to calculate the test statistics.\n"
   ]
  },
  {
   "cell_type": "code",
   "execution_count": null,
   "metadata": {},
   "outputs": [],
   "source": [
    "sp.stats.ttest_ind(Player_Stats['conditional_prob'], Player_Stats['average_hit'])"
   ]
  },
  {
   "cell_type": "markdown",
   "metadata": {},
   "source": [
    "The first number is the t-statistics and the second number is the p-value. \n",
    "\n",
    "_Note that the p-value for the t test is about 0.10, which is higher than the conventional significance level 0.05. Thus the conditional probability is not statistically significantly different than the average success rate. In other words, in the analysis of conditional probability, we fail to find evidence to support the \"hot hand\"._"
   ]
  },
  {
   "cell_type": "markdown",
   "metadata": {},
   "source": [
    "## Autocorrelation Coefficient\n",
    "We can calculate the autocorrelation coefficient by calculating the correlation coefficient between the “current_shot_hit” variable and the “lag_shot_hit” variable. \n",
    "\n",
    "**Note: in python, you could use “autocorr(lag=1)” to calculate first order autocorrelation coefficient. This command is not very useful in our case since we want to look at the autocorrelation coefficient within each game. Using the built-in autocorrelation coefficient function in python, we will be treating the last shot from the previous game and the first shot of the subsequent game as a pair.**"
   ]
  },
  {
   "cell_type": "code",
   "execution_count": null,
   "metadata": {},
   "outputs": [],
   "source": [
    "Shotlog['current_shot_hit'].corr(Shotlog['lag_shot_hit'])"
   ]
  },
  {
   "cell_type": "markdown",
   "metadata": {},
   "source": [
    "_As we can see, the autocorrelation coefficient is negative and the magnitude is very small and close to zero._"
   ]
  },
  {
   "cell_type": "markdown",
   "metadata": {},
   "source": [
    "Since some players may have “hot hand”, and hence strong correlation between outcomes of adjacent shots, while some may not.  We can also calculate autocorrelation coefficient for each player."
   ]
  },
  {
   "cell_type": "code",
   "execution_count": null,
   "metadata": {},
   "outputs": [],
   "source": [
    "Shotlog.groupby('shoot_player')[['current_shot_hit','lag_shot_hit']].corr().head(10)"
   ]
  },
  {
   "cell_type": "markdown",
   "metadata": {},
   "source": [
    "#### We may not want to print out a 2 by 2 matrix for every player. We can use the \"unstack()\" command to reshape the data.\n",
    "\n"
   ]
  },
  {
   "cell_type": "code",
   "execution_count": null,
   "metadata": {},
   "outputs": [],
   "source": [
    "Autocorr_Hit=Shotlog.groupby('shoot_player')[['current_shot_hit','lag_shot_hit']].corr().unstack()\n",
    "Autocorr_Hit.head()"
   ]
  },
  {
   "cell_type": "markdown",
   "metadata": {},
   "source": [
    "Note that now each row represents a single player. But we still have duplicate information in the columns. \n",
    "\n",
    "#### We can use the \".iloc\" command to select the columns that we need.\n",
    "- In the iloc[,] command, we first specify the rows we want to select, then the columns, i.e., [rows, columns]\n",
    "- We want to select all rows, so we will have iloc[:,]\n",
    "- We only want to select the second column, which is indexed 1 (first column would be indexed 0, etc.)\n",
    "- So we will use the command iloc[:,1]\n",
    "\n",
    "Lastly, we will also reset the index so that the player names would become a variable."
   ]
  },
  {
   "cell_type": "code",
   "execution_count": null,
   "metadata": {},
   "outputs": [],
   "source": [
    "Autocorr_Hit=Shotlog.groupby('shoot_player')[['current_shot_hit','lag_shot_hit']].corr().unstack().iloc[:,1].reset_index()\n",
    "Autocorr_Hit.head()"
   ]
  },
  {
   "cell_type": "markdown",
   "metadata": {},
   "source": [
    "Notice that we still have two levels of variable names. \n",
    "\n",
    "#### We can use the \"get_level_values\" command to reset the variable name to the first level (index 0)."
   ]
  },
  {
   "cell_type": "code",
   "execution_count": null,
   "metadata": {},
   "outputs": [],
   "source": [
    "Autocorr_Hit.columns=Autocorr_Hit.columns.get_level_values(0)\n",
    "Autocorr_Hit.head()"
   ]
  },
  {
   "cell_type": "markdown",
   "metadata": {},
   "source": [
    "Let's rename the variable capturing autocorrelation coefficient."
   ]
  },
  {
   "cell_type": "code",
   "execution_count": null,
   "metadata": {},
   "outputs": [],
   "source": [
    "Autocorr_Hit.rename(columns={'current_shot_hit':'autocorr'}, inplace=True)\n",
    "Autocorr_Hit.head()"
   ]
  },
  {
   "cell_type": "markdown",
   "metadata": {},
   "source": [
    "#### How informative the autocorrelation coefficient also depends on the number of shots per game for each player. Let's add the number of shots and the number of shots per game to the autocorrelation matrix  and sort the data by the size of autocorrelation coefficient."
   ]
  },
  {
   "cell_type": "code",
   "execution_count": null,
   "metadata": {},
   "outputs": [],
   "source": [
    "Player_Game_Shot=Player_Game.groupby([\"shoot_player\"])['shot_per_game'].mean().reset_index(name='avg_shot_game')\n",
    "Player_Game_Shot.head()"
   ]
  },
  {
   "cell_type": "code",
   "execution_count": null,
   "metadata": {},
   "outputs": [],
   "source": [
    "Autocorr_Hit=pd.merge(Autocorr_Hit, Player_Game_Shot, on=['shoot_player'])\n",
    "Autocorr_Hit.sort_values(by=['autocorr'], ascending=[False]).head(10)"
   ]
  },
  {
   "cell_type": "markdown",
   "metadata": {},
   "source": [
    "We will merge the Player_Game_Shot dataframe to the Player_Shots dataframe since both dataframes are measured in player level and both contain information on the number of shots."
   ]
  },
  {
   "cell_type": "code",
   "execution_count": null,
   "metadata": {},
   "outputs": [],
   "source": [
    "Player_Shots=pd.merge(Player_Shots, Player_Game_Shot, on=['shoot_player'])\n",
    "Player_Shots.head()"
   ]
  },
  {
   "cell_type": "markdown",
   "metadata": {},
   "source": [
    "### Save updated data"
   ]
  },
  {
   "cell_type": "code",
   "execution_count": null,
   "metadata": {
    "scrolled": true
   },
   "outputs": [],
   "source": [
    "Shotlog.to_csv(\"../../Data/Week 6/Shotlog2.csv\", index=False)\n",
    "Player_Stats.to_csv(\"../../Data/Week 6/Player_Stats2.csv\", index=False)\n",
    "Player_Shots.to_csv(\"../../Data/Week 6/Player_Shots2.csv\", index=False)"
   ]
  },
  {
   "cell_type": "code",
   "execution_count": null,
   "metadata": {},
   "outputs": [],
   "source": []
  }
 ],
 "metadata": {
  "kernelspec": {
   "display_name": "Python 3",
   "language": "python",
   "name": "python3"
  },
  "language_info": {
   "codemirror_mode": {
    "name": "ipython",
    "version": 3
   },
   "file_extension": ".py",
   "mimetype": "text/x-python",
   "name": "python",
   "nbconvert_exporter": "python",
   "pygments_lexer": "ipython3",
   "version": "3.6.7"
  }
 },
 "nbformat": 4,
 "nbformat_minor": 2
}
