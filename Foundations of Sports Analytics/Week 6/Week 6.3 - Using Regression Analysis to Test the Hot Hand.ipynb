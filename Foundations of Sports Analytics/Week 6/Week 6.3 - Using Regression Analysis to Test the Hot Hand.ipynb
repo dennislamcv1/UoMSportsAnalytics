{
 "cells": [
  {
   "cell_type": "markdown",
   "metadata": {
    "scrolled": true
   },
   "source": [
    "## Using Regression Analysis to Test the \"Hot Hand\"\n",
    "\n",
    "In this section, we will use regression analysis to test for the \"hot hand.\" \n",
    "\n",
    "#### Import useful libraries and the shot log data"
   ]
  },
  {
   "cell_type": "code",
   "execution_count": null,
   "metadata": {},
   "outputs": [],
   "source": [
    "import pandas as pd\n",
    "import numpy as np\n",
    "import datetime as dt\n",
    "import statsmodels.formula.api as sm\n",
    "import matplotlib.pyplot as plt\n",
    "import seaborn as sns\n",
    "\n",
    "Shotlog=pd.read_csv(\"../../Data/Week 6/Shotlog2.csv\")\n",
    "Player_Stats=pd.read_csv(\"../../Data/Week 6/Player_Stats2.csv\")\n",
    "Player_Shots=pd.read_csv(\"../../Data/Week 6/Player_Shots2.csv\")\n",
    "Shotlog.head()"
   ]
  },
  {
   "cell_type": "markdown",
   "metadata": {},
   "source": [
    "### Prediction Error\n",
    "Let's create a variable that equals to the difference between the outcome of the shot and the average success rate. Since we typically use the average success rate to predict the outcome of the shot, this difference will capture the prediction error. "
   ]
  },
  {
   "cell_type": "code",
   "execution_count": null,
   "metadata": {},
   "outputs": [],
   "source": [
    "Shotlog['error']=Shotlog['current_shot_hit']-Shotlog['average_hit']\n",
    "Shotlog['lagerror']=Shotlog['lag_shot_hit']-Shotlog['average_hit']"
   ]
  },
  {
   "cell_type": "markdown",
   "metadata": {},
   "source": [
    "We can graph the outcome of the shots to see if there is any pattern over time in the variable.\n",
    "\n",
    "We will look at LeBron James' performance during the regular season as an example."
   ]
  },
  {
   "cell_type": "code",
   "execution_count": null,
   "metadata": {},
   "outputs": [],
   "source": [
    "Shotlog['time'] = pd.to_timedelta(Shotlog['time'])\n",
    "Shotlog['time'].describe()"
   ]
  },
  {
   "cell_type": "markdown",
   "metadata": {},
   "source": [
    "We will first graph the outcome of LeBron James' shots in a single game on April 9th, 2017.\n",
    "\n",
    "(To make this graph, we use a small trick. Instead of asking Python to produce a scatter plot with the \"plot.scatter\" command, we ask Python to graph a line plot, but specify the width of the line to be 0. So essentially we produce a scatter plot. The reason we do it this way is because in Python, scatter plot requires the x axis to be numeric. It does not allow scatter plot where the x axis is a date or time variable.)"
   ]
  },
  {
   "cell_type": "code",
   "execution_count": null,
   "metadata": {},
   "outputs": [],
   "source": [
    "Shotlog[(Shotlog.shoot_player == 'LeBron James')&(Shotlog.date=='2017-04-09')].plot(x='time', y='current_shot_hit', marker='o', linewidth=0)"
   ]
  },
  {
   "cell_type": "markdown",
   "metadata": {},
   "source": [
    "Let's create a graph of the outcomes of individual shots for Lebron James throughout the regular season. We will create a subgraph for each game he played.\n",
    "\n",
    "\n",
    "We will first subset a dataset that includes only LeBron James' data."
   ]
  },
  {
   "cell_type": "code",
   "execution_count": null,
   "metadata": {},
   "outputs": [],
   "source": [
    "LeBron_James=Shotlog[(Shotlog.shoot_player == 'LeBron James')]\n",
    "LeBron_James.head()"
   ]
  },
  {
   "cell_type": "markdown",
   "metadata": {},
   "source": [
    "Now we can graph prediction error for LeBron James for all the games separately in the season."
   ]
  },
  {
   "cell_type": "code",
   "execution_count": null,
   "metadata": {},
   "outputs": [],
   "source": [
    "g = sns.FacetGrid(LeBron_James, col=\"date\", col_wrap=4)\n",
    "g = g.map(plt.plot, \"time\", \"current_shot_hit\", marker='o', linewidth=0)\n",
    "g.set_axis_labels(\"Game\", \"Shots\");"
   ]
  },
  {
   "cell_type": "markdown",
   "metadata": {},
   "source": [
    "We will do a similar exercise for the statistics of Cheick Diallo.\n"
   ]
  },
  {
   "cell_type": "code",
   "execution_count": null,
   "metadata": {},
   "outputs": [],
   "source": [
    "Cheick_Diallo=Shotlog[(Shotlog.shoot_player == 'Cheick Diallo')]\n",
    "g = sns.FacetGrid(Cheick_Diallo, col=\"date\", col_wrap=4)\n",
    "g = g.map(plt.plot, \"time\", \"current_shot_hit\", marker='o', linewidth=0)"
   ]
  },
  {
   "cell_type": "markdown",
   "metadata": {},
   "source": [
    "## Self Test - 1\n",
    "### Graph the prediction error for James Jones\n",
    "- Separate the shots by game\n",
    "- Interpret your result"
   ]
  },
  {
   "cell_type": "code",
   "execution_count": null,
   "metadata": {},
   "outputs": [],
   "source": [
    "#Your Code Here"
   ]
  },
  {
   "cell_type": "markdown",
   "metadata": {},
   "source": [
    "### Regression analysis on prediction error\n",
    "We will first run a simple regression of the prediction error of current period on the prediction error of previous period."
   ]
  },
  {
   "cell_type": "code",
   "execution_count": null,
   "metadata": {},
   "outputs": [],
   "source": [
    "reg1 = sm.ols(formula = 'error ~ lagerror', data= Shotlog).fit()\n",
    "print(reg1.summary())"
   ]
  },
  {
   "cell_type": "markdown",
   "metadata": {},
   "source": [
    "_The estimated coefficient of the lagged error is statistically significant. However, the R-Squared for this regression is also zero. This means that our specified linear model is not a good fit for our data at all!_\n",
    "\n",
    "There are a lot of factors that may influence the success of shot, for example, the player’s own skill as a shooter, the type of the shot, the atmosphere of the stadium (whether it is home or away game), and whether it is at the beginning or towards the end of the game. Let’s add these control variables in our regression."
   ]
  },
  {
   "cell_type": "code",
   "execution_count": null,
   "metadata": {
    "scrolled": true
   },
   "outputs": [],
   "source": [
    "reg2 = sm.ols(formula = 'error ~ lagerror+player_position+home_game+opponent_previous_shot+C(points)+time_from_last_shot+C(quarter)', data= Shotlog).fit()\n",
    "print(reg2.summary())"
   ]
  },
  {
   "cell_type": "markdown",
   "metadata": {},
   "source": [
    "_We can see that the R-squared is now increased to 0.015 which is still very small. The estimate on lagerror is statistically significant, but the magnitude of the estimate is -0.0136 which is still very small. And it is negative, meaning that the success of the previous shot would hurt the chance of the subsequent shot. This is contrary to what the hot hand predicts._  \n",
    "\n",
    "### Weighted least squares regression\n",
    "As we have seen, some players had a lot of shot per game while some just had a few. Different players may have different variations in their success rate in the shots. We can run a weighted least squared regression to address this problem. \n",
    "\n",
    "Weighted least squares estimation weights the observations proportional to the reciprocal of the error variance of the observation. Thus weighted least squares can overcome the issue of non-constant variance.\n",
    "\n",
    "#### We can use the “sm.wls” command to run the weighted least square regression weighted by the number of shot per game (weight=1/shot_per_game)."
   ]
  },
  {
   "cell_type": "code",
   "execution_count": null,
   "metadata": {},
   "outputs": [],
   "source": [
    "reg3 = sm.wls(formula = 'error ~ lagerror+player_position+home_game+opponent_previous_shot+points+time_from_last_shot+quarter',  weights=1/Shotlog['shot_per_game'] , data= Shotlog).fit()\n",
    "print(reg3.summary())"
   ]
  },
  {
   "cell_type": "markdown",
   "metadata": {},
   "source": [
    "From our summary statistics, some players exhibit a stream of the success while some don’t. In our previous regressions, we are grouping all the players together. Let’s see if we can find any effect if we look at individual players.\n",
    "\n",
    "#### Regression analysis on individual players\n",
    "\n",
    "Run a regression of current error on lagged error for LeBron James."
   ]
  },
  {
   "cell_type": "code",
   "execution_count": null,
   "metadata": {
    "scrolled": true
   },
   "outputs": [],
   "source": [
    "reg_LeBron = sm.ols(formula = 'error ~ lagerror+home_game+opponent_previous_shot+C(points)+time_from_last_shot+C(quarter)', data= LeBron_James).fit()\n",
    "print(reg_LeBron.summary())"
   ]
  },
  {
   "cell_type": "markdown",
   "metadata": {},
   "source": [
    "Similarly, we can run a weighted least squares estimation on LeBron James’ prediction error, weighted by the number of shot he made in each game."
   ]
  },
  {
   "cell_type": "code",
   "execution_count": null,
   "metadata": {},
   "outputs": [],
   "source": [
    "reg_LeBron_wls = sm.wls(formula = 'error ~ lagerror+home_game+opponent_previous_shot+points+time_from_last_shot+quarter',  weights=1/LeBron_James['shot_per_game'] , data= LeBron_James).fit()\n",
    "print(reg_LeBron_wls.summary())"
   ]
  },
  {
   "cell_type": "markdown",
   "metadata": {},
   "source": [
    "We can also take a look back at LeBron James’ autocorrelation coefficient. "
   ]
  },
  {
   "cell_type": "code",
   "execution_count": null,
   "metadata": {},
   "outputs": [],
   "source": [
    "Shotlog[(Shotlog.shoot_player == 'LeBron James')][['current_shot_hit','lag_shot_hit']].corr()"
   ]
  },
  {
   "cell_type": "markdown",
   "metadata": {},
   "source": [
    "_The autocorrelation coefficient between the outcomes of the current shot and the previous shot for LeBron James is very small._\n",
    "\n",
    "We can do a similar exercise for James Jones. We will start with an ordinary least square regression. "
   ]
  },
  {
   "cell_type": "code",
   "execution_count": null,
   "metadata": {},
   "outputs": [],
   "source": [
    "reg_Jones = sm.ols(formula = 'error ~ lagerror+home_game+opponent_previous_shot+C(points)+time_from_last_shot+C(quarter)', data= James_Jones).fit()\n",
    "print(reg_Jones.summary())"
   ]
  },
  {
   "cell_type": "markdown",
   "metadata": {},
   "source": [
    "We will also run a weighted least squares estimation on Jones' statistics. Weight=1/shot_per_game."
   ]
  },
  {
   "cell_type": "code",
   "execution_count": null,
   "metadata": {},
   "outputs": [],
   "source": [
    "reg_Jones_wls = sm.wls(formula = 'error ~ lagerror+home_game+opponent_previous_shot+points+time_from_last_shot+quarter',  weights=1/James_Jones['shot_per_game'] , data= James_Jones).fit()\n",
    "print(reg_Jones_wls.summary())"
   ]
  },
  {
   "cell_type": "markdown",
   "metadata": {},
   "source": [
    "## Self Test - 2\n",
    "\n",
    "Use regression analysis to test \"hot hand\" for Cheick Diallo\n",
    "1. Run an ordinary least square regression of current error on lagged error for Cheick Diallo.\n",
    "2. Run a weighted least sqaure regression of current error on lagged error for Cheick Diallo, weight=1/shot_per_game.\n",
    "3. Interpret your regression results."
   ]
  },
  {
   "cell_type": "code",
   "execution_count": null,
   "metadata": {},
   "outputs": [],
   "source": [
    "#Your Code Here"
   ]
  },
  {
   "cell_type": "code",
   "execution_count": null,
   "metadata": {},
   "outputs": [],
   "source": [
    "#Your Code Here"
   ]
  },
  {
   "cell_type": "markdown",
   "metadata": {},
   "source": [
    "#### More generally, we can define functions to run regressions for each individual player. \n",
    "\n",
    "- Define a function to run ordinary least square regression by player."
   ]
  },
  {
   "cell_type": "code",
   "execution_count": null,
   "metadata": {},
   "outputs": [],
   "source": [
    "def reg_player(player):\n",
    "    Shotlog_player=Shotlog[Shotlog.shoot_player==player]\n",
    "    reg_player=sm.ols(formula = 'error ~ lagerror+home_game+opponent_previous_shot+points+time_from_last_shot+quarter', data= Shotlog_player).fit()\n",
    "    print(reg_player.summary())\n",
    "    return; "
   ]
  },
  {
   "cell_type": "markdown",
   "metadata": {},
   "source": [
    "We can then use this function for individual player, for example, Russell Westbrook."
   ]
  },
  {
   "cell_type": "code",
   "execution_count": null,
   "metadata": {},
   "outputs": [],
   "source": [
    "reg_player('Russell Westbrook')"
   ]
  },
  {
   "cell_type": "markdown",
   "metadata": {},
   "source": [
    "- Define a function to run weighted least square regression by player."
   ]
  },
  {
   "cell_type": "code",
   "execution_count": null,
   "metadata": {},
   "outputs": [],
   "source": [
    "def reg_wls_player(player):\n",
    "    Shotlog_player=Shotlog[Shotlog.shoot_player==player]\n",
    "    reg_wls_player=sm.wls(formula = 'error ~ lagerror+home_game+opponent_previous_shot+points+time_from_last_shot+quarter',weights=1/Shotlog_player['shot_per_game'] , data= Shotlog_player).fit()\n",
    "    print(reg_wls_player.summary())\n",
    "    return; "
   ]
  },
  {
   "cell_type": "markdown",
   "metadata": {},
   "source": [
    "Let's use this function to run a weighted least squares estimation for Russell Westbrook."
   ]
  },
  {
   "cell_type": "code",
   "execution_count": null,
   "metadata": {},
   "outputs": [],
   "source": [
    "reg_wls_player('Russell Westbrook')"
   ]
  },
  {
   "cell_type": "markdown",
   "metadata": {},
   "source": [
    "#### We can extract estimated coefficient on the lagged error for each player. \n",
    "- Create a list of unique player names"
   ]
  },
  {
   "cell_type": "code",
   "execution_count": null,
   "metadata": {},
   "outputs": [],
   "source": [
    "player_list = np.array(Shotlog['shoot_player'])\n",
    "player_list = np.unique(player_list)"
   ]
  },
  {
   "cell_type": "code",
   "execution_count": null,
   "metadata": {},
   "outputs": [],
   "source": [
    "player_list[0]"
   ]
  },
  {
   "cell_type": "markdown",
   "metadata": {},
   "source": [
    "- Run weighted least squares regression for each player by specifying \"shoot_play==player_list[index]\""
   ]
  },
  {
   "cell_type": "code",
   "execution_count": null,
   "metadata": {},
   "outputs": [],
   "source": [
    "Shotlog_player=Shotlog[Shotlog.shoot_player==player_list[0]]\n",
    "reg_player=sm.wls(formula = 'error ~ lagerror+home_game+opponent_previous_shot+points+time_from_last_shot+quarter', weights=1/Shotlog_player['shot_per_game'], data= Shotlog_player).fit()\n",
    "print(reg_player.summary())"
   ]
  },
  {
   "cell_type": "markdown",
   "metadata": {},
   "source": [
    "- Extract the estimated coefficients, along with the p-value and t-statistics of the estimates and store them in a dataframe"
   ]
  },
  {
   "cell_type": "code",
   "execution_count": null,
   "metadata": {},
   "outputs": [],
   "source": [
    "RegParams = pd.DataFrame(reg_player.params).reset_index()\n",
    "RegTvals = pd.DataFrame(reg_player.tvalues).reset_index()\n",
    "RegPvals = pd.DataFrame(reg_player.pvalues).reset_index()\n",
    "\n",
    "RegOutput = pd.merge(RegParams, RegTvals, on=['index'])\n",
    "RegOutput = pd.merge(RegOutput, RegPvals, on=['index'])\n",
    "RegOutput"
   ]
  },
  {
   "cell_type": "markdown",
   "metadata": {},
   "source": [
    "- Write a loop to extract regression outputs for each player"
   ]
  },
  {
   "cell_type": "code",
   "execution_count": null,
   "metadata": {},
   "outputs": [],
   "source": [
    "i = 0 \n",
    "Player_Results = {}\n",
    "while i <= len(player_list) - 1:\n",
    "    Shotlog_player=Shotlog[Shotlog.shoot_player==player_list[i]]\n",
    "    reg_player=sm.wls(formula = 'error ~ lagerror+home_game+opponent_previous_shot+points+time_from_last_shot+quarter', weights=1/Shotlog_player['shot_per_game'], data= Shotlog_player).fit()\n",
    "    RegParams = pd.DataFrame(reg_player.params).reset_index()\n",
    "    RegTvals = pd.DataFrame(reg_player.tvalues).reset_index()\n",
    "    RegPvals = pd.DataFrame(reg_player.pvalues).reset_index()\n",
    "\n",
    "    RegOutput = pd.merge(RegParams, RegTvals, on=['index'])\n",
    "    RegOutput = pd.merge(RegOutput, RegPvals, on=['index'])\n",
    "    RegOutput\n",
    "    \n",
    "    LagErr = RegOutput[RegOutput['index'] == 'lagerror']\n",
    "    LagErr = LagErr.drop(columns=['index'])\n",
    "    LagErr = LagErr.rename(columns={\"0_x\":\"Coef\", \"0_y\":\"T_Statistics\", 0:\"P_Value\"})\n",
    "    LagErr['shoot_player'] = player_list[i]\n",
    "    Headers = ['shoot_player', 'Coef', 'T_Statistics', 'P_Value']\n",
    "    Player_Results[i] = LagErr[Headers]\n",
    "    i = i+1"
   ]
  },
  {
   "cell_type": "markdown",
   "metadata": {},
   "source": [
    "- Write another loop to build a dataframe to store the regression output for all the players"
   ]
  },
  {
   "cell_type": "code",
   "execution_count": null,
   "metadata": {},
   "outputs": [],
   "source": [
    "RegPlayer = Player_Results[0]\n",
    "j = 1\n",
    "while j <= len(player_list) - 1:\n",
    "    RegPlayer = RegPlayer.append(Player_Results[j])\n",
    "    j = j+1\n",
    "RegPlayer = RegPlayer.reset_index()\n",
    "RegPlayer = RegPlayer.drop(columns=['index'])\n",
    "RegPlayer"
   ]
  },
  {
   "cell_type": "markdown",
   "metadata": {},
   "source": [
    "- Merge the total number of shots captured in \"Player_Shots\" to the regression result dataframe. This total number of shots represents the sample size of each regression"
   ]
  },
  {
   "cell_type": "code",
   "execution_count": null,
   "metadata": {},
   "outputs": [],
   "source": [
    "RegPlayer=pd.merge(RegPlayer, Player_Shots, on=['shoot_player'])\n",
    "RegPlayer.head()"
   ]
  },
  {
   "cell_type": "markdown",
   "metadata": {},
   "source": [
    "- Display players with statistically significant estimates on the lagged error variable"
   ]
  },
  {
   "cell_type": "code",
   "execution_count": null,
   "metadata": {},
   "outputs": [],
   "source": [
    "display(RegPlayer.loc[RegPlayer['P_Value']<=0.05])"
   ]
  },
  {
   "cell_type": "markdown",
   "metadata": {},
   "source": [
    "_There are a total of 38 players with statistically significant estimates on the lagged error variable, that is, the success of their previous shots impact the success rate of their current shot. Interestingly, more than half of these estimates are negative, which means that a success in the previous shot actually hurts the chance of scoring in the current shot. This is the opposite of a \"hot hand.\"_\n",
    "\n",
    "_Overall from our regression analyses, 8 players, Boris Diaw, Brandon Rush, Frank Kaminsky, Joe Young, Jose Calderon, Kyle Wiltjer, Omri Casspi, Robert Covington, and Tony Parker have positive and statistically significant estimate on the lagged error variable. Thus, these players may have \"hot hand.\" Note that the estimate for Kyle Wiltjer is 1 and there are only a total of 14 observations for him. We need to interpret his result with caution._"
   ]
  },
  {
   "cell_type": "code",
   "execution_count": null,
   "metadata": {},
   "outputs": [],
   "source": [
    "#Save updated data to csv file\n",
    "Shotlog.to_csv(\"../../Data/Week 6/Shotlog3.csv\")\n",
    "Player_Stats.to_csv(\"../../Data/Week 6/Player_Stats3.csv\", index=False)\n",
    "Player_Shots.to_csv(\"../../Data/Week 6/Player_Shots3.csv\", index=False)"
   ]
  },
  {
   "cell_type": "code",
   "execution_count": null,
   "metadata": {},
   "outputs": [],
   "source": []
  }
 ],
 "metadata": {
  "kernelspec": {
   "display_name": "Python 3",
   "language": "python",
   "name": "python3"
  },
  "language_info": {
   "codemirror_mode": {
    "name": "ipython",
    "version": 3
   },
   "file_extension": ".py",
   "mimetype": "text/x-python",
   "name": "python",
   "nbconvert_exporter": "python",
   "pygments_lexer": "ipython3",
   "version": "3.6.7"
  }
 },
 "nbformat": 4,
 "nbformat_minor": 2
}
