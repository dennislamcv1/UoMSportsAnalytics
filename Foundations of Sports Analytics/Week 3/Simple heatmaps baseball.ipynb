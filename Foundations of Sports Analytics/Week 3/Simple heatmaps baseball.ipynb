{
 "cells": [
  {
   "cell_type": "markdown",
   "metadata": {},
   "source": [
    "# Visualizing sports data: baseball\n",
    "\n",
    "In this notebook we're going to look at ways of visualizing performance in baseball. Our data was obtained from MLBAM (Major League Baseball Advanced Media) which make available online play-by-play statistics that can be used for data analytics. The data is produced annually, and in any season there are around 200,000 individual events in Major League Baseball. This data will prove extemely useful in the next course: Moneyball and Beyond. \n",
    "\n",
    "Our analysis here is going to focus on where the ball was hit, which is recorded using (x, y) co-ordinates. This data is  easy to graph and is illuminating. \n",
    "\n",
    "We're going to look at five different ways to visualize the data:\n",
    "\n",
    "1. Locations of hits broken down by singles, doubles, triples and home runs (for those not familiar with baseball this refers to base reached by the batter following a hit- first, second or third base, or, in the case of a home run, all run bases to score a run).\n",
    "2. Locations by hits (where the batter successfully reaches a base) versus outs (where the runner is caught or thrown out).\n",
    "3. Locations by handedness - to show the difference between lefties and righties.\n",
    "4. Locations by individual batters- to show how batters differ.\n",
    "5. Locations by stadium \n",
    "\n",
    "Graphs which show the distribution of locations are sometimes called \"heatmaps\" - because they show not only location, but the frequency with which a particular location appears. At a later stage we will look at the code for generating a more advanced heatmap, but in this notebook we're going to create very simple ones."
   ]
  },
  {
   "cell_type": "code",
   "execution_count": null,
   "metadata": {},
   "outputs": [],
   "source": [
    "# Import the packages we need\n",
    "# matplotlib will enable us to produce all our dataplots in this session.\n",
    "\n",
    "import pandas as pd\n",
    "import matplotlib.pyplot as plt"
   ]
  },
  {
   "cell_type": "code",
   "execution_count": null,
   "metadata": {},
   "outputs": [],
   "source": [
    "# Read in MLBAM Data for 2018\n",
    "\n",
    "MLBAM18 = pd.read_csv(\"../../Data/Week 3/MLBAM18.csv\")\n",
    "MLBAM18.drop(['Unnamed: 0'], axis=1, inplace=True)\n",
    "pd.set_option('display.max_columns', 100)\n",
    "display(MLBAM18)"
   ]
  },
  {
   "cell_type": "code",
   "execution_count": null,
   "metadata": {},
   "outputs": [],
   "source": [
    "# The dataframe contains a lot of variables - most of which we won't need for this exercise\n",
    "\n",
    "print(MLBAM18.columns.tolist())"
   ]
  },
  {
   "cell_type": "markdown",
   "metadata": {},
   "source": [
    "So we now restrict the data to a manageable set of variables. Note that the data contains co-ordinates 'x' and 'y' as well as 'our.x' and 'our.y' The difference here is the point of view: 'x' and'y' are looking toward the batter from the bleachers, 'our.x' and 'our.y' are looking from behind the batter. We'll adopt the more conventional view by using 'our.x' and 'our.y'."
   ]
  },
  {
   "cell_type": "code",
   "execution_count": null,
   "metadata": {},
   "outputs": [],
   "source": [
    "# Limiting the set of variables\n",
    "\n",
    "MLBmap = MLBAM18[['gameId','home_team','away_team','stadium','inning', 'batterId', 'batterName',\\\n",
    "                  'pitcherId', 'pitcherName','event','timestamp','stand', 'throws','x','y','our.x','our.y']]\n",
    "MLBmap"
   ]
  },
  {
   "cell_type": "markdown",
   "metadata": {},
   "source": [
    "We focus a good deal on different events, so it is useful to list them before we go any further. We can do this using .unique(): "
   ]
  },
  {
   "cell_type": "code",
   "execution_count": null,
   "metadata": {},
   "outputs": [],
   "source": [
    "MLBmap['event'].unique()"
   ]
  },
  {
   "cell_type": "markdown",
   "metadata": {},
   "source": [
    "## 1. A plot of coordinates\n",
    "\n",
    "This is a basic scatter plot. Note the of 's = ' to control the size of the markers, 'c = ' to control the color and 'marker =' to control the size of the marker. For an index of colors and marker styles you can visit these websites: https://matplotlib.org/3.1.1/api/markers_api.html and https://matplotlib.org/3.1.0/gallery/color/named_colors.html"
   ]
  },
  {
   "cell_type": "code",
   "execution_count": null,
   "metadata": {},
   "outputs": [],
   "source": [
    "plt.scatter(MLBmap['our.x'],MLBmap['our.y'], s=.001,c='r', marker= '.')"
   ]
  },
  {
   "cell_type": "markdown",
   "metadata": {},
   "source": [
    "Although this is a scatter plot, we are able to use very small dots and as a result we can see the pattern of where the ball lands more frequently on the baseball diamond. Note that the pattern reveals very clearly the shape of the baseball field, even though the results are drawn from multiple ballparks which have slightly different dimensions. The most intense colors are around the infield bases and the pitcher's mound (at the bottom of the screen). In the outfield, the deepest colors are around the locations where outfielders are typically stationed. Note the space between these outfield locations and the infield has realtively few dots, given that balls which might land there have usually been stopped by an infielder."
   ]
  },
  {
   "cell_type": "markdown",
   "metadata": {},
   "source": [
    "# Self test\n",
    "\n",
    "Use 'x' and 'y' coordinate values to generate the view from the other end of the field."
   ]
  },
  {
   "cell_type": "markdown",
   "metadata": {},
   "source": [
    "## Plotting hits\n",
    "\n",
    "A 'hit' in baseball is is when the batter succeeds in getting on base by hitting the ball. A hit might enable the batter to reach first base (a single), second base (a double), third base (a triple) or to round all the bases (a home run). We now map each of these events for the 2018 season."
   ]
  },
  {
   "cell_type": "code",
   "execution_count": null,
   "metadata": {},
   "outputs": [],
   "source": [
    "# 2. Plot of singles\n",
    "\n",
    "Single = MLBmap[MLBmap.event == 'Single']\n",
    "plt.scatter(Single['our.x'],Single['our.y'], s=.02,c='darkorange', marker= '.')"
   ]
  },
  {
   "cell_type": "markdown",
   "metadata": {},
   "source": [
    "From the more intensely colored areas, it's clear that singles are scored in two types of situations: (i) when the ball gets over the infield and reaches one of the outfielders (note that there are few singles scored when the ball goes beyond the outfielders because such a hit will likely produce *more* than a single) and (ii) when the ball is hit along the left foul line, typically between the third baseman and pitcher. Such a hit is usually produced by a \"bunt\", where the batter intends to just touch the ball and let it roll, and use his speed to reach first base before a fielder can recover the ball."
   ]
  },
  {
   "cell_type": "code",
   "execution_count": null,
   "metadata": {},
   "outputs": [],
   "source": [
    "# 3. Plot of doubles\n",
    "\n",
    "Double = MLBmap[MLBmap.event == 'Double']\n",
    "plt.scatter(Double['our.x'],Double['our.y'], s=1,c='dodgerblue', marker= '.')"
   ]
  },
  {
   "cell_type": "markdown",
   "metadata": {},
   "source": [
    "We see quite a different pattern with doubles. A big hit to the infield hardly ever results in a double, and outfield hits are typically hit along the foul lines, over the heads of the outfielders. The spaces within sprinting distance of the outfielders are largely empty, since doubles are usually produced by balls hit into the air and are caught if the outfielders are close enough.\n",
    "\n",
    "Note that since these events are rarer than singles, we use a larger market size to make sure the distribution is clearly visible."
   ]
  },
  {
   "cell_type": "markdown",
   "metadata": {},
   "source": [
    "## Self test\n",
    "\n",
    "Experiment with different sizes, different markers and different colors to find the best effects."
   ]
  },
  {
   "cell_type": "code",
   "execution_count": null,
   "metadata": {},
   "outputs": [],
   "source": [
    "# 4. Plot of triples\n",
    "\n",
    "Triple = MLBmap[MLBmap.event == 'Triple']\n",
    "plt.scatter(Triple['our.x'],Triple['our.y'], s=1,c='g', marker= '.')"
   ]
  },
  {
   "cell_type": "markdown",
   "metadata": {},
   "source": [
    "Triples are much rarer even than doubles. Mostly these are created by hits along the right foul line or over the heads of the outfielders."
   ]
  },
  {
   "cell_type": "code",
   "execution_count": null,
   "metadata": {},
   "outputs": [],
   "source": [
    "# 5. plot of home runs\n",
    "\n",
    "Homer = MLBmap[MLBmap.event == 'Home Run']\n",
    "plt.scatter(Homer['our.x'],Homer['our.y'], s=.20,c='m', marker= '.')\n",
    "#ax.set(xlim=(-300,300), ylim=(0,450))\n",
    "plt.ylim((0,500))"
   ]
  },
  {
   "cell_type": "markdown",
   "metadata": {},
   "source": [
    "By definition, a home run is hit out of the park. This plot therefore not only illustrates the boundaries of the ballparks and the distance the ball is hit, but also, to some extent, the differing dimensions of ballparks. Some of the dots on the inside of the semi-circle would not reach beyond the outfield of some ballparks. "
   ]
  },
  {
   "cell_type": "markdown",
   "metadata": {},
   "source": [
    "We can now plot the four scatter diagrams together, to make comparison easier, we can set a common scale for the vertical axis."
   ]
  },
  {
   "cell_type": "code",
   "execution_count": null,
   "metadata": {},
   "outputs": [],
   "source": [
    "# 6. the four plots: Singles, doubles, triples and home runs\n",
    "\n",
    "f = plt.figure(figsize=(15,3))\n",
    "ax = f.add_subplot(141)\n",
    "ax=plt.scatter(Single['our.x'],Single['our.y'], s=.01,c='darkorange', marker= '.')\n",
    "plt.ylim((0,500))\n",
    "ax = f.add_subplot(142)\n",
    "ax=plt.scatter(Double['our.x'],Double['our.y'], s=.1,c='dodgerblue', marker= '.')\n",
    "plt.ylim((0,500))\n",
    "ax = f.add_subplot(143)\n",
    "ax = plt.scatter(Triple['our.x'],Triple['our.y'], s=1,c='g', marker= '.')\n",
    "plt.ylim((0,500))\n",
    "ax = f.add_subplot(144)\n",
    "ax = plt.scatter(Homer['our.x'],Homer['our.y'], s=.5,c='m', marker= '.')\n",
    "plt.ylim((0,500))"
   ]
  },
  {
   "cell_type": "code",
   "execution_count": null,
   "metadata": {},
   "outputs": [],
   "source": [
    "#7. A single plot - the four types of hit on one plot \n",
    "\n",
    "ax=plt.scatter(Single['our.x'],Single['our.y'], s=.01,c='darkorange', marker= '.')\n",
    "ax=plt.scatter(Double['our.x'],Double['our.y'], s=.1,c='dodgerblue', marker= '.')\n",
    "ax = plt.scatter(Triple['our.x'],Triple['our.y'], s=1,c='g', marker= '.')\n",
    "ax = plt.scatter(Homer['our.x'],Homer['our.y'], s=.5,c='m', marker= '.')"
   ]
  },
  {
   "cell_type": "markdown",
   "metadata": {},
   "source": [
    "Another way to use the scatter diagram is to compare at-bats which result in a hit, and at-bats that result in an out. First we generate the two scatter plots separately, then we create them alongside each other."
   ]
  },
  {
   "cell_type": "code",
   "execution_count": null,
   "metadata": {},
   "outputs": [],
   "source": [
    "# Outs\n",
    "Outs = MLBmap[(MLBmap.event == 'Groundout')|(MLBmap.event == 'Flyout')| (MLBmap.event == 'Pop Out')|\n",
    "             (MLBmap.event == 'Forceout')|(MLBmap.event == 'Lineout')| (MLBmap.event == 'Grounded Into DP')]\n",
    "plt.scatter(Outs['our.x'],Outs['our.y'], s=.01,c='r', marker= '.')"
   ]
  },
  {
   "cell_type": "code",
   "execution_count": null,
   "metadata": {},
   "outputs": [],
   "source": [
    "# Hits\n",
    "Hits = MLBmap[(MLBmap.event == 'Single')|(MLBmap.event == 'Double')| (MLBmap.event == 'Triple')|\n",
    "             (MLBmap.event == 'Home Run')]\n",
    "plt.scatter(Hits['our.x'],Hits['our.y'], s=.01,c='b', marker= '.')"
   ]
  },
  {
   "cell_type": "code",
   "execution_count": null,
   "metadata": {},
   "outputs": [],
   "source": [
    "# Hits vs. Outs\n",
    "f = plt.figure(figsize=(15,3))\n",
    "ax = f.add_subplot(131)\n",
    "ax=plt.scatter(Outs['our.x'],Outs['our.y'], s=.01,c='r', marker= '.')\n",
    "ax2 = f.add_subplot(132)\n",
    "ax2 = plt.scatter(Hits['our.x'],Hits['our.y'], s=.01,c='b', marker= '.')\n",
    "ax3 = f.add_subplot(133)\n",
    "ax3=plt.scatter(Outs['our.x'],Outs['our.y'], s=.01,c='r', marker= '.')\n",
    "ax3=plt.scatter(Hits['our.x'],Hits['our.y'], s=.01,c='b', marker= '.')"
   ]
  },
  {
   "cell_type": "markdown",
   "metadata": {},
   "source": [
    "What is striking about this comparison is that the locations of hits and outs are largely complementary. For example, the densest region of hits is precisely that region between the infield and the outfield where outs are relatively sparse. It is also clear hits which reach the fence (typically home runs) have no corresponding outs, while outs which involve the batter being caught in foul territory have no corresponding hits."
   ]
  },
  {
   "cell_type": "markdown",
   "metadata": {},
   "source": [
    "## Self Test\n",
    "\n",
    "Now look at the category of fielding errors (\"Field Error\"). Draw a chart of their location. What do you notice?"
   ]
  },
  {
   "cell_type": "markdown",
   "metadata": {},
   "source": [
    "We now turn to comparing stadiums. Ballparks do not have identical dimensions, and so we can look to see if the pattern of co-ordinates is different. First, it is useful to create a list of stadiums."
   ]
  },
  {
   "cell_type": "code",
   "execution_count": null,
   "metadata": {},
   "outputs": [],
   "source": [
    "# 7. Summary list of stadiums\n",
    "\n",
    "stadiums = MLBmap.groupby('stadium')['gameId'].count().reset_index()\n",
    "stadiums"
   ]
  },
  {
   "cell_type": "markdown",
   "metadata": {},
   "source": [
    "Tropicana Field is said to be the smallest ballpark and Dodger Stadium the largest ballpark - so let's compare the heatmaps."
   ]
  },
  {
   "cell_type": "code",
   "execution_count": null,
   "metadata": {},
   "outputs": [],
   "source": [
    "# 8. Tropicana Field\n",
    "\n",
    "Trop = MLBmap[MLBmap.stadium == 'Tropicana Field']\n",
    "plt.scatter(Trop['our.x'],Trop['our.y'], s=1,c='r', marker= '.')"
   ]
  },
  {
   "cell_type": "code",
   "execution_count": null,
   "metadata": {},
   "outputs": [],
   "source": [
    "# 9. Dodger Stadium \n",
    "\n",
    "Dodge = MLBmap[MLBmap.stadium == 'Dodger Stadium']\n",
    "plt.scatter(Dodge['our.x'],Dodge['our.y'], s=1,c='dodgerblue', marker= '.')"
   ]
  },
  {
   "cell_type": "code",
   "execution_count": null,
   "metadata": {},
   "outputs": [],
   "source": [
    "# 10. Tropicana Field and Dodger Stadium\n",
    "\n",
    "# In fact the heatmaps don't look so different.\n",
    "\n",
    "\n",
    "f = plt.figure(figsize=(15,3))\n",
    "ax = f.add_subplot(131)\n",
    "ax=plt.scatter(Trop['our.x'],Trop['our.y'], s=.5,c='r', marker= '.')\n",
    "ax2 = f.add_subplot(132)\n",
    "ax2=plt.scatter(Dodge['our.x'],Dodge['our.y'], s=.5,c='dodgerblue', marker= '.')\n",
    "ax3 = f.add_subplot(133)\n",
    "ax3 = plt.scatter(Trop['our.x'],Trop['our.y'], s=.5,c='r', marker= '.')\n",
    "ax3 = plt.scatter(Dodge['our.x'],Dodge['our.y'], s=.5,c='dodgerblue', marker= '.')"
   ]
  },
  {
   "cell_type": "markdown",
   "metadata": {
    "slideshow": {
     "slide_type": "slide"
    }
   },
   "source": [
    "In this case there does not appear to be a significant difference between the distributions.\n",
    "\n",
    "Another use for this technique is to compare where the players hit. Batters are identified in the data as lefties or righties. First we list all the players, and then choose a righty - Justin Turner, with a lefty Nick Maskakis. As you can see below, they each ranked among the players with the largest numbers of at-bat in 2018."
   ]
  },
  {
   "cell_type": "code",
   "execution_count": null,
   "metadata": {
    "scrolled": true
   },
   "outputs": [],
   "source": [
    "# 11. Comparing players\n",
    "\n",
    "# We use a pivot table here to list players by at bats\n",
    "\n",
    "playersn = MLBmap.groupby('batterId')['batterName'].describe().reset_index()\n",
    "playersn.sort_values(by = 'count', ascending = False)"
   ]
  },
  {
   "cell_type": "code",
   "execution_count": null,
   "metadata": {},
   "outputs": [],
   "source": [
    "# 12. Compare a righty (R) to a lefty (L)\n",
    "\n",
    "# Turner (R)\n",
    "\n",
    "b607208 = MLBmap[MLBmap.batterId == 607208]\n",
    "plt.scatter(b607208['our.x'],b607208['our.y'], s=10,c='r', marker= '.')"
   ]
  },
  {
   "cell_type": "code",
   "execution_count": null,
   "metadata": {},
   "outputs": [],
   "source": [
    "# 13. Markakis (L)\n",
    "\n",
    "b455976 = MLBmap[MLBmap.batterId == 455976]\n",
    "plt.scatter(b455976['our.x'],b455976['our.y'], s=10,c='b', marker= '.')"
   ]
  },
  {
   "cell_type": "code",
   "execution_count": null,
   "metadata": {},
   "outputs": [],
   "source": [
    "# 14. Turner and Markakis together\n",
    "\n",
    "plt.scatter(b607208['our.x'],b607208['our.y'], s=10,c='r', marker= '.')\n",
    "plt.scatter(b455976['our.x'],b455976['our.y'], s=10,c='b', marker= '.')\n"
   ]
  },
  {
   "cell_type": "code",
   "execution_count": null,
   "metadata": {},
   "outputs": [],
   "source": [
    "# 15. Turner and Markakis in three plots\n",
    "\n",
    "f = plt.figure(figsize=(15,3))\n",
    "ax = f.add_subplot(131)\n",
    "ax=plt.scatter(b607208['our.x'],b607208['our.y'], s=10,c='darkorange', marker= '.')\n",
    "ax2 = f.add_subplot(132)\n",
    "ax2=plt.scatter(b455976['our.x'],b455976['our.y'], s=5,c='b', marker= '.')\n",
    "ax3 = f.add_subplot(133)\n",
    "ax3 = plt.scatter(b607208['our.x'],b607208['our.y'], s=10,c='darkorange', marker= '.')\n",
    "ax3 = plt.scatter(b455976['our.x'],b455976['our.y'], s=5,c='b', marker= '.')"
   ]
  },
  {
   "cell_type": "markdown",
   "metadata": {},
   "source": [
    "This series of charts makes quite clear the difference between the lefty and the righty. Both are \"opposite field hitters\" - the ball tends to travel toward the side of the field they are facing - rather than being \"pull hitters\". While both hit roughly equally into centerfield, it's noticeable that they each hit further into the opposite field.\n",
    "\n"
   ]
  },
  {
   "cell_type": "markdown",
   "metadata": {},
   "source": [
    "## Self Test\n",
    "\n",
    "Choose a lefty and righty with more average looking statistics - how do their heatmaps compare?"
   ]
  },
  {
   "cell_type": "markdown",
   "metadata": {},
   "source": [
    "We now compare all lefties with all righties:"
   ]
  },
  {
   "cell_type": "code",
   "execution_count": null,
   "metadata": {},
   "outputs": [],
   "source": [
    "# 16. Overall heatmap for lefties and righties\n",
    "\n",
    "# Lefties\n",
    "\n",
    "Left = MLBmap[MLBmap.stand == 'L']\n",
    "plt.scatter(Left['our.x'],Left['our.y'], s=.01,c='r', marker= '.')\n"
   ]
  },
  {
   "cell_type": "code",
   "execution_count": null,
   "metadata": {},
   "outputs": [],
   "source": [
    "# 17. Righties\n",
    "\n",
    "Right = MLBmap[MLBmap.stand == 'R']\n",
    "plt.scatter(Right['our.x'],Right['our.y'], s=.01,c='b', marker= '.')"
   ]
  },
  {
   "cell_type": "code",
   "execution_count": null,
   "metadata": {},
   "outputs": [],
   "source": [
    "# 18. Lefties and Righties in three plots\n",
    "\n",
    "f = plt.figure(figsize=(15,3))\n",
    "ax = f.add_subplot(131)\n",
    "ax=plt.scatter(Left['our.x'],Left['our.y'], s=.01,c='r', marker= '.')\n",
    "ax2 = f.add_subplot(132)\n",
    "ax2=plt.scatter(Right['our.x'],Right['our.y'], s=.01,c='b', marker= '.')\n",
    "ax3 = f.add_subplot(133)\n",
    "ax3 = plt.scatter(Left['our.x'],Left['our.y'], s=.01,c='r', marker= '.')\n",
    "ax3 = plt.scatter(Right['our.x'],Right['our.y'], s=.01,c='b', marker= '.')"
   ]
  },
  {
   "cell_type": "markdown",
   "metadata": {},
   "source": [
    "What's striking about this comparison is that, in aggregate, both lefties and righties are pull hitters, and are able to hit the ball further when pull hitting. "
   ]
  },
  {
   "cell_type": "markdown",
   "metadata": {},
   "source": [
    "# Conclusion\n",
    "\n",
    "We have shown how simply drawing charts can provide considerable insight into performance statistics of all kinds. Charts allow us to see patterns that we might not otherwise notice. Before moving on to more complex methods of analysis, we examine some plots for basketball data."
   ]
  },
  {
   "cell_type": "code",
   "execution_count": null,
   "metadata": {},
   "outputs": [],
   "source": []
  }
 ],
 "metadata": {
  "kernelspec": {
   "display_name": "Python 3",
   "language": "python",
   "name": "python3"
  },
  "language_info": {
   "codemirror_mode": {
    "name": "ipython",
    "version": 3
   },
   "file_extension": ".py",
   "mimetype": "text/x-python",
   "name": "python",
   "nbconvert_exporter": "python",
   "pygments_lexer": "ipython3",
   "version": "3.6.7"
  }
 },
 "nbformat": 4,
 "nbformat_minor": 2
}
