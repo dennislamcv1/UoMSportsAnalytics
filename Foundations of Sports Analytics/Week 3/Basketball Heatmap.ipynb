{
 "cells": [
  {
   "cell_type": "markdown",
   "metadata": {},
   "source": [
    "# Visualizing sports data: basketball\n",
    "\n",
    "In this notebook we're going to look at ways of visualizing performance in basketball. We are going to use the data that we were introduced to last week.\n",
    "\n",
    "Our analysis here is going to focus on the where the ball was thrown from, which is recorded using (x, y) co-ordinates, in the same way that we had the coordinates for the baseball data. This data is  easy to graph and illuminating. \n",
    "\n",
    "We choose three different ways to look at the data\n",
    "\n",
    "1. shot outcome: scored, missed or blocked\n",
    "2. shot types by player\n",
    "3. narrowing the focus to a particular region of the court\n",
    "\n"
   ]
  },
  {
   "cell_type": "code",
   "execution_count": null,
   "metadata": {},
   "outputs": [],
   "source": [
    "# As usual, we begin by importing the packages we will need\n",
    "\n",
    "import pandas as pd\n",
    "import numpy as np\n",
    "import matplotlib.pyplot as plt"
   ]
  },
  {
   "cell_type": "code",
   "execution_count": null,
   "metadata": {},
   "outputs": [],
   "source": [
    "# The data consists of the shot log for the NBA season 2016/17\n",
    "\n",
    "shot = pd.read_csv(\"../../Data/Week 3/NBA Shotlog_16_17.csv\")\n",
    "pd.set_option('display.max_columns', 100)\n",
    "print(shot.columns.tolist())\n",
    "shot.describe()"
   ]
  },
  {
   "cell_type": "markdown",
   "metadata": {},
   "source": [
    "From the print() command we have a good deal of information on each shot, including the name of the player, the type of shot, team names, time in the game and so on. From the .describe() we can see that there are over 210,000 shots in the data although there is a small number of shots with missing coordinates (around 400). Also note that the x-axis location variable (this is the sideline) ranges from 0 to 993, while the y-axis variable (this is the baseline) runs from 0 to 500.\n",
    "\n",
    "We can generate a simple plot as follows:"
   ]
  },
  {
   "cell_type": "code",
   "execution_count": null,
   "metadata": {},
   "outputs": [],
   "source": [
    "# A simple plot of coordinates\n",
    "\n",
    "x = shot['location_x']\n",
    "y = shot['location_y']\n",
    "plt.scatter(x,y, s=.005,c='r', marker= '.')"
   ]
  },
  {
   "cell_type": "markdown",
   "metadata": {},
   "source": [
    "One point to note about the data is that it does not include free throws - otherwise there would be a deep red concentration at the center of the free throw line.\n",
    "\n",
    "The plot above gives us a very clear picture of the location of shots, notably from under the basket and from the three point line. However, the plot does not take account of the proportions of the court. Moreover, it would be useful to add a grid to identify more clearly the different locations.\n",
    "\n",
    "The dimensions of the court defined by the NBA are 94 feet by 50 feet. We can specify that ratio using figsize = (a,b). Note that we can also scale this to control the size of the plot in our window (we divide both the x and y figsize by 6)."
   ]
  },
  {
   "cell_type": "code",
   "execution_count": null,
   "metadata": {},
   "outputs": [],
   "source": [
    "# A simple plot of coordinates, scaled for court dimensions and with grid added.\n",
    "\n",
    "plt.figure(figsize=(94/6,50/6))\n",
    "plt.scatter(x,y, s=.1,c='r', marker= '.')\n",
    "plt.minorticks_on()\n",
    "plt.grid(which='major', linestyle='-', linewidth='.5', color='black')\n",
    "plt.grid(which='minor', linestyle=':', linewidth='0.5', color='red')"
   ]
  },
  {
   "cell_type": "markdown",
   "metadata": {},
   "source": [
    "Rather than look at both ends of the court, we can just look at one half of the court by fixing the range of the x axis using plt.xlim, which we set to cover the right hand half court. Note that to maintain the same dimensions we also need to halve the x axis on figsize (to 94/12 rather than 94/6)."
   ]
  },
  {
   "cell_type": "code",
   "execution_count": null,
   "metadata": {},
   "outputs": [],
   "source": [
    "# The right hand half court\n",
    "\n",
    "plt.figure(figsize=(94/12,50/6))\n",
    "plt.scatter(x,y, s=.1,c='r', marker= '.')\n",
    "plt.minorticks_on()\n",
    "plt.grid(which='major', linewidth='.5', color='black')\n",
    "plt.grid(which='minor', linewidth='.5', color='red')\n",
    "plt.xlim(933/2, 933)"
   ]
  },
  {
   "cell_type": "markdown",
   "metadata": {},
   "source": [
    "The last plot just shows us one half of the court. To include both halves but show only the half court, we can convert the coordinates from the left hand half court so that they have the same relative location on the right hand half court (of course, there should be no real difference in performance based on which end of the court the player is attacking, and the two halves are mirror images of each other).\n",
    "\n",
    "We can convert the plot to show shots from both ends on a half court if we adjust the coordinates. The x-axis runs from 0 to 933, so if we want to just show the right hand half court with all shots, we can recode the location_x variables, where x is less the 933/2 (the left had half court) as equal to \"933 - location_x\". This produces a mirror image of the x coordinate in the right hand half of the court. However, since the direction toward the basket is the reverse of the other half court, we need to take the mirror image of the y coordinate for shots in the left had half court - that is \"500 - location_y\".\n",
    "\n",
    "The following code (which works like an \"if\" statement in Excel) creates these mirror images:"
   ]
  },
  {
   "cell_type": "code",
   "execution_count": null,
   "metadata": {},
   "outputs": [],
   "source": [
    "shot['halfcourt_x'] =np.where(shot['location_x'] < 933/2, 933 - shot['location_x'],shot['location_x'])\n",
    "shot['halfcourt_y'] =np.where(shot['location_x'] < 933/2, 500 - shot['location_y'],shot['location_y'])\n",
    "shot.describe()"
   ]
  },
  {
   "cell_type": "markdown",
   "metadata": {},
   "source": [
    "Note that the sideline coordinates now only run between 468 and 933, but that the baseline coordinates still run between 0 and 500, even though all the y locations have been changed. We can now plot the half court data, noting that we now halve the x axis in figsize, to preserve the same proportions as before."
   ]
  },
  {
   "cell_type": "code",
   "execution_count": null,
   "metadata": {},
   "outputs": [],
   "source": [
    "# all shots shown on a half court\n",
    "\n",
    "hx = shot['halfcourt_x']\n",
    "hy = shot['halfcourt_y']\n",
    "plt.figure(figsize=(94/12,50/6))\n",
    "plt.scatter(hx,hy, s=.01,c='r', marker= '.')\n",
    "plt.minorticks_on()\n",
    "plt.grid(which='major', linestyle='-', linewidth='.5', color='black')\n",
    "plt.grid(which='minor', linestyle=':', linewidth='0.5', color='red')\n",
    "plt.title(\"Shots\", fontsize = 15)\n"
   ]
  },
  {
   "cell_type": "markdown",
   "metadata": {},
   "source": [
    "## Easy self test\n",
    "\n",
    "Experiment with different sized markers. What size do you think gives you the best visual representation of the data? Why? "
   ]
  },
  {
   "cell_type": "markdown",
   "metadata": {},
   "source": [
    "## More difficult self test\n",
    "\n",
    "Show all the shots on a halfcourt, but show the data with the baseline on the left, not on the right."
   ]
  },
  {
   "cell_type": "markdown",
   "metadata": {},
   "source": [
    "We now breakdown shots into three categories: scored, missed and blocked. To do this we simply create subsets of the shot df based on shot outcome."
   ]
  },
  {
   "cell_type": "code",
   "execution_count": null,
   "metadata": {},
   "outputs": [],
   "source": [
    "# Scoring shots\n",
    "\n",
    "Scored = shot[shot.current_shot_outcome == 'SCORED']\n",
    "hxs = Scored['halfcourt_x']\n",
    "hys = Scored['halfcourt_y']\n",
    "plt.figure(figsize=(94/12,50/6))\n",
    "plt.scatter(hxs,hys, s=.01,c='g', marker= '.')\n",
    "plt.minorticks_on()\n",
    "plt.grid(which='major', linestyle='-', linewidth='.5', color='black')\n",
    "plt.grid(which='minor', linestyle=':', linewidth='0.5', color='red')\n",
    "plt.title(\"Scored\", fontsize = 15)\n"
   ]
  },
  {
   "cell_type": "code",
   "execution_count": null,
   "metadata": {},
   "outputs": [],
   "source": [
    "# Missed Shots\n",
    "\n",
    "Missed = shot[shot.current_shot_outcome == 'MISSED']\n",
    "\n",
    "hxm = Missed['halfcourt_x']\n",
    "hym = Missed['halfcourt_y']\n",
    "\n",
    "plt.figure(figsize=(94/12,50/6))\n",
    "plt.scatter(hxm,hym, s=.01,c='b', marker= '.')\n",
    "plt.minorticks_on()\n",
    "plt.grid(which='major', linestyle='-', linewidth='.5', color='black')\n",
    "plt.grid(which='minor', linestyle=':', linewidth='0.5', color='red')\n",
    "plt.title(\"Missed\", fontsize = 15)"
   ]
  },
  {
   "cell_type": "code",
   "execution_count": null,
   "metadata": {},
   "outputs": [],
   "source": [
    "# Blocked shots\n",
    "\n",
    "Blocked = shot[shot.current_shot_outcome == 'BLOCKED']\n",
    "\n",
    "hxb = Blocked['halfcourt_x']\n",
    "hyb = Blocked['halfcourt_y']\n",
    "\n",
    "plt.figure(figsize=(94/12,50/6))\n",
    "plt.scatter(hxb,hyb, s=1,c='m', marker= '.')\n",
    "plt.minorticks_on()\n",
    "plt.grid(which='major', linestyle='-', linewidth='.5', color='black')\n",
    "plt.grid(which='minor', linestyle=':', linewidth='0.5', color='red')\n",
    "plt.title(\"Blocked\", fontsize = 15)\n"
   ]
  },
  {
   "cell_type": "markdown",
   "metadata": {},
   "source": [
    "While informative, the location of shots by shot type is not that surprising. There has been a lot of interest in recent years in the rise of the 3-point shot with evidence suggesting that in the past there were more more shots from distance inside the three-point line, and that these have tended to die out since the payoff is much lower than a shot from just outside the three-point. We don't have past data here to make the comparison.\n",
    "\n",
    "Probably the greatest interest lies in comparing individual players. We can do this easily by taking subsets as we did above. First it's useful to generate a list of player names."
   ]
  },
  {
   "cell_type": "code",
   "execution_count": null,
   "metadata": {
    "scrolled": true
   },
   "outputs": [],
   "source": [
    "# Comparing players\n",
    "\n",
    "# We use a pivot table here to list players by shots\n",
    "\n",
    "playersn = shot.groupby('shoot_player')['current_shot_outcome'].describe().reset_index()\n",
    "playersn.sort_values(by = 'count', ascending = False)"
   ]
  },
  {
   "cell_type": "markdown",
   "metadata": {},
   "source": [
    "We now compare LeBron James with Steph Curry. "
   ]
  },
  {
   "cell_type": "code",
   "execution_count": null,
   "metadata": {
    "scrolled": true
   },
   "outputs": [],
   "source": [
    "# LeBron subset\n",
    "\n",
    "LeBron = shot[shot['shoot_player']=='LeBron James']\n",
    "LeBron"
   ]
  },
  {
   "cell_type": "code",
   "execution_count": null,
   "metadata": {},
   "outputs": [],
   "source": [
    "# LeBron plot\n",
    "# Note how the shots can be color coded using an np.where statement. \n",
    "\n",
    "hxL = LeBron['halfcourt_x']\n",
    "hyL = LeBron['halfcourt_y']\n",
    "colors = np.where(LeBron['current_shot_outcome']=='SCORED','r',np.where(LeBron['current_shot_outcome']=='MISSED','b','g'))\n",
    "plt.figure(figsize=(94/12,50/6))\n",
    "plt.scatter(hxL,hyL, s=10, c= colors, marker= '.')\n",
    "plt.grid(True)\n",
    "plt.title(\"LeBron James\", fontsize = 15)"
   ]
  },
  {
   "cell_type": "code",
   "execution_count": null,
   "metadata": {},
   "outputs": [],
   "source": [
    "# Steph Curry plot\n",
    "\n",
    "Curry = shot[shot['shoot_player']=='Stephen Curry']\n",
    "hxC = Curry['halfcourt_x']\n",
    "hyC = Curry['halfcourt_y']\n",
    "colors = np.where(Curry['current_shot_outcome']=='SCORED','r',np.where(Curry['current_shot_outcome']=='MISSED','b','g'))\n",
    "plt.figure(figsize=(94/12,50/6))\n",
    "plt.scatter(hxC,hyC, s=10, c= colors, marker= '.')\n",
    "plt.grid(True)\n",
    "plt.title(\"Steph Curry\", fontsize = 15)"
   ]
  },
  {
   "cell_type": "code",
   "execution_count": null,
   "metadata": {},
   "outputs": [],
   "source": [
    "# LeBron James and Steph Curry side by side\n",
    "\n",
    "f = plt.figure(figsize=(94/6,50/6))\n",
    "ax = f.add_subplot(121)\n",
    "colors = np.where(LeBron['current_shot_outcome']=='SCORED','r',np.where(LeBron['current_shot_outcome']=='MISSED','b','g'))\n",
    "ax = plt.scatter(hxL,hyL, s=10, c= colors, marker= '.')\n",
    "plt.grid(True)\n",
    "plt.title(\"LeBron James\", fontsize = 15)\n",
    "ax = f.add_subplot(122)\n",
    "colors = np.where(Curry['current_shot_outcome']=='SCORED','r',np.where(Curry['current_shot_outcome']=='MISSED','b','g'))\n",
    "ax = plt.scatter(hxC,hyC, s=10, c= colors, marker= '.')\n",
    "plt.grid(True)\n",
    "plt.title(\"Steph Curry\", fontsize = 15)"
   ]
  },
  {
   "cell_type": "markdown",
   "metadata": {},
   "source": [
    "These simple plots make clear some of the differences between the two players. It is clearly visible that Curry shoots more from the three-point line than LeBron, while LeBron is more active on the paint. Some more subtle differences are also visible. LeBron is more active on the left hand side of the court, while Curry is equally active on both sides. Curry also shoots more thre-pointers from the corners."
   ]
  },
  {
   "cell_type": "markdown",
   "metadata": {},
   "source": [
    "## Self Test\n",
    "\n",
    "Identify two other players in the data and generate a similar comparison for those players."
   ]
  },
  {
   "cell_type": "raw",
   "metadata": {},
   "source": [
    "As a final exercise we zoom in on the data to see what it looks like close up. We can identify a particular location based on our grid. First, we look at shots from the paint. We can define the paint here as x coordinates between 700 and 900, and y coordinates 200 and 300. We first create this subset, then we create the plot."
   ]
  },
  {
   "cell_type": "code",
   "execution_count": null,
   "metadata": {},
   "outputs": [],
   "source": [
    "# Define the subset\n",
    "\n",
    "rect1 = shot[(((shot['location_x']>700) & (shot['location_x']<900)) & \\\n",
    "                 ((shot['location_y'] > 200) & (shot['location_y'] < 300)))]\n",
    "rect1"
   ]
  },
  {
   "cell_type": "code",
   "execution_count": null,
   "metadata": {},
   "outputs": [],
   "source": [
    "# Shots on the paint\n",
    "\n",
    "xr = rect1['location_x']\n",
    "yr = rect1['location_y']\n",
    "colors = np.where(rect1['current_shot_outcome']=='SCORED','r',np.where(rect1['current_shot_outcome']=='MISSED','b','g'))\n",
    "plt.figure(figsize=(94/6,50/6))\n",
    "plt.scatter(xr,yr, s=50, c= colors, marker= '.')\n",
    "plt.grid(True)"
   ]
  },
  {
   "cell_type": "markdown",
   "metadata": {},
   "source": [
    "Note how the locations appear in vertical lines. This reflects the fact that the resolution of the location coding is finite. The difference between adjacent vertical lines on this plot is approximately one inch (2.5cm).\n",
    "\n",
    "But we can still zoom in further. Below we look at the area immediately under the basket:"
   ]
  },
  {
   "cell_type": "code",
   "execution_count": null,
   "metadata": {
    "scrolled": true
   },
   "outputs": [],
   "source": [
    "# subset area\n",
    "\n",
    "rect2 = shot[(((shot['location_x']>850) & (shot['location_x']<875)) & \\\n",
    "                 ((shot['location_y'] > 240) & (shot['location_y'] < 260)))]\n",
    "rect2"
   ]
  },
  {
   "cell_type": "code",
   "execution_count": null,
   "metadata": {},
   "outputs": [],
   "source": [
    "# Shots under the basket\n",
    "\n",
    "xq = rect2['location_x']\n",
    "yq = rect2['location_y']\n",
    "colors = np.where(rect2['current_shot_outcome']=='SCORED','r',np.where(rect2['current_shot_outcome']=='MISSED','b','g'))\n",
    "plt.figure(figsize=(94/6,50/6))\n",
    "plt.scatter(xq,yq, s=50, c= colors, marker= '.')\n",
    "plt.grid(True)"
   ]
  },
  {
   "cell_type": "markdown",
   "metadata": {},
   "source": [
    "It turns out that this degree of resolution is not very informative. The problem is that the all the points are piled upon each other and there is nothing in between - recalling that the gaps are still approximately one inch. It would only be possble to extract a reliable picture if the data were even more fine grained."
   ]
  },
  {
   "cell_type": "markdown",
   "metadata": {},
   "source": [
    "# Conclusion\n",
    "\n",
    "Using charts can be incredibly helpful in understanding the pattern of events on the field/court/pitch/ice. Charts can suggest to us logical relationships which may exist, but they do not quantify them. In the next two weeks we turn to regression analysis, which is one of the most common ways to quantify relationships among variables."
   ]
  },
  {
   "cell_type": "code",
   "execution_count": null,
   "metadata": {},
   "outputs": [],
   "source": []
  }
 ],
 "metadata": {
  "kernelspec": {
   "display_name": "Python 3",
   "language": "python",
   "name": "python3"
  },
  "language_info": {
   "codemirror_mode": {
    "name": "ipython",
    "version": 3
   },
   "file_extension": ".py",
   "mimetype": "text/x-python",
   "name": "python",
   "nbconvert_exporter": "python",
   "pygments_lexer": "ipython3",
   "version": "3.6.7"
  }
 },
 "nbformat": 4,
 "nbformat_minor": 2
}
