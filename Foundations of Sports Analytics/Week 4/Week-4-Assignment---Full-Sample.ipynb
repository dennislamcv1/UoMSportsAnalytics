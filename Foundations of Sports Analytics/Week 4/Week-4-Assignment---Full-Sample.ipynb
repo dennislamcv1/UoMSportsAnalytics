{
 "cells": [
  {
   "cell_type": "markdown",
   "metadata": {},
   "source": [
    "## Quiz 1 - Import and Explore Data \n",
    "1.Import useful libraries"
   ]
  },
  {
   "cell_type": "code",
   "execution_count": null,
   "metadata": {},
   "outputs": [],
   "source": [
    "import pandas as pd\n",
    "import numpy as np\n",
    "import datetime\n",
    "import statsmodels.formula.api as sm"
   ]
  },
  {
   "cell_type": "markdown",
   "metadata": {},
   "source": [
    "2.Import \"NFL_Game\" dataset into Jupyter Notebook."
   ]
  },
  {
   "cell_type": "code",
   "execution_count": null,
   "metadata": {},
   "outputs": [],
   "source": [
    "NFL_Game=pd.read_csv(\"Assignment Data/Week 4/nfl_game.csv\")\n",
    "display(NFL_Game)"
   ]
  },
  {
   "cell_type": "markdown",
   "metadata": {},
   "source": [
    "3.What are the number of observations and the number of variables in the NFL_Game dataframe?"
   ]
  },
  {
   "cell_type": "code",
   "execution_count": null,
   "metadata": {},
   "outputs": [],
   "source": [
    "NFL_Game.shape"
   ]
  },
  {
   "cell_type": "markdown",
   "metadata": {},
   "source": [
    "4.Calculate summary statistics for the \"date\" variable and the \"score\" variable."
   ]
  },
  {
   "cell_type": "code",
   "execution_count": null,
   "metadata": {},
   "outputs": [],
   "source": [
    "NFL_Game['date']=pd.to_datetime(NFL_Game['date'])\n",
    "NFL_Game['date'].describe()"
   ]
  },
  {
   "cell_type": "code",
   "execution_count": null,
   "metadata": {},
   "outputs": [],
   "source": [
    "NFL_Game.groupby(['home'])['score'].describe()"
   ]
  },
  {
   "cell_type": "markdown",
   "metadata": {},
   "source": [
    "5.Calculate correlation coefficients\n",
    "- win and home\n",
    "- score_diff and home\n",
    "- score and weather_temperature\n",
    "- score and weather_humidity\n",
    "- score and weather_wind_mph\n"
   ]
  },
  {
   "cell_type": "code",
   "execution_count": null,
   "metadata": {},
   "outputs": [],
   "source": [
    "NFL_Game['win'].corr(NFL_Game['home'])"
   ]
  },
  {
   "cell_type": "code",
   "execution_count": null,
   "metadata": {},
   "outputs": [],
   "source": [
    "NFL_Game['score_diff'].corr(NFL_Game['home'])"
   ]
  },
  {
   "cell_type": "code",
   "execution_count": null,
   "metadata": {},
   "outputs": [],
   "source": [
    "NFL_Game['score'].corr(NFL_Game['weather_temperature'])"
   ]
  },
  {
   "cell_type": "code",
   "execution_count": null,
   "metadata": {},
   "outputs": [],
   "source": [
    "NFL_Game['score'].corr(NFL_Game['weather_humidity'])"
   ]
  },
  {
   "cell_type": "code",
   "execution_count": null,
   "metadata": {},
   "outputs": [],
   "source": [
    "NFL_Game['score'].corr(NFL_Game['weather_wind_mph'])"
   ]
  },
  {
   "cell_type": "markdown",
   "metadata": {},
   "source": [
    "## Quiz 2 - Regression Analysis 1 - Test of Home Game Advantage\n",
    "6.Reg1_1\n",
    "- Dependent variable: score_diff\n",
    "- Independent variable: home"
   ]
  },
  {
   "cell_type": "code",
   "execution_count": null,
   "metadata": {},
   "outputs": [],
   "source": [
    "Reg1_1 = sm.ols(formula = 'score_diff ~ home', data= NFL_Game).fit()"
   ]
  },
  {
   "cell_type": "code",
   "execution_count": null,
   "metadata": {},
   "outputs": [],
   "source": [
    "print(Reg1_1.summary())"
   ]
  },
  {
   "cell_type": "markdown",
   "metadata": {},
   "source": [
    "7.Reg1_2\n",
    "- Dependent variable: score_diff\n",
    "- Independent variables: home, stadium_capacity, stadium_neutral, and the interaction between home and stadium_neutral"
   ]
  },
  {
   "cell_type": "code",
   "execution_count": null,
   "metadata": {},
   "outputs": [],
   "source": [
    "Reg1_2 = sm.ols(formula = 'score_diff ~ home+stadium_capacity+stadium_neutral+home*stadium_neutral', data= NFL_Game).fit()"
   ]
  },
  {
   "cell_type": "code",
   "execution_count": null,
   "metadata": {},
   "outputs": [],
   "source": [
    "print(Reg1_2.summary())"
   ]
  },
  {
   "cell_type": "markdown",
   "metadata": {},
   "source": [
    "8.Reg1_3\n",
    "- Dependent variable: score_diff\n",
    "- Independent variables: home, stadium_capacity, stadium_neutral, the interaction between home and stadium_neutral, team, and opponent"
   ]
  },
  {
   "cell_type": "code",
   "execution_count": null,
   "metadata": {},
   "outputs": [],
   "source": [
    "Reg1_3 = sm.ols(formula = 'score_diff ~ home+stadium_capacity+stadium_neutral+home*stadium_neutral+team+opponent', data= NFL_Game).fit()"
   ]
  },
  {
   "cell_type": "code",
   "execution_count": null,
   "metadata": {},
   "outputs": [],
   "source": [
    "print(Reg1_3.summary())"
   ]
  },
  {
   "cell_type": "markdown",
   "metadata": {},
   "source": [
    "## Quiz 3 - Regression Analysis 2 -- Impact of Outside Factors on Scores\n",
    "\n",
    "9.Reg2_1\n",
    "- Dependent variable: score\n",
    "- Independent variables: season and home"
   ]
  },
  {
   "cell_type": "code",
   "execution_count": null,
   "metadata": {},
   "outputs": [],
   "source": [
    "Reg2_1 = sm.ols(formula = 'score ~ season+home', data= NFL_Game).fit()"
   ]
  },
  {
   "cell_type": "code",
   "execution_count": null,
   "metadata": {},
   "outputs": [],
   "source": [
    "print(Reg2_1.summary())"
   ]
  },
  {
   "cell_type": "markdown",
   "metadata": {},
   "source": [
    "10.Reg2_2\n",
    "- Dependent variable: score\n",
    "- Independent variables: season, home, weather_temperature, weather_wind_mph, and weather_humidity"
   ]
  },
  {
   "cell_type": "code",
   "execution_count": null,
   "metadata": {},
   "outputs": [],
   "source": [
    "Reg2_2 = sm.ols(formula = 'score ~ season+home+weather_temperature+weather_wind_mph+weather_humidity', data= NFL_Game).fit()"
   ]
  },
  {
   "cell_type": "code",
   "execution_count": null,
   "metadata": {},
   "outputs": [],
   "source": [
    "print(Reg2_2.summary())"
   ]
  },
  {
   "cell_type": "markdown",
   "metadata": {},
   "source": [
    "11.Reg2_3\n",
    "- Dependent variable: score\n",
    "- Independent variables: season, home, weather_temperature, weather_wind_mph, and weather_humidity, stadium_capacity,  stadium_age, stadium_type, stadium_neutral, and the interaction between home and stadium_neutral"
   ]
  },
  {
   "cell_type": "code",
   "execution_count": null,
   "metadata": {},
   "outputs": [],
   "source": [
    "Reg2_3 = sm.ols(formula = 'score ~ season+home+weather_temperature+weather_wind_mph+weather_humidity+ stadium_capacity+stadium_age+stadium_type+stadium_neutral+ home*stadium_neutral', data= NFL_Game).fit()"
   ]
  },
  {
   "cell_type": "code",
   "execution_count": null,
   "metadata": {},
   "outputs": [],
   "source": [
    "print(Reg2_3.summary())"
   ]
  },
  {
   "cell_type": "markdown",
   "metadata": {},
   "source": [
    "12.Reg2_4\n",
    "- Dependent variable: score\n",
    "- Independent variables: season, home, weather_temperature, weather_wind_mph, and weather_humidity, stadium_capacity,  stadium_age, stadium_type, stadium_neutral, the interaction between home and stadium_neutral, team, and opponent"
   ]
  },
  {
   "cell_type": "code",
   "execution_count": null,
   "metadata": {},
   "outputs": [],
   "source": [
    "Reg2_4 = sm.ols(formula = 'score ~ season+home+weather_temperature+weather_wind_mph+weather_humidity+ stadium_capacity+stadium_age+stadium_type+stadium_neutral+ home*stadium_neutral+team+opponent', data= NFL_Game).fit()"
   ]
  },
  {
   "cell_type": "code",
   "execution_count": null,
   "metadata": {},
   "outputs": [],
   "source": [
    "print(Reg2_4.summary())"
   ]
  },
  {
   "cell_type": "code",
   "execution_count": null,
   "metadata": {},
   "outputs": [],
   "source": []
  }
 ],
 "metadata": {
  "kernelspec": {
   "display_name": "Python 3",
   "language": "python",
   "name": "python3"
  },
  "language_info": {
   "codemirror_mode": {
    "name": "ipython",
    "version": 3
   },
   "file_extension": ".py",
   "mimetype": "text/x-python",
   "name": "python",
   "nbconvert_exporter": "python",
   "pygments_lexer": "ipython3",
   "version": "3.7.4"
  }
 },
 "nbformat": 4,
 "nbformat_minor": 2
}
