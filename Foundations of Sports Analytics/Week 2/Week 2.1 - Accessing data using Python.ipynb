{
 "cells": [
  {
   "cell_type": "markdown",
   "metadata": {},
   "source": [
    "_In this week, we will use basketball data downloaded from NBA.com to demonstrate how to import data into Python, how to clean up data before conducting any data analyses, as well how to describe and summarize data._ \n",
    "\n",
    "\n",
    "## Importing data into Python\n",
    "### Before we import the dataset into Jupyter notebook, we need to first import the Python libraries that we will use to analyze the data\n",
    "- pandas\n",
    "- numpy\n",
    "\n"
   ]
  },
  {
   "cell_type": "code",
   "execution_count": null,
   "metadata": {
    "scrolled": true
   },
   "outputs": [],
   "source": [
    "import pandas as pd\n",
    "import numpy as np"
   ]
  },
  {
   "cell_type": "markdown",
   "metadata": {},
   "source": [
    "#### In our data repository, we have a dataset that contains NBA team information. Let's import this dataset into the Jupyter notebook."
   ]
  },
  {
   "cell_type": "code",
   "execution_count": null,
   "metadata": {},
   "outputs": [],
   "source": [
    "NBA_Teams=pd.read_csv(\"nba_teams.csv\")"
   ]
  },
  {
   "cell_type": "markdown",
   "metadata": {},
   "source": [
    "We can take a quick look at the data we imported by displaying the dataset. "
   ]
  },
  {
   "cell_type": "code",
   "execution_count": null,
   "metadata": {
    "scrolled": true
   },
   "outputs": [],
   "source": [
    "display(NBA_Teams)"
   ]
  },
  {
   "cell_type": "markdown",
   "metadata": {},
   "source": [
    "_This dataset provides some basic information of the NBA teams._ \n",
    "\n",
    "For a dataset, each row represents an observation, i.e., a team in this dataset and each column represents a variable which contains information of a characteristics of the observation. A variable can take different values in different situations. The number of observation in a dataset represents the size of our sample and the number of variables represents the richness of information in our dataset. \n",
    "\n",
    "#### We can use the “shape” function in Python to see how many variables and observations in our dataset.\n",
    "\n",
    "\n"
   ]
  },
  {
   "cell_type": "code",
   "execution_count": null,
   "metadata": {},
   "outputs": [],
   "source": [
    "NBA_Teams.shape"
   ]
  },
  {
   "cell_type": "markdown",
   "metadata": {},
   "source": [
    "_We can see that there are 30 observations (rows) and 8 variables (columns)._\n",
    "\n",
    "### Renaming Variables\n",
    "####  We can rename a variable using the “rename” function in Python.\n",
    "_Inplace parameter_\n",
    "- True: replace the old variable with a new name; \n",
    "- False: create a new variable with the new name.\n",
    "\n",
    "The first variable is unnamed, let's rename it to be \"TEAM_NUMBER\"; let's also rename \"ID\" to \"TEAM_ID.\" "
   ]
  },
  {
   "cell_type": "code",
   "execution_count": null,
   "metadata": {
    "scrolled": true
   },
   "outputs": [],
   "source": [
    "NBA_Teams.rename(columns={'Unnamed: 0':'TEAM_NUMBER'}, inplace=True)\n",
    "\n",
    "NBA_Teams.rename(columns={'ID':'TEAM_ID'}, inplace=True)\n",
    "display(NBA_Teams)"
   ]
  },
  {
   "cell_type": "markdown",
   "metadata": {
    "scrolled": true
   },
   "source": [
    "## Self Test - 1\n",
    "- Rename \"FULL_NAME\" to \"TEAM_NAME\" "
   ]
  },
  {
   "cell_type": "code",
   "execution_count": null,
   "metadata": {},
   "outputs": [],
   "source": [
    "#Your Code Here"
   ]
  },
  {
   "cell_type": "markdown",
   "metadata": {
    "scrolled": true
   },
   "source": [
    "### Dropping Variables (columns)\n",
    "\n",
    "#### To drop a variable, i.e., to delete a column, we can use the “drop” command. \n",
    "- We need to provide the name of the variable;\n",
    "- We also need to use the argument “axis=1” which tells Python that we are dropping a column, not a row. \n",
    "\n",
    "The variable \"TEAM_NUMBER\" has little meaning, let's drop it."
   ]
  },
  {
   "cell_type": "code",
   "execution_count": null,
   "metadata": {},
   "outputs": [],
   "source": [
    "NBA_Teams.drop(['TEAM_NUMBER'], axis=1, inplace=True)\n",
    "display(NBA_Teams)"
   ]
  },
  {
   "cell_type": "markdown",
   "metadata": {},
   "source": [
    "#### Next we will work on game level data.\n",
    "\n",
    "Import the game level dataset from our data repository. \n",
    "- We can display just first five rows of the dataset using the \"head\" command.\n"
   ]
  },
  {
   "cell_type": "code",
   "execution_count": null,
   "metadata": {},
   "outputs": [],
   "source": [
    "Games=pd.read_csv(\"basketball_games.csv\")\n",
    "Games.head()"
   ]
  },
  {
   "cell_type": "markdown",
   "metadata": {},
   "source": [
    "_Upon importing the game data, we notice that the first five games are not NBA games, instead, they are WNBA games. Indeed, this dataset contains NBA games, WNBA games, NBA 2K (simulation video) games._ \n",
    "\n",
    "### Dropping observations (rows)\n",
    "\n",
    "#### To drop an observation, we can use the index number on the left to specify the row we want to drop.\n",
    "- The argument axis=0 specifies that we want to drop a row instead of a column.\n"
   ]
  },
  {
   "cell_type": "code",
   "execution_count": null,
   "metadata": {},
   "outputs": [],
   "source": [
    "Games.drop([0], axis=0, inplace=True)\n",
    "Games.head()"
   ]
  },
  {
   "cell_type": "markdown",
   "metadata": {},
   "source": [
    "#### More often, we will drop observations based on certain conditions. \n",
    "\n",
    "For example, Las Vegas Aces is a women’s basketball team. If we are only going to focus on men’s basketball games, we will drop all the games played by Las Vegas Aces. In this case, we don’t have to use the “drop” function. We can specify our TEAM_NAME variables to be not equal to “Las Vegas Aces.”\n"
   ]
  },
  {
   "cell_type": "code",
   "execution_count": null,
   "metadata": {},
   "outputs": [],
   "source": [
    "Games=Games[Games.TEAM_NAME !=\"Las Vegas Aces\"]\n",
    "Games.head()"
   ]
  },
  {
   "cell_type": "markdown",
   "metadata": {},
   "source": [
    "## Self Test - 2\n",
    "- Drop all the Phoenix Mercury games"
   ]
  },
  {
   "cell_type": "code",
   "execution_count": null,
   "metadata": {},
   "outputs": [],
   "source": [
    "#Your Code Here"
   ]
  },
  {
   "cell_type": "markdown",
   "metadata": {
    "scrolled": true
   },
   "source": [
    "## Merging Dataframes\n",
    "\n",
    "#### We will only focus on NBA games. We could merge the NBA_Teams and Games datasets to filter out NBA games.\n",
    "\n",
    "#### Teams are identified by the TEAM_ID. So, let’s merge the datasets by TEAM_ID. Since the variable “TEAM_NAME” is also present in both datasets, we could also include this variable as a criteria to merge the datasets so that in our new dataset, there is no duplicate variables."
   ]
  },
  {
   "cell_type": "code",
   "execution_count": null,
   "metadata": {},
   "outputs": [],
   "source": [
    "NBA_Games=pd.merge(NBA_Teams, Games, on=['TEAM_ID', 'TEAM_NAME'])\n",
    "NBA_Games.head()"
   ]
  },
  {
   "cell_type": "markdown",
   "metadata": {},
   "source": [
    "### Understanding and cleaning the merged dataset\n",
    "\n",
    "_As you can tell, the merged dataset has a lot more variables and Python cannot fit all of them in the screen._ \n",
    "\n",
    "#### We can obtain the list of variables using the “columns” command. This provides us a full list of variables in our dataset.\n"
   ]
  },
  {
   "cell_type": "code",
   "execution_count": null,
   "metadata": {},
   "outputs": [],
   "source": [
    "NBA_Games.columns"
   ]
  },
  {
   "cell_type": "markdown",
   "metadata": {},
   "source": [
    "#### Data Cleaning\n",
    "The variable “ABBREVIATION” AND “TEAM_ABBREVIATION” carry the same information and it is not necessary to keep both of them. \n",
    "- Delete \"ABBREVIATION\" \n"
   ]
  },
  {
   "cell_type": "code",
   "execution_count": null,
   "metadata": {},
   "outputs": [],
   "source": [
    "NBA_Games.drop(['ABBREVIATION'], axis=1, inplace=True, errors='ignore')"
   ]
  },
  {
   "cell_type": "markdown",
   "metadata": {},
   "source": [
    "## Self Test - 3\n",
    "- Find the number of observations and the number of variables in the dataset"
   ]
  },
  {
   "cell_type": "code",
   "execution_count": null,
   "metadata": {},
   "outputs": [],
   "source": [
    "#Your Code Here"
   ]
  },
  {
   "cell_type": "markdown",
   "metadata": {
    "scrolled": true
   },
   "source": [
    "The merged dataset is sorted by the criteria we use to merge the datasets. Thus, the NBA_Games dataset is currently sorted by \"TEAM_ID.\" We may be interested to sort the data by other criteria, for example, the date of the game. \n",
    "\n",
    "#### We can do so by using the “sort_values” option. \n",
    "\n",
    "In our dataset, \"GAME_ID\" is created based on the date of the game. We can sort the games by “GAME_ID” and display the 20 most recent games.\n"
   ]
  },
  {
   "cell_type": "code",
   "execution_count": null,
   "metadata": {},
   "outputs": [],
   "source": [
    "NBA_Games.sort_values(by=['GAME_ID'], ascending=[False]).head(20)"
   ]
  },
  {
   "cell_type": "markdown",
   "metadata": {},
   "source": [
    "## Missing Values\n",
    "\n",
    "### Before we move on to doing any data analyses, we usually need to check if there is any missing value, that is, the source may have failed to collect some information. \n",
    "\n",
    "#### We can use the info() command which will return the total number of observations that have real values. By looking at these total numbers, we can see if there is any variable with missing value.\n"
   ]
  },
  {
   "cell_type": "code",
   "execution_count": null,
   "metadata": {},
   "outputs": [],
   "source": [
    "NBA_Games.info()"
   ]
  },
  {
   "cell_type": "markdown",
   "metadata": {},
   "source": [
    "_The total number of rows is 18956, so there are missing values in variable WL, FG_PCT, FG3_PCT, and FT_PCT._\n",
    "\n",
    "#### Detecting missing values\n",
    "We can use the isnull() function and the notnull() function to detect where the missing values are.\n"
   ]
  },
  {
   "cell_type": "code",
   "execution_count": null,
   "metadata": {},
   "outputs": [],
   "source": [
    "NBA_Games.notnull()"
   ]
  },
  {
   "cell_type": "markdown",
   "metadata": {},
   "source": [
    "### Handling Missing Values\n",
    "\n",
    "There are two main approaches to handle missing values. \n",
    "- First, we can simply drop the observations with missing value.\n",
    "\n",
    "#### Drop observations with missing value in the variable \"FG_PCT\""
   ]
  },
  {
   "cell_type": "code",
   "execution_count": null,
   "metadata": {},
   "outputs": [],
   "source": [
    "NBA_Games=NBA_Games[pd.notnull(NBA_Games[\"FG_PCT\"])]\n",
    "NBA_Games.shape"
   ]
  },
  {
   "cell_type": "markdown",
   "metadata": {},
   "source": [
    "- Second, we can replace the missing values with valid values (Imputation), such as mean and median.\n",
    "\n",
    "#### We can use the fillna() command to replace missing values with the mean or the median of the variable.\n"
   ]
  },
  {
   "cell_type": "code",
   "execution_count": null,
   "metadata": {},
   "outputs": [],
   "source": [
    "NBA_Games=NBA_Games.fillna(NBA_Games.mean())\n",
    "NBA_Games.info()"
   ]
  },
  {
   "cell_type": "markdown",
   "metadata": {},
   "source": [
    "## Creating variables\n",
    "We can create a variable equals to the total number of goals made.\n"
   ]
  },
  {
   "cell_type": "code",
   "execution_count": null,
   "metadata": {},
   "outputs": [],
   "source": [
    "NBA_Games['GM']=NBA_Games['FGM']+NBA_Games['FG3M']+NBA_Games['FTM']"
   ]
  },
  {
   "cell_type": "markdown",
   "metadata": {},
   "source": [
    "## Self Test - 4\n",
    "- Create a variable called \"GA\" equals to the total number of goals attempted."
   ]
  },
  {
   "cell_type": "code",
   "execution_count": null,
   "metadata": {},
   "outputs": [],
   "source": [
    "#Your Code Here"
   ]
  },
  {
   "cell_type": "markdown",
   "metadata": {},
   "source": [
    "### Create variables based on conditions\n",
    "- We can create a variable conditional on the value of another variable.\n",
    "\n",
    "For example, we can create a variable \"RESULT\" that equals to 1 if the team won the game and 0 otherwise. The result of the game can be captured in the points of the team receive, whether it was positive or negative.\n"
   ]
  },
  {
   "cell_type": "code",
   "execution_count": null,
   "metadata": {},
   "outputs": [],
   "source": [
    "NBA_Games['RESULT'] = np.where(NBA_Games['PLUS_MINUS']>0, 'W', 'L')"
   ]
  },
  {
   "cell_type": "markdown",
   "metadata": {},
   "source": [
    "We will now drop this newly created \"RESULT\" variable.\n"
   ]
  },
  {
   "cell_type": "code",
   "execution_count": null,
   "metadata": {},
   "outputs": [],
   "source": [
    "NBA_Games.drop(['RESULT'], axis=1, inplace=True)"
   ]
  },
  {
   "cell_type": "markdown",
   "metadata": {},
   "source": [
    "### Create a variable within group\n",
    "In the dataset, each game has two observations, one represents the statistics of the home team, one represents those of the away team. Both observations have the same GAME_ID. We can create a variable \"POINT_DIFF\" that equals the difference between the points earned by the two teams.\n",
    "\n",
    "We will first sort the data not only by the \"GAME_ID\" but also by the result \"WL\".\n"
   ]
  },
  {
   "cell_type": "code",
   "execution_count": null,
   "metadata": {},
   "outputs": [],
   "source": [
    "NBA_Games.sort_values(['GAME_ID','WL'], inplace=True)\n",
    "NBA_Games[\"POINT_DIFF\"]=NBA_Games.groupby([\"GAME_ID\"])[\"PTS\"].diff()"
   ]
  },
  {
   "cell_type": "markdown",
   "metadata": {},
   "source": [
    "The \"POINT_DIFF\" variable only has the point difference for the winning team, we need to impute the point difference for the losing team as well.\n",
    "\n"
   ]
  },
  {
   "cell_type": "code",
   "execution_count": null,
   "metadata": {},
   "outputs": [],
   "source": [
    "NBA_Games['POINT_DIFF'] = NBA_Games['POINT_DIFF'].fillna(NBA_Games.groupby('GAME_ID')['POINT_DIFF'].transform('mean'))"
   ]
  },
  {
   "cell_type": "markdown",
   "metadata": {},
   "source": [
    "- We can also drop all observations with missing value in at least one variable using the \"dropna()\" command.\n"
   ]
  },
  {
   "cell_type": "code",
   "execution_count": null,
   "metadata": {},
   "outputs": [],
   "source": [
    "NBA_Games=NBA_Games.dropna()\n",
    "NBA_Games.shape"
   ]
  },
  {
   "cell_type": "markdown",
   "metadata": {},
   "source": [
    "### Creating new dataframe\n",
    "\n",
    "#### Create a new dataframe that aggregates information by group\n",
    "\n",
    "Sometimes we may want to work with season level data rather than team level data. We can create a new dataset that includes aggregate information of team statistics in each season.\n",
    "\n",
    "\n"
   ]
  },
  {
   "cell_type": "code",
   "execution_count": null,
   "metadata": {},
   "outputs": [],
   "source": [
    "NBA_Team_Stats=NBA_Games.groupby(['TEAM_ID', 'SEASON_ID'])['PTS','FGM','FGA','FG_PCT','FG3M','FG3A','FG3_PCT','FTM','FTA','FT_PCT','OREB','DREB','REB','AST','STL','BLK','TOV','PF','PLUS_MINUS'].sum()\n",
    "display(NBA_Team_Stats)"
   ]
  },
  {
   "cell_type": "markdown",
   "metadata": {},
   "source": [
    "Notice that the newly created dataset has two levels of index, the \"TEAM_ID\" and \"SEASON_ID\"\n",
    "\n",
    "#### If we want to convert these two indexes back as variables, we can use the \"reset_index\" command.\n"
   ]
  },
  {
   "cell_type": "code",
   "execution_count": null,
   "metadata": {},
   "outputs": [],
   "source": [
    "NBA_Team_Stats=NBA_Team_Stats.reset_index()\n",
    "display(NBA_Team_Stats)"
   ]
  },
  {
   "cell_type": "markdown",
   "metadata": {},
   "source": [
    "### We can create a variable that equals to the total number of observations within a specified group using the size() command.\n",
    "- Create a variable that equals to the total number of games played by a team in each season, name this variable \"GAME_COUNT\".\n"
   ]
  },
  {
   "cell_type": "code",
   "execution_count": null,
   "metadata": {},
   "outputs": [],
   "source": [
    "NBA_Game_Count=NBA_Games.groupby(['TEAM_ID','SEASON_ID']).size().reset_index(name='GAME_COUNT')\n",
    "display(NBA_Game_Count)"
   ]
  },
  {
   "cell_type": "markdown",
   "metadata": {},
   "source": [
    "## Saving data\n",
    "\n",
    "### We can save a dataframe by exporting the edited dataframe to csv file using the “to_csv” command.\n",
    "- Save merged data as a csv file \n",
    "_We can use the \"index=False\" command to save the data without adding the index as a column in the csv file_"
   ]
  },
  {
   "cell_type": "code",
   "execution_count": null,
   "metadata": {},
   "outputs": [],
   "source": [
    "NBA_Games.to_csv(\"../../Data/Week 2/NBA_Games.csv\", index=False)"
   ]
  },
  {
   "cell_type": "code",
   "execution_count": null,
   "metadata": {},
   "outputs": [],
   "source": []
  }
 ],
 "metadata": {
  "kernelspec": {
   "display_name": "Python 3",
   "language": "python",
   "name": "python3"
  },
  "language_info": {
   "codemirror_mode": {
    "name": "ipython",
    "version": 3
   },
   "file_extension": ".py",
   "mimetype": "text/x-python",
   "name": "python",
   "nbconvert_exporter": "python",
   "pygments_lexer": "ipython3",
   "version": "3.8.8"
  }
 },
 "nbformat": 4,
 "nbformat_minor": 2
}
