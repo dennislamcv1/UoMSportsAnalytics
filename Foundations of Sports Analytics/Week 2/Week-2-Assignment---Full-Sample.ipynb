{
 "cells": [
  {
   "cell_type": "markdown",
   "metadata": {},
   "source": [
    "## Quiz 1 - Data Coding and Merging\n",
    "\n",
    "1.Import pandas and numpy libraries into Python"
   ]
  },
  {
   "cell_type": "code",
   "execution_count": null,
   "metadata": {
    "scrolled": true
   },
   "outputs": [],
   "source": [
    "import pandas as pd\n",
    "import numpy as np"
   ]
  },
  {
   "cell_type": "markdown",
   "metadata": {},
   "source": [
    "2.Import NHL_team data, name it \"NHL_Team\" in Jupyter Notebook."
   ]
  },
  {
   "cell_type": "code",
   "execution_count": null,
   "metadata": {},
   "outputs": [],
   "source": [
    "NHL_Team=pd.read_csv(\"Assignment Data/NHL_team.csv\")"
   ]
  },
  {
   "cell_type": "markdown",
   "metadata": {
    "scrolled": true
   },
   "source": [
    "3.Display Data to take a quick look of the data"
   ]
  },
  {
   "cell_type": "code",
   "execution_count": null,
   "metadata": {
    "scrolled": true
   },
   "outputs": [],
   "source": [
    "display(NHL_Team)"
   ]
  },
  {
   "cell_type": "markdown",
   "metadata": {},
   "source": [
    "4.Delete the \"Unnamed:0\", \"abbr\", \"tname\", \"lname\", and \"sname\" variables."
   ]
  },
  {
   "cell_type": "code",
   "execution_count": null,
   "metadata": {},
   "outputs": [],
   "source": [
    "NHL_Team.drop(['Unnamed: 0', 'abbr', 'tname', 'lname', 'sname'], axis=1, inplace=True)\n",
    "NHL_Team.head()"
   ]
  },
  {
   "cell_type": "markdown",
   "metadata": {},
   "source": [
    "5.Rename the variable \"name\" to \"team_name\" in the NHL_Team dataframe."
   ]
  },
  {
   "cell_type": "code",
   "execution_count": null,
   "metadata": {},
   "outputs": [],
   "source": [
    "NHL_Team.rename(columns={'name':'team_name'}, inplace=True)\n",
    "NHL_Team.head()"
   ]
  },
  {
   "cell_type": "markdown",
   "metadata": {},
   "source": [
    "6.Import NHL_competition data, name it \"NHL_Competition\" in Jupyter notebook."
   ]
  },
  {
   "cell_type": "code",
   "execution_count": null,
   "metadata": {},
   "outputs": [],
   "source": [
    "NHL_Competition=pd.read_csv(\"Assignment Data/NHL_competition.csv\")\n",
    "NHL_Competition.head()"
   ]
  },
  {
   "cell_type": "markdown",
   "metadata": {
    "scrolled": true
   },
   "source": [
    "7.Delete the \"Unnamed: 0\", \"start\" and \"end\" variables."
   ]
  },
  {
   "cell_type": "code",
   "execution_count": null,
   "metadata": {
    "scrolled": true
   },
   "outputs": [],
   "source": [
    "NHL_Competition.drop(['Unnamed: 0','tz','start','end'], axis=1, inplace=True)"
   ]
  },
  {
   "cell_type": "markdown",
   "metadata": {},
   "source": [
    "8.Rename the variable \"name\" to \"competition_name\" in the NHL_Competition dataframe."
   ]
  },
  {
   "cell_type": "code",
   "execution_count": null,
   "metadata": {},
   "outputs": [],
   "source": [
    "NHL_Competition.rename(columns={'name':'competition_name'}, inplace=True)\n",
    "NHL_Competition.head()"
   ]
  },
  {
   "cell_type": "markdown",
   "metadata": {},
   "source": [
    "9.Import NHL_game data, name it \"NHL_Game\" in Jupyter notebook."
   ]
  },
  {
   "cell_type": "code",
   "execution_count": null,
   "metadata": {},
   "outputs": [],
   "source": [
    "NHL_Game=pd.read_csv(\"Assignment Data/NHL_game.csv\")\n",
    "NHL_Game.head()"
   ]
  },
  {
   "cell_type": "markdown",
   "metadata": {
    "scrolled": true
   },
   "source": [
    "10.Delete the \"X\",\"period\", and \"status\" variables."
   ]
  },
  {
   "cell_type": "code",
   "execution_count": null,
   "metadata": {
    "scrolled": true
   },
   "outputs": [],
   "source": [
    "NHL_Game.drop(['X','period','status'], axis=1, inplace=True)"
   ]
  },
  {
   "cell_type": "markdown",
   "metadata": {},
   "source": [
    "11.Merge dataframe NHL_Team into dataframe NHL_Game by 'tid'."
   ]
  },
  {
   "cell_type": "code",
   "execution_count": null,
   "metadata": {},
   "outputs": [],
   "source": [
    "NHL_Game=pd.merge(NHL_Game, NHL_Team, on=['tid'])\n",
    "NHL_Game.head()"
   ]
  },
  {
   "cell_type": "markdown",
   "metadata": {},
   "source": [
    "12.Merge dataframe NHL_Competition into dataframe NHL_Game by 'comp_id'."
   ]
  },
  {
   "cell_type": "code",
   "execution_count": null,
   "metadata": {},
   "outputs": [],
   "source": [
    "NHL_Game=pd.merge(NHL_Game, NHL_Competition, on=['comp_id'])\n",
    "NHL_Game.head()"
   ]
  },
  {
   "cell_type": "markdown",
   "metadata": {},
   "source": [
    "13.Create a variable to indicate the goal difference between home and away score (hscore-ascore), name this varible \"hgd\"."
   ]
  },
  {
   "cell_type": "code",
   "execution_count": null,
   "metadata": {},
   "outputs": [],
   "source": [
    "NHL_Game['hgd']=NHL_Game['hscore']-NHL_Game['ascore']\n",
    "NHL_Game.head()"
   ]
  },
  {
   "cell_type": "markdown",
   "metadata": {},
   "source": [
    "14.Delete observations with missing value in the variable \"hgd\"."
   ]
  },
  {
   "cell_type": "code",
   "execution_count": null,
   "metadata": {},
   "outputs": [],
   "source": [
    "NHL_Game=NHL_Game[pd.notnull(NHL_Game[\"hgd\"])]"
   ]
  },
  {
   "cell_type": "markdown",
   "metadata": {},
   "source": [
    "15.Drop observations with missing values in the NHL_Game."
   ]
  },
  {
   "cell_type": "code",
   "execution_count": null,
   "metadata": {},
   "outputs": [],
   "source": [
    "NHL_Game=NHL_Game.dropna()\n",
    "NHL_Game.head()"
   ]
  },
  {
   "cell_type": "markdown",
   "metadata": {},
   "source": [
    "16.What are the number of observations and the number of variables in the NHL_Game data?"
   ]
  },
  {
   "cell_type": "code",
   "execution_count": null,
   "metadata": {},
   "outputs": [],
   "source": [
    "NHL_Game.shape"
   ]
  },
  {
   "cell_type": "markdown",
   "metadata": {},
   "source": [
    "17.Convert type of \"date\" variable from object to datetime."
   ]
  },
  {
   "cell_type": "code",
   "execution_count": null,
   "metadata": {},
   "outputs": [],
   "source": [
    "import datetime\n",
    "NHL_Game['date']=pd.to_datetime(NHL_Game['date'])\n",
    "NHL_Game['date'].head()"
   ]
  },
  {
   "cell_type": "markdown",
   "metadata": {},
   "source": [
    "18.What is the time range of the NHL_Game dataframe?"
   ]
  },
  {
   "cell_type": "code",
   "execution_count": null,
   "metadata": {},
   "outputs": [],
   "source": [
    "NHL_Game['date'].describe()"
   ]
  },
  {
   "cell_type": "markdown",
   "metadata": {},
   "source": [
    "19.Sort the games by \"date\" and show the first 15 observations."
   ]
  },
  {
   "cell_type": "code",
   "execution_count": null,
   "metadata": {},
   "outputs": [],
   "source": [
    "NHL_Game.sort_values(by=['date'], ascending=[True]).head(15)"
   ]
  },
  {
   "cell_type": "markdown",
   "metadata": {},
   "source": [
    "20.Seperate the NHL_Game dataframe for home games and away games. Name them \"NHL_Home\" and \"NHL_Away\", respectively."
   ]
  },
  {
   "cell_type": "code",
   "execution_count": null,
   "metadata": {},
   "outputs": [],
   "source": [
    "NHL_Home=NHL_Game[(NHL_Game.home_away == 'home')].copy()\n",
    "NHL_Home.head()"
   ]
  },
  {
   "cell_type": "code",
   "execution_count": null,
   "metadata": {},
   "outputs": [],
   "source": [
    "NHL_Away=NHL_Game[(NHL_Game.home_away=='away')].copy()\n",
    "NHL_Away.head()"
   ]
  },
  {
   "cell_type": "markdown",
   "metadata": {},
   "source": [
    "21.Rename variables\n",
    "\n",
    "- For away games, rename \"ascore\" to \"goals_for\" and \"hscore\" to \"goals_against\"\n",
    "- For home games,rename \"hscore\" to \"goals_for\" and \"ascore\" to \"goals_against\""
   ]
  },
  {
   "cell_type": "code",
   "execution_count": null,
   "metadata": {},
   "outputs": [],
   "source": [
    "NHL_Away.rename(columns={'ascore':'goals_for'}, inplace=True)\n",
    "NHL_Away.rename(columns={'hscore':'goals_against'}, inplace=True)\n",
    "NHL_Home.rename(columns={'hscore':'goals_for'}, inplace=True)\n",
    "NHL_Home.rename(columns={'ascore':'goals_against'}, inplace=True)\n",
    "NHL_Away.head()"
   ]
  },
  {
   "cell_type": "markdown",
   "metadata": {
    "scrolled": true
   },
   "source": [
    "22.Create a \"win\" variable equals to 1 if the team won the game; 0 if the team lost the game; and 0.5 if it was a draw.\n",
    "\n",
    "- For home team, win=1 if the variable \"hgd\" is positive\n",
    "- For away team, win=1 if the variable \"hgd\" is negative "
   ]
  },
  {
   "cell_type": "code",
   "execution_count": null,
   "metadata": {
    "scrolled": true
   },
   "outputs": [],
   "source": [
    "NHL_Home.loc[(NHL_Home['hgd']>0, 'win')] = 1\n",
    "NHL_Home.loc[(NHL_Home['hgd']<0, 'win')] = 0\n",
    "NHL_Home.loc[(NHL_Home['hgd']==0, 'win')] = 0.5\n",
    "\n",
    "NHL_Away.loc[(NHL_Away['hgd']<0, 'win')] = 1\n",
    "NHL_Away.loc[(NHL_Away['hgd']>0, 'win')] = 0\n",
    "NHL_Away.loc[(NHL_Away['hgd']==0, 'win')] = 0.5"
   ]
  },
  {
   "cell_type": "markdown",
   "metadata": {
    "scrolled": true
   },
   "source": [
    "23.Append the NHL_Home and NHL_Away dataframes as the new NHL_Game dataframe."
   ]
  },
  {
   "cell_type": "code",
   "execution_count": null,
   "metadata": {
    "scrolled": true
   },
   "outputs": [],
   "source": [
    "NHL_Game=pd.concat([NHL_Home, NHL_Away], axis=0)\n",
    "display(NHL_Game)"
   ]
  },
  {
   "cell_type": "markdown",
   "metadata": {},
   "source": [
    "24.Double check the number of observations in the new NHL_Game dataframe to make sure that we have successfully combined the two dataframes."
   ]
  },
  {
   "cell_type": "code",
   "execution_count": null,
   "metadata": {},
   "outputs": [],
   "source": [
    "NHL_Game.shape"
   ]
  },
  {
   "cell_type": "markdown",
   "metadata": {},
   "source": [
    "25.Generate team level variable\n",
    "\n",
    "Create a team level dataframe called \"NHL_Team_Stats\" that aggregates the total number of games won, the total number of goals_for and goals_against for each team in each competition."
   ]
  },
  {
   "cell_type": "code",
   "execution_count": null,
   "metadata": {},
   "outputs": [],
   "source": [
    "NHL_Team_Stats = NHL_Game.groupby(['tid','competition_name','type'])['win','goals_for','goals_against'].sum()\n",
    "NHL_Team_Stats.head()"
   ]
  },
  {
   "cell_type": "markdown",
   "metadata": {},
   "source": [
    "26.Convert the indexes back as variables in the NHL_Team_Stats dataframe."
   ]
  },
  {
   "cell_type": "code",
   "execution_count": null,
   "metadata": {},
   "outputs": [],
   "source": [
    "NHL_Team_Stats=NHL_Team_Stats.reset_index()\n",
    "NHL_Team_Stats.head()"
   ]
  },
  {
   "cell_type": "markdown",
   "metadata": {},
   "source": [
    "27.Create a dataframe \"NHL_Game_Count\" that include the total number of games played by each team in competition.\n",
    "\n",
    "- Name this variable \"game_count\""
   ]
  },
  {
   "cell_type": "code",
   "execution_count": null,
   "metadata": {},
   "outputs": [],
   "source": [
    "NHL_Game_Count=NHL_Game.groupby(['tid','competition_name','type']).size().reset_index(name='game_count')\n",
    "display(NHL_Game_Count)"
   ]
  },
  {
   "cell_type": "markdown",
   "metadata": {},
   "source": [
    "28.Merge the NHL_Game_Count dataframe to the NHL_Team_Stats dataframe."
   ]
  },
  {
   "cell_type": "code",
   "execution_count": null,
   "metadata": {},
   "outputs": [],
   "source": [
    "NHL_Team_Stats=pd.merge(NHL_Team_Stats, NHL_Game_Count, on=['tid','competition_name','type'])\n",
    "NHL_Team_Stats.head()"
   ]
  },
  {
   "cell_type": "markdown",
   "metadata": {},
   "source": [
    "29.Merge the NHL_Team dataframe to the NHL_Team_Stats dataframe."
   ]
  },
  {
   "cell_type": "code",
   "execution_count": null,
   "metadata": {},
   "outputs": [],
   "source": [
    "NHL_Team_Stats=pd.merge(NHL_Team_Stats, NHL_Team, on=['tid'])\n",
    "NHL_Team_Stats.head()"
   ]
  },
  {
   "cell_type": "markdown",
   "metadata": {},
   "source": [
    "30.Import PPPK dataset and name it \"NHL_PPPK\"."
   ]
  },
  {
   "cell_type": "code",
   "execution_count": null,
   "metadata": {},
   "outputs": [],
   "source": [
    "NHL_PPPK=pd.read_csv(\"Assignment Data/PP.PK.PPgf.csv\")\n",
    "NHL_PPPK.head()"
   ]
  },
  {
   "cell_type": "markdown",
   "metadata": {},
   "source": [
    "31.Merge the NHL_PPPK dataframe to the NHL_Team_Stats dataframe."
   ]
  },
  {
   "cell_type": "code",
   "execution_count": null,
   "metadata": {},
   "outputs": [],
   "source": [
    "NHL_Team_Stats=pd.merge(NHL_PPPK, NHL_Team_Stats, on=['tricode','competition_name'])\n",
    "NHL_Team_Stats.head()"
   ]
  },
  {
   "cell_type": "markdown",
   "metadata": {},
   "source": [
    "32.Create additional variables in the \"NHL_Team_Stats\" dataframe.\n",
    "\n",
    "- winning percentage('win_pct')= 'win' / total number of games played\n",
    "- average goals for per game ('avg_gf')= total number of goals for / total number of games played\n",
    "- average goals against per game ('avg_ga') = total number of goals against / total number of games played"
   ]
  },
  {
   "cell_type": "code",
   "execution_count": null,
   "metadata": {},
   "outputs": [],
   "source": [
    "NHL_Team_Stats['win_pct']=NHL_Team_Stats['win']/NHL_Team_Stats['game_count']\n",
    "NHL_Team_Stats['avg_gf']=NHL_Team_Stats['goals_for']/NHL_Team_Stats['game_count']\n",
    "NHL_Team_Stats['avg_ga']=NHL_Team_Stats['goals_against']/NHL_Team_Stats['game_count']"
   ]
  },
  {
   "cell_type": "code",
   "execution_count": null,
   "metadata": {},
   "outputs": [],
   "source": [
    "NHL_Team_Stats['win_pct'].describe()"
   ]
  },
  {
   "cell_type": "markdown",
   "metadata": {},
   "source": [
    "33.In the NHL_Competition dataframe, the variable type indicates the type of competition. type=2 means it is regular season competition.\n",
    "\n",
    "Create a dataframe (NHL_Team_R_Stats) that contains team statistics for games only during regular seasons."
   ]
  },
  {
   "cell_type": "code",
   "execution_count": null,
   "metadata": {},
   "outputs": [],
   "source": [
    "NHL_Team_R_Stats=NHL_Team_Stats[(NHL_Team_Stats.type == 2)]"
   ]
  },
  {
   "cell_type": "markdown",
   "metadata": {},
   "source": [
    "## Quiz 2 - Descriptive and Summary Analyses\n",
    "\n",
    "Return to the NHL_Game dataframe, \n",
    "\n",
    "34.Calculate summary statistics for the variable \"goals_for\"."
   ]
  },
  {
   "cell_type": "code",
   "execution_count": null,
   "metadata": {},
   "outputs": [],
   "source": [
    "NHL_Game['goals_for'].describe()"
   ]
  },
  {
   "cell_type": "markdown",
   "metadata": {},
   "source": [
    "35.Caclulate the summary statistics for the \"goals_against\" for the entire NHL_Game dataframe by whether the game is home or away."
   ]
  },
  {
   "cell_type": "code",
   "execution_count": null,
   "metadata": {},
   "outputs": [],
   "source": [
    "NHL_Game.groupby(['home_away'])['goals_against'].describe()"
   ]
  },
  {
   "cell_type": "markdown",
   "metadata": {},
   "source": [
    "36.Create a histogram of the \"goals_against\" variable by whether the game is home or away.\n",
    "\n",
    "- Make the color of the histogram green\n",
    "- Set the number of bins to be 20\n",
    "- Make sure that the two sub-histograms share the same ranges for the x-axis and y-axis\n",
    "\n",
    "Save the histogram as \"goals_against.png\""
   ]
  },
  {
   "cell_type": "code",
   "execution_count": null,
   "metadata": {},
   "outputs": [],
   "source": [
    "import matplotlib.pyplot as plt\n",
    "NHL_Game.hist(by='home_away', column='goals_against', color='green', bins=20, sharex=True, sharey=True)\n",
    "plt.savefig('goals_against.png')"
   ]
  },
  {
   "cell_type": "markdown",
   "metadata": {},
   "source": [
    "## Correlation Analyses\n",
    "\n",
    "37.In the NHL_Team_R_Stats dataframe, make a scatter plot to depict the relationship between the total number of goals for and the winning percentage.\n",
    "\n",
    "- Plot the total number of _goals for_ on the x-axis and winning percentage on the y-axis\n",
    "- Add a regression line to the scatter plot\n",
    "- Make the title of the graph \"Relationship between Goals for and Winning Percentage\" and make the font size 11\n",
    "- Label the x-axis as \"Total Goals for\" and label the y-axis as \"Winning Percentage\""
   ]
  },
  {
   "cell_type": "code",
   "execution_count": null,
   "metadata": {},
   "outputs": [],
   "source": [
    "import seaborn as sns\n",
    "sns.lmplot(x='goals_for', y='win_pct', data=NHL_Team_R_Stats)\n",
    "plt.xlabel('Total Goals for')\n",
    "plt.ylabel('Winning Percentage')\n",
    "plt.title(\"Relationship between Goals for and Winning Percentage\", fontsize=11)\n",
    "plt.savefig('scatter_gf_winpct.png')"
   ]
  },
  {
   "cell_type": "markdown",
   "metadata": {},
   "source": [
    "38.Calulate the correlation coefficient between total _goals for_ and winning percentage."
   ]
  },
  {
   "cell_type": "code",
   "execution_count": null,
   "metadata": {},
   "outputs": [],
   "source": [
    "NHL_Team_R_Stats['goals_for'].corr(NHL_Team_R_Stats['win_pct'])"
   ]
  },
  {
   "cell_type": "markdown",
   "metadata": {},
   "source": [
    "39.Create a scatter plot of total number of _goals for_ and winning percentage, grouped by competition."
   ]
  },
  {
   "cell_type": "code",
   "execution_count": null,
   "metadata": {
    "scrolled": true
   },
   "outputs": [],
   "source": [
    "sns.lmplot(x='goals_for', y='win_pct', hue='competition_name', data=NHL_Team_R_Stats)\n",
    "plt.xlabel('Total Goals for')\n",
    "plt.ylabel('Winning Percentage')\n",
    "plt.title(\"Relationship between Goals for and Winning Percentage\", fontsize=11)\n",
    "plt.savefig('scatter_gf_winpct_comp.png')"
   ]
  },
  {
   "cell_type": "markdown",
   "metadata": {},
   "source": [
    "40.Filter out the 2011 and 2012 seasons, continue to name this dataframe NHL_Team_R_Stats"
   ]
  },
  {
   "cell_type": "code",
   "execution_count": null,
   "metadata": {},
   "outputs": [],
   "source": [
    "NHL_Team_R_Stats=NHL_Team_R_Stats[(NHL_Team_R_Stats.competition_name != '2011 NHL Regular Season')&(NHL_Team_R_Stats.competition_name != '2012 NHL Regular Season')]"
   ]
  },
  {
   "cell_type": "markdown",
   "metadata": {},
   "source": [
    "41.Create a scatter plot to depict the relationship between total _goals for_ and winning percentage without seperating the data by competition."
   ]
  },
  {
   "cell_type": "code",
   "execution_count": null,
   "metadata": {},
   "outputs": [],
   "source": [
    "sns.lmplot(x='goals_for', y='win_pct',  data=NHL_Team_R_Stats)\n",
    "plt.xlabel('Total Goals for')\n",
    "plt.ylabel('Winning Percentage')\n",
    "plt.title(\"Relationship between Goals for and Winning Percentage\", fontsize=11)\n",
    "plt.savefig('scatter_gf_winpct_new.png')"
   ]
  },
  {
   "cell_type": "markdown",
   "metadata": {},
   "source": [
    "42.Calculate the correlation coefficient between goals for and winning percentage in the updated \"NHL_Team_R_Stats\" dataframe."
   ]
  },
  {
   "cell_type": "code",
   "execution_count": null,
   "metadata": {},
   "outputs": [],
   "source": [
    "NHL_Team_R_Stats['goals_for'].corr(NHL_Team_R_Stats['win_pct'])"
   ]
  },
  {
   "cell_type": "markdown",
   "metadata": {},
   "source": [
    "43.Save dataframes as csv files.\n",
    "\n",
    "- Name the updated NHL_Game as \"NHL_Game2\"\n",
    "- Name the NHL_Team_Stats as \"NHL_Team_Stats\"\n",
    "- Name the NHL_Team_R_Stats  as \"NHL_Team_R_Stats\"\n",
    "- Exclude indexes in the csv files"
   ]
  },
  {
   "cell_type": "code",
   "execution_count": null,
   "metadata": {},
   "outputs": [],
   "source": [
    "NHL_Game.to_csv(\"Assignment Data/NHL_Game2.csv\", index=False)\n",
    "NHL_Team_Stats.to_csv(\"Assignment Data/NHL_Team_Stats.csv\", index=False)\n",
    "NHL_Team_R_Stats.to_csv(\"Assignment Data/NHL_Team_R_Stats.csv\", index=False)"
   ]
  },
  {
   "cell_type": "code",
   "execution_count": null,
   "metadata": {},
   "outputs": [],
   "source": []
  }
 ],
 "metadata": {
  "kernelspec": {
   "display_name": "Python 3",
   "language": "python",
   "name": "python3"
  },
  "language_info": {
   "codemirror_mode": {
    "name": "ipython",
    "version": 3
   },
   "file_extension": ".py",
   "mimetype": "text/x-python",
   "name": "python",
   "nbconvert_exporter": "python",
   "pygments_lexer": "ipython3",
   "version": "3.7.4"
  }
 },
 "nbformat": 4,
 "nbformat_minor": 2
}
