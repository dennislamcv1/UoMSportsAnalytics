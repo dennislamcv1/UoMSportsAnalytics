{
 "cells": [
  {
   "cell_type": "code",
   "execution_count": null,
   "metadata": {},
   "outputs": [],
   "source": [
    "# Here are the packages we need\n",
    "\n",
    "import pandas as pd\n",
    "import numpy as np\n",
    "import statsmodels.formula.api as smf\n",
    "import matplotlib.pyplot as plt\n",
    "import seaborn as sns"
   ]
  },
  {
   "cell_type": "code",
   "execution_count": null,
   "metadata": {},
   "outputs": [],
   "source": [
    "# This command imports our data, which is a log of games played in 2018 downloaded from Retrosheet \n",
    "#(you can find the data here: https://www.retrosheet.org/)\n",
    "\n",
    "MLB = pd.read_excel('Retrosheet MLB game log 2018.xlsx')"
   ]
  },
  {
   "cell_type": "code",
   "execution_count": null,
   "metadata": {},
   "outputs": [],
   "source": [
    "# For the Pythagorean Expectation we need only runs scored and conceded. Of course, we also need the names of the teams.\n",
    "# and the date will also be useful. We put these into a new dataframe (df) which we call MLB18.\n",
    "# The variable names are rather lengthy, so to make life easier we can rename columns to give them short names.\n",
    "# If we want to see what the data looks like, we can just type the name of the df.\n",
    "\n",
    "MLB18 = MLB[['VisitingTeam','HomeTeam','VisitorRunsScored','HomeRunsScore','Date']]\n",
    "MLB18 = MLB18.rename(columns={'VisitorRunsScored':'VisR','HomeRunsScore':'HomR'})\n",
    "MLB18"
   ]
  },
  {
   "cell_type": "code",
   "execution_count": null,
   "metadata": {},
   "outputs": [],
   "source": [
    "# We will need to know who won the game - which we can tell by who scored the more runs, the home team or the visiting teams\n",
    "#(there are no ties in baseball)\n",
    "# The variable 'hwin' is defined here as equaling 1 if the home team scored more runs, and zero otherwise. \n",
    "# The variable 'awin' is defined in a similar way for the away team.\n",
    "# we also create a 'counter' variable = 1 for each row.\n",
    "\n",
    "MLB18['hwin']= np.where(MLB18['HomR']>MLB18['VisR'],1,0)\n",
    "MLB18['awin']= np.where(MLB18['HomR']<MLB18['VisR'],1,0)\n",
    "MLB18['count']=1\n",
    "MLB18"
   ]
  },
  {
   "cell_type": "code",
   "execution_count": null,
   "metadata": {},
   "outputs": [],
   "source": [
    "# Since our data refers to games, for each game there are two teams, but what we want is a list of runs scored and conceded\n",
    "# by each team and its win percentage. \n",
    "# To create this we are going to define two dfs, one for home teams and one for away teams, which we can then merge to get \n",
    "# the stats for the entire season.\n",
    "# Here we define a df for home teams. The command is called \".groupby\" and we will use this often. We group by home team\n",
    "# to obtain the sum of wins and runs (scored and conceded) and also the counter variable to show how many games were played \n",
    "# (in MLB the teams do not necessarily play the same number of games in the regular season)\n",
    "# Finally we rename the columns.\n",
    " \n",
    "MLBhome = MLB18.groupby('HomeTeam')['hwin','HomR','VisR','count'].sum().reset_index()\n",
    "MLBhome = MLBhome.rename(columns={'HomeTeam':'team','VisR':'VisRh','HomR':'HomRh','count':'Gh'})\n",
    "MLBhome"
   ]
  },
  {
   "cell_type": "markdown",
   "metadata": {},
   "source": [
    "# Self test - 1 Solution"
   ]
  },
  {
   "cell_type": "code",
   "execution_count": null,
   "metadata": {},
   "outputs": [],
   "source": [
    "# Now we create a similar df for teams playing as visitors - To write this code all you need to do is to copy and paste\n",
    "# the previous cell and then change any reference to the home team into a reference to the visiting team.\n",
    "\n",
    "MLBaway = MLB18.groupby('VisitingTeam')['awin','HomR','VisR','count'].sum()\n",
    "MLBaway = MLBaway.rename(columns={'VisitingTeam':'team','VisR':'VisRa','HomR':'HomRa','count':'Ga'})\n",
    "MLBaway"
   ]
  },
  {
   "cell_type": "code",
   "execution_count": null,
   "metadata": {},
   "outputs": [],
   "source": [
    "# We now merge MLBhome and MLBaway so that we have a list of all the clubs with home and away records for the 2018 season\n",
    "# We will be using pd.merge frequently during the course to combine dfs\n",
    "# Note that we've called this new df \"MLB18\", which is name we had already used for earlier df. By doing this we are simply\n",
    "# overwriting the old MLB18 - which is fine in this case since we don't need the data in the old MLB18 any more.\n",
    "# If we did want to retain the daat in the old MLB18 df, we should have given this new df a different name. \n",
    "\n",
    "# MLB18 = pd.merge(MLBhome,MLBaway,on='team')\n",
    "# MLB18"
   ]
  },
  {
   "cell_type": "markdown",
   "metadata": {},
   "source": [
    "# Self test - 2 Solution"
   ]
  },
  {
   "cell_type": "code",
   "execution_count": null,
   "metadata": {},
   "outputs": [],
   "source": [
    "MLBhome"
   ]
  },
  {
   "cell_type": "code",
   "execution_count": null,
   "metadata": {},
   "outputs": [],
   "source": [
    "MLBaway"
   ]
  },
  {
   "cell_type": "code",
   "execution_count": null,
   "metadata": {},
   "outputs": [],
   "source": [
    "MLB18 = pd.merge(MLBhome,MLBaway,on='team')\n",
    "MLB18"
   ]
  },
  {
   "cell_type": "code",
   "execution_count": null,
   "metadata": {},
   "outputs": [],
   "source": [
    "# Now we create the total wins, games, played, runs scored and run conceded by summing the totals as home team and away team\n",
    "\n",
    "MLB18['W']=MLB18['hwin']+MLB18['awin']\n",
    "MLB18['G']=MLB18['Gh']+MLB18['Ga']\n",
    "MLB18['R']=MLB18['HomRh']+MLB18['VisRa']\n",
    "MLB18['RA']=MLB18['VisRh']+MLB18['HomRa']\n",
    "MLB18"
   ]
  },
  {
   "cell_type": "code",
   "execution_count": null,
   "metadata": {},
   "outputs": [],
   "source": [
    "# The last step in preparing the data is to define win percentage and the Pythagorean Expectation.\n",
    "\n",
    "MLB18['wpc'] = MLB18['W']/MLB18['G']\n",
    "MLB18['pyth'] = MLB18['R']**2/(MLB18['R']**2 + MLB18['RA']**2)\n",
    "MLB18"
   ]
  },
  {
   "cell_type": "markdown",
   "metadata": {},
   "source": [
    "# Self Test - 3 Solution"
   ]
  },
  {
   "cell_type": "code",
   "execution_count": null,
   "metadata": {},
   "outputs": [],
   "source": [
    "# Having prepared the data, we are now ready to examine it. First, we generate and xy plot use the Seaborn package.\n",
    "# This illustrates nicely the close correlation between win percentage and the Pythagorean Expectation.\n",
    "\n",
    "sns.relplot(x=\"pyth\", y=\"wpc\", data = MLB18)"
   ]
  },
  {
   "cell_type": "markdown",
   "metadata": {},
   "source": [
    "# Self Test - 4 Solution"
   ]
  },
  {
   "cell_type": "code",
   "execution_count": null,
   "metadata": {},
   "outputs": [],
   "source": [
    "# Finally we generate a regression.\n",
    "\n",
    "pyth_lm = smf.ols(formula = 'wpc ~ W', data=MLB18).fit()\n",
    "pyth_lm.summary()"
   ]
  }
 ],
 "metadata": {
  "kernelspec": {
   "display_name": "Python 3",
   "language": "python",
   "name": "python3"
  },
  "language_info": {
   "codemirror_mode": {
    "name": "ipython",
    "version": 3
   },
   "file_extension": ".py",
   "mimetype": "text/x-python",
   "name": "python",
   "nbconvert_exporter": "python",
   "pygments_lexer": "ipython3",
   "version": "3.8.8"
  }
 },
 "nbformat": 4,
 "nbformat_minor": 2
}
