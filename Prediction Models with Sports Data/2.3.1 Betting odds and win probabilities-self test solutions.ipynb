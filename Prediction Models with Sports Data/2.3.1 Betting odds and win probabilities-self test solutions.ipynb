{
 "cells": [
  {
   "cell_type": "markdown",
   "metadata": {},
   "source": [
    "# Betting Odds and Win Probabilities: Self Test Solutions"
   ]
  },
  {
   "cell_type": "code",
   "execution_count": 1,
   "metadata": {},
   "outputs": [],
   "source": [
    "import pandas as pd\n",
    "import numpy as np\n",
    "import matplotlib.pyplot as plt\n",
    "import seaborn as sns"
   ]
  },
  {
   "cell_type": "markdown",
   "metadata": {},
   "source": [
    "## Self Test - 1\n",
    "\n",
    "Derive the comparable scatter diagram and correlation coefficient for the MLB data (the odds are also in the decimal format)."
   ]
  },
  {
   "cell_type": "code",
   "execution_count": 2,
   "metadata": {},
   "outputs": [
    {
     "data": {
      "text/plain": [
       "<seaborn.axisgrid.FacetGrid at 0x1fb233d0248>"
      ]
     },
     "execution_count": 2,
     "metadata": {},
     "output_type": "execute_result"
    },
    {
     "data": {
      "image/png": "[encoded data removed]",
      "text/plain": [
       "<Figure size 360x360 with 1 Axes>"
      ]
     },
     "metadata": {
      "needs_background": "light"
     },
     "output_type": "display_data"
    }
   ],
   "source": [
    "# Self test answer\n",
    "\n",
    "MLB19 = pd.read_excel(\"../../Data/Week 2/MLB2019odds.xlsx\")\n",
    "MLB19['winprob']= 1/(MLB19['oddsfor'])/(1/(MLB19['oddsfor'])+ 1/(MLB19['oddsagainst']))\n",
    "MLBteamprobs=MLB19.groupby('team')[['winprob','win']].mean()\n",
    "#scatter plot:\n",
    "sns.relplot(x=\"winprob\", y=\"win\", data = MLBteamprobs, s=30)"
   ]
  },
  {
   "cell_type": "code",
   "execution_count": 3,
   "metadata": {},
   "outputs": [
    {
     "data": {
      "text/plain": [
       "array([[1.        , 0.93347856],\n",
       "       [0.93347856, 1.        ]])"
      ]
     },
     "execution_count": 3,
     "metadata": {},
     "output_type": "execute_result"
    }
   ],
   "source": [
    "# correlation coefficient\n",
    "np.corrcoef(MLBteamprobs[\"winprob\"], MLBteamprobs['win'])"
   ]
  },
  {
   "cell_type": "markdown",
   "metadata": {},
   "source": [
    "## Self Test - 2\n",
    "\n",
    "Derive the comparable scatter diagram and correlation coefficient for the EPL data. The odds are also in the decimal format. In the EPL teams are awarded three points for a win and one point for a draw."
   ]
  },
  {
   "cell_type": "code",
   "execution_count": 4,
   "metadata": {},
   "outputs": [
    {
     "data": {
      "text/plain": [
       "<seaborn.axisgrid.FacetGrid at 0x1fb24bf5448>"
      ]
     },
     "execution_count": 4,
     "metadata": {},
     "output_type": "execute_result"
    },
    {
     "data": {
      "image/png": "[encoded data removed]",
      "text/plain": [
       "<Figure size 360x360 with 1 Axes>"
      ]
     },
     "metadata": {
      "needs_background": "light"
     },
     "output_type": "display_data"
    }
   ],
   "source": [
    "# Self test answer\n",
    "\n",
    "EPL19 = pd.read_excel(\"../../Data/Week 2/EPL2018-19odds.xlsx\")\n",
    "EPL19['winprob']= 1/(EPL19['winodds'])/(1/(EPL19['winodds'])+ 1/(EPL19['drawodds'])+ 1/(EPL19['loseodds']))\n",
    "EPL19['drawprob']= 1/(EPL19['drawodds'])/(1/(EPL19['winodds'])+ 1/(EPL19['drawodds'])+ 1/(EPL19['loseodds']))\n",
    "EPL19['Epts']= 3*EPL19['winprob']+EPL19['drawprob']\n",
    "EPLteamprobs=EPL19.groupby('team')[['Epts','pts']].sum()\n",
    "sns.relplot(x=\"Epts\", y=\"pts\", data = EPLteamprobs, s=30)"
   ]
  },
  {
   "cell_type": "code",
   "execution_count": 5,
   "metadata": {},
   "outputs": [
    {
     "data": {
      "text/plain": [
       "array([[1.        , 0.96116939],\n",
       "       [0.96116939, 1.        ]])"
      ]
     },
     "execution_count": 5,
     "metadata": {},
     "output_type": "execute_result"
    }
   ],
   "source": [
    "# Self test correlation\n",
    "\n",
    "np.corrcoef(EPLteamprobs[\"Epts\"], EPLteamprobs['pts'])"
   ]
  }
 ],
 "metadata": {
  "kernelspec": {
   "display_name": "Python 3",
   "language": "python",
   "name": "python3"
  },
  "language_info": {
   "codemirror_mode": {
    "name": "ipython",
    "version": 3
   },
   "file_extension": ".py",
   "mimetype": "text/x-python",
   "name": "python",
   "nbconvert_exporter": "python",
   "pygments_lexer": "ipython3",
   "version": "3.7.4"
  }
 },
 "nbformat": 4,
 "nbformat_minor": 2
}
