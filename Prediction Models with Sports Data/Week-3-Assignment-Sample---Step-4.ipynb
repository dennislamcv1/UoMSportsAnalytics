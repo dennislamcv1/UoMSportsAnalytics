{
 "cells": [
  {
   "cell_type": "markdown",
   "metadata": {},
   "source": [
    "### Step 4"
   ]
  },
  {
   "cell_type": "code",
   "execution_count": null,
   "metadata": {},
   "outputs": [],
   "source": [
    "# This allows us to show the full screen width\n",
    "\n",
    "from IPython.display import display, HTML\n",
    "\n",
    "display(HTML(data=\"\"\"\n",
    "<style>\n",
    "    div#notebook-container    { width: 95%; }\n",
    "    div#menubar-container     { width: 65%; }\n",
    "    div#maintoolbar-container { width: 99%; }\n",
    "</style>\n",
    "\"\"\"))"
   ]
  },
  {
   "cell_type": "code",
   "execution_count": null,
   "metadata": {},
   "outputs": [],
   "source": [
    "import pandas as pd\n",
    "import numpy as np"
   ]
  },
  {
   "cell_type": "code",
   "execution_count": null,
   "metadata": {
    "scrolled": true
   },
   "outputs": [],
   "source": [
    "BLmod = pd.read_excel(\"Assignment Data/Week 3/Bundesliga prediction model (Assignment).xlsx\")\n",
    "BLmod"
   ]
  },
  {
   "cell_type": "code",
   "execution_count": null,
   "metadata": {
    "scrolled": true
   },
   "outputs": [],
   "source": [
    "# define the predicted result based on the betting odds \n",
    "\n",
    "BLmod['B365res']= np.where((BLmod['B365H']<BLmod['B365D']) & (BLmod['B365H']<BLmod['B365A']),'H',\\\n",
    "                        np.where((BLmod['B365D']<BLmod['B365H']) & (BLmod['B365D']<BLmod['B365A']),'D',\\\n",
    "                        np.where((BLmod['B365A']<BLmod['B365H']) & (BLmod['B365A']<BLmod['B365D']),'A',\"\")))"
   ]
  },
  {
   "cell_type": "code",
   "execution_count": null,
   "metadata": {},
   "outputs": [],
   "source": [
    "# define the probabilities associated with bookmaker odds\n",
    "\n",
    "BLmod['B365probH'] = 1/BLmod['B365H']/(1/BLmod['B365H']+1/BLmod['B365D']+1/BLmod['B365A'])\n",
    "BLmod['B365probD'] = 1/BLmod['B365D']/(1/BLmod['B365H']+1/BLmod['B365D']+1/BLmod['B365A'])\n",
    "BLmod['B365probA'] = 1/BLmod['B365A']/(1/BLmod['B365H']+1/BLmod['B365D']+1/BLmod['B365A'])\n",
    "\n",
    "# we now create a winvalue (for the home team, 2 = win, 1 = draw, 0 = loss) which we will need for the order logit regression.\n",
    "\n",
    "BLmod['winvalue'] = np.where(BLmod['FTR'] == 'H', 2 ,(np.where(BLmod['FTR'] == 'D', 1, 0)))"
   ]
  },
  {
   "cell_type": "code",
   "execution_count": null,
   "metadata": {},
   "outputs": [],
   "source": [
    "# crosstab showing how often the bookmaker odds correctly predict the result\n",
    "\n",
    "pd.crosstab(BLmod['FTR'], BLmod['B365res'],dropna= True)"
   ]
  },
  {
   "cell_type": "code",
   "execution_count": null,
   "metadata": {},
   "outputs": [],
   "source": [
    "# create the log of salary ratios \n",
    "BLmod['lhTMratio'] = np.log(BLmod['Tmhome']/BLmod['Tmaway'])"
   ]
  },
  {
   "cell_type": "code",
   "execution_count": null,
   "metadata": {},
   "outputs": [],
   "source": [
    "BLtrain = BLmod[:224]\n",
    "BLtrain"
   ]
  },
  {
   "cell_type": "code",
   "execution_count": null,
   "metadata": {},
   "outputs": [],
   "source": [
    "from bevel.linear_ordinal_regression import OrderedLogit\n",
    "ol = OrderedLogit()"
   ]
  },
  {
   "cell_type": "code",
   "execution_count": null,
   "metadata": {},
   "outputs": [],
   "source": [
    "ol.fit(BLtrain['lhTMratio'], BLtrain['winvalue'])\n",
    "ol.print_summary()"
   ]
  },
  {
   "cell_type": "code",
   "execution_count": null,
   "metadata": {},
   "outputs": [],
   "source": [
    "#%% To get the coefficients and the intercepts\n",
    "print(f'beta = {ol.coef_[0]:.4f}')\n",
    "print(f'interceptAD = {ol.coef_[1]:.4f}')\n",
    "print(f'interceptDH = {ol.coef_[2]:.4f}')"
   ]
  },
  {
   "cell_type": "code",
   "execution_count": null,
   "metadata": {},
   "outputs": [],
   "source": [
    "# Predicted probabilities\n",
    "\n",
    "BLmod['predA'] = 1/(1+np.exp(-(ol.coef_[1]-ol.coef_[0]*BLmod['lhTMratio'])))\n",
    "BLmod['predD'] = 1/(1+np.exp(-(ol.coef_[2]-ol.coef_[0]*BLmod['lhTMratio']))) - BLmod['predA']\n",
    "BLmod['predH'] = 1 - BLmod['predA'] - BLmod['predD']\n",
    "\n",
    "pd.set_option('display.max_columns', 50)\n",
    "BLmod"
   ]
  },
  {
   "cell_type": "code",
   "execution_count": null,
   "metadata": {
    "scrolled": true
   },
   "outputs": [],
   "source": [
    "# Result prediction\n",
    "\n",
    "BLmod['Maxprob'] =BLmod[['predA','predD','predH']].max(axis=1)\n",
    "BLmod['logitpred']=np.where(BLmod['Maxprob']==BLmod['predA'],'A',\\\n",
    "                               np.where(BLmod['Maxprob']==BLmod['predD'],'D','H'))\n",
    "BLmod['logittrue']= np.where(BLmod['logitpred'] == BLmod['FTR'],1,0)\n",
    "BLmod"
   ]
  },
  {
   "cell_type": "code",
   "execution_count": null,
   "metadata": {},
   "outputs": [],
   "source": [
    "BLfore = BLmod[224:306]"
   ]
  },
  {
   "cell_type": "code",
   "execution_count": null,
   "metadata": {},
   "outputs": [],
   "source": [
    "# Outcome value for calculating Brier Score\n",
    "\n",
    "BLfore['Houtcome']= np.where(BLfore['FTR']=='H',1,0)\n",
    "BLfore['Doutcome']= np.where(BLfore['FTR']=='D',1,0)\n",
    "BLfore['Aoutcome']= np.where(BLfore['FTR']=='A',1,0)\n",
    "BLfore"
   ]
  },
  {
   "cell_type": "code",
   "execution_count": null,
   "metadata": {
    "scrolled": true
   },
   "outputs": [],
   "source": [
    "BLfore['B365true']=np.where(BLfore['FTR']==BLfore['B365res'],1,0)"
   ]
  },
  {
   "cell_type": "code",
   "execution_count": null,
   "metadata": {},
   "outputs": [],
   "source": [
    "BLfore['B365true'].mean()"
   ]
  },
  {
   "cell_type": "code",
   "execution_count": null,
   "metadata": {},
   "outputs": [],
   "source": [
    "BLfore['logittrue'].mean()"
   ]
  },
  {
   "cell_type": "code",
   "execution_count": null,
   "metadata": {},
   "outputs": [],
   "source": [
    "BLfore['BrierB365'] = (BLfore['B365probH'] - BLfore['Houtcome'])**2 +(BLfore['B365probD'] - BLfore['Doutcome'])**2 +(BLfore['B365probA'] - BLfore['Aoutcome'])**2\n",
    "BLfore['Brierlogit'] = (BLfore['predH'] - BLfore['Houtcome'])**2 +(BLfore['predD'] - BLfore['Doutcome'])**2 + (BLfore['predA'] - BLfore['Aoutcome'])**2\n"
   ]
  },
  {
   "cell_type": "code",
   "execution_count": null,
   "metadata": {},
   "outputs": [],
   "source": [
    "BLfore['BrierB365'].mean()"
   ]
  },
  {
   "cell_type": "code",
   "execution_count": null,
   "metadata": {},
   "outputs": [],
   "source": [
    "BLfore['Brierlogit'].mean()"
   ]
  },
  {
   "cell_type": "code",
   "execution_count": null,
   "metadata": {},
   "outputs": [],
   "source": []
  }
 ],
 "metadata": {
  "kernelspec": {
   "display_name": "Python 3",
   "language": "python",
   "name": "python3"
  },
  "language_info": {
   "codemirror_mode": {
    "name": "ipython",
    "version": 3
   },
   "file_extension": ".py",
   "mimetype": "text/x-python",
   "name": "python",
   "nbconvert_exporter": "python",
   "pygments_lexer": "ipython3",
   "version": "3.7.4"
  }
 },
 "nbformat": 4,
 "nbformat_minor": 2
}
