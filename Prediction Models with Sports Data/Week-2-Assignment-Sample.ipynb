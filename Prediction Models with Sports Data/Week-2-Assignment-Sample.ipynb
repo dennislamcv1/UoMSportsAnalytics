{
 "cells": [
  {
   "cell_type": "code",
   "execution_count": null,
   "metadata": {},
   "outputs": [],
   "source": [
    "# install the packages we need\n",
    "\n",
    "import pandas as pd\n",
    "import numpy as np\n",
    "import matplotlib.pyplot as plt\n",
    "import seaborn as sns"
   ]
  },
  {
   "cell_type": "code",
   "execution_count": null,
   "metadata": {},
   "outputs": [],
   "source": [
    "# load the data\n",
    "\n",
    "NBA19 = pd.read_excel(\"Assignment Data/NBA2019odds.xlsx\")\n",
    "NBA19"
   ]
  },
  {
   "cell_type": "code",
   "execution_count": null,
   "metadata": {},
   "outputs": [],
   "source": [
    "NBA19['winprob']= 1/(NBA19['winodds'])/(1/(NBA19['winodds'])+ 1/(NBA19['loseodds']))\n",
    "NBA19 = NBA19[NBA19.home == 1]\n",
    "NBA19"
   ]
  },
  {
   "cell_type": "code",
   "execution_count": null,
   "metadata": {},
   "outputs": [],
   "source": [
    "np.corrcoef(NBA19[\"winprob\"], NBA19['win'])"
   ]
  },
  {
   "cell_type": "code",
   "execution_count": null,
   "metadata": {},
   "outputs": [],
   "source": [
    "NBA19['absdiff'] = abs(NBA19['teampts'] - NBA19['oppopts']) \n",
    "NBA19"
   ]
  },
  {
   "cell_type": "code",
   "execution_count": null,
   "metadata": {},
   "outputs": [],
   "source": [
    "np.median(NBA19['absdiff'])"
   ]
  },
  {
   "cell_type": "code",
   "execution_count": null,
   "metadata": {},
   "outputs": [],
   "source": [
    "NBAl = NBA19[NBA19['absdiff']<9]\n",
    "np.corrcoef(NBAl[\"winprob\"], NBAl['win'])"
   ]
  },
  {
   "cell_type": "code",
   "execution_count": null,
   "metadata": {},
   "outputs": [],
   "source": [
    "NBAh = NBA19[NBA19['absdiff']>9]\n",
    "np.corrcoef(NBAh[\"winprob\"], NBAh['win'])"
   ]
  },
  {
   "cell_type": "code",
   "execution_count": null,
   "metadata": {},
   "outputs": [],
   "source": [
    "NBAOT = NBA19[NBA19['overtime'] == 1]\n",
    "np.corrcoef(NBAOT[\"winprob\"], NBAOT['win'])"
   ]
  },
  {
   "cell_type": "code",
   "execution_count": null,
   "metadata": {},
   "outputs": [],
   "source": [
    "NBAreg = NBA19[NBA19['overtime'] == 0]\n",
    "np.corrcoef(NBAreg[\"winprob\"], NBAreg['win'])"
   ]
  },
  {
   "cell_type": "code",
   "execution_count": null,
   "metadata": {},
   "outputs": [],
   "source": [
    "NBA2018 = NBA19[NBA19['year'] == 2018]\n",
    "np.corrcoef(NBA2018[\"winprob\"], NBA2018['win'])"
   ]
  },
  {
   "cell_type": "code",
   "execution_count": null,
   "metadata": {},
   "outputs": [],
   "source": [
    "NBA2019 = NBA19[NBA19['year'] == 2019]\n",
    "np.corrcoef(NBA2019[\"winprob\"], NBA2019['win'])"
   ]
  },
  {
   "cell_type": "code",
   "execution_count": null,
   "metadata": {},
   "outputs": [],
   "source": [
    "NBAOct = NBA19[NBA19['month'] == 10]\n",
    "np.corrcoef(NBAOct[\"winprob\"], NBAOct['win'])"
   ]
  },
  {
   "cell_type": "code",
   "execution_count": null,
   "metadata": {},
   "outputs": [],
   "source": [
    "NBANov = NBA19[NBA19['month'] == 11]\n",
    "np.corrcoef(NBANov[\"winprob\"], NBANov['win'])"
   ]
  },
  {
   "cell_type": "code",
   "execution_count": null,
   "metadata": {},
   "outputs": [],
   "source": [
    "NBADec = NBA19[NBA19['month'] == 12]\n",
    "np.corrcoef(NBADec[\"winprob\"], NBADec['win'])"
   ]
  },
  {
   "cell_type": "code",
   "execution_count": null,
   "metadata": {},
   "outputs": [],
   "source": [
    "NBAJan = NBA19[NBA19['month'] == 1]\n",
    "np.corrcoef(NBAJan[\"winprob\"], NBAJan['win'])"
   ]
  },
  {
   "cell_type": "code",
   "execution_count": null,
   "metadata": {},
   "outputs": [],
   "source": [
    "NBAFeb = NBA19[NBA19['month'] == 2]\n",
    "np.corrcoef(NBAFeb[\"winprob\"], NBAFeb['win'])"
   ]
  },
  {
   "cell_type": "code",
   "execution_count": null,
   "metadata": {},
   "outputs": [],
   "source": [
    "NBAMar = NBA19[NBA19['month'] == 3]\n",
    "np.corrcoef(NBAMar[\"winprob\"], NBAMar['win'])"
   ]
  },
  {
   "cell_type": "code",
   "execution_count": null,
   "metadata": {},
   "outputs": [],
   "source": [
    "NBAApr = NBA19[NBA19['month'] == 4]\n",
    "np.corrcoef(NBAApr[\"winprob\"], NBAApr['win'])"
   ]
  }
 ],
 "metadata": {
  "kernelspec": {
   "display_name": "Python 3",
   "language": "python",
   "name": "python3"
  },
  "language_info": {
   "codemirror_mode": {
    "name": "ipython",
    "version": 3
   },
   "file_extension": ".py",
   "mimetype": "text/x-python",
   "name": "python",
   "nbconvert_exporter": "python",
   "pygments_lexer": "ipython3",
   "version": "3.7.4"
  }
 },
 "nbformat": 4,
 "nbformat_minor": 2
}
