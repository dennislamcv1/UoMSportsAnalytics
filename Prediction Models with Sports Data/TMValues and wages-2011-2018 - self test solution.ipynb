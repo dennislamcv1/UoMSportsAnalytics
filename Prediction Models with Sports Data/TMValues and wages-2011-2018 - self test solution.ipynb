{
 "cells": [
  {
   "cell_type": "markdown",
   "metadata": {},
   "source": [
    "# Prediction and forecasting results in the English Premier League\n",
    "\n",
    "## Self tests"
   ]
  },
  {
   "cell_type": "code",
   "execution_count": 1,
   "metadata": {},
   "outputs": [
    {
     "data": {
      "text/html": [
       "\n",
       "<style>\n",
       "    div#notebook-container    { width: 95%; }\n",
       "    div#menubar-container     { width: 65%; }\n",
       "    div#maintoolbar-container { width: 99%; }\n",
       "</style>\n"
      ],
      "text/plain": [
       "<IPython.core.display.HTML object>"
      ]
     },
     "metadata": {},
     "output_type": "display_data"
    }
   ],
   "source": [
    "# This code widens the working frame to fill the full screenwidth, which is often useful.\n",
    "\n",
    "from IPython.display import display, HTML\n",
    "\n",
    "display(HTML(data=\"\"\"\n",
    "<style>\n",
    "    div#notebook-container    { width: 95%; }\n",
    "    div#menubar-container     { width: 65%; }\n",
    "    div#maintoolbar-container { width: 99%; }\n",
    "</style>\n",
    "\"\"\"))"
   ]
  },
  {
   "cell_type": "code",
   "execution_count": 2,
   "metadata": {},
   "outputs": [],
   "source": [
    "# Here we import the packages we will need\n",
    "\n",
    "import pandas as pd\n",
    "import numpy as np\n",
    "import matplotlib.pyplot as plt\n",
    "import seaborn as sns\n",
    "import statsmodels.formula.api as smf"
   ]
  },
  {
   "cell_type": "code",
   "execution_count": 3,
   "metadata": {},
   "outputs": [],
   "source": [
    "wagedat=pd.read_excel(\"../../Data/Week 3/EPL club wages and position 1997-2018.xlsx\")\n",
    "TMdat = pd.read_excel(\"../../Data/Week 3/EPL TM values 2010-11 to 2019-20.xlsx\")"
   ]
  },
  {
   "cell_type": "code",
   "execution_count": 4,
   "metadata": {},
   "outputs": [],
   "source": [
    "wagedat['teamid'] = wagedat['Club']+wagedat['seasonyrend'].map(str)\n"
   ]
  },
  {
   "cell_type": "code",
   "execution_count": 5,
   "metadata": {},
   "outputs": [],
   "source": [
    "# create the same team/year id in TMdat\n",
    "\n",
    "TMdat['teamid'] = TMdat['Club']+TMdat['seasonyrend'].map(str)\n"
   ]
  },
  {
   "cell_type": "markdown",
   "metadata": {},
   "source": [
    "## Self Test - 1\n",
    "\n",
    "Create the merged file but include the 'Position' variable from the wagedat df as well."
   ]
  },
  {
   "cell_type": "code",
   "execution_count": 6,
   "metadata": {},
   "outputs": [
    {
     "data": {
      "text/html": [
       "<div>\n",
       "<style scoped>\n",
       "    .dataframe tbody tr th:only-of-type {\n",
       "        vertical-align: middle;\n",
       "    }\n",
       "\n",
       "    .dataframe tbody tr th {\n",
       "        vertical-align: top;\n",
       "    }\n",
       "\n",
       "    .dataframe thead th {\n",
       "        text-align: right;\n",
       "    }\n",
       "</style>\n",
       "<table border=\"1\" class=\"dataframe\">\n",
       "  <thead>\n",
       "    <tr style=\"text-align: right;\">\n",
       "      <th></th>\n",
       "      <th>teamid</th>\n",
       "      <th>TMValue</th>\n",
       "      <th>seasonyrend</th>\n",
       "      <th>wages</th>\n",
       "      <th>Position</th>\n",
       "    </tr>\n",
       "  </thead>\n",
       "  <tbody>\n",
       "    <tr>\n",
       "      <td>0</td>\n",
       "      <td>Arsenal2011</td>\n",
       "      <td>272.70</td>\n",
       "      <td>2011</td>\n",
       "      <td>124401000.0</td>\n",
       "      <td>4.0</td>\n",
       "    </tr>\n",
       "    <tr>\n",
       "      <td>1</td>\n",
       "      <td>Aston Villa2011</td>\n",
       "      <td>127.94</td>\n",
       "      <td>2011</td>\n",
       "      <td>83395000.0</td>\n",
       "      <td>9.0</td>\n",
       "    </tr>\n",
       "    <tr>\n",
       "      <td>2</td>\n",
       "      <td>Birmingham City2011</td>\n",
       "      <td>68.00</td>\n",
       "      <td>2011</td>\n",
       "      <td>45088340.0</td>\n",
       "      <td>18.0</td>\n",
       "    </tr>\n",
       "    <tr>\n",
       "      <td>3</td>\n",
       "      <td>Blackburn Rovers2011</td>\n",
       "      <td>65.93</td>\n",
       "      <td>2011</td>\n",
       "      <td>49869577.0</td>\n",
       "      <td>15.0</td>\n",
       "    </tr>\n",
       "    <tr>\n",
       "      <td>4</td>\n",
       "      <td>Blackpool2011</td>\n",
       "      <td>24.37</td>\n",
       "      <td>2011</td>\n",
       "      <td>26014248.0</td>\n",
       "      <td>19.0</td>\n",
       "    </tr>\n",
       "    <tr>\n",
       "      <td>...</td>\n",
       "      <td>...</td>\n",
       "      <td>...</td>\n",
       "      <td>...</td>\n",
       "      <td>...</td>\n",
       "      <td>...</td>\n",
       "    </tr>\n",
       "    <tr>\n",
       "      <td>195</td>\n",
       "      <td>Southampton2020</td>\n",
       "      <td>209.70</td>\n",
       "      <td>2020</td>\n",
       "      <td>NaN</td>\n",
       "      <td>NaN</td>\n",
       "    </tr>\n",
       "    <tr>\n",
       "      <td>196</td>\n",
       "      <td>Tottenham Hotspur2020</td>\n",
       "      <td>881.55</td>\n",
       "      <td>2020</td>\n",
       "      <td>NaN</td>\n",
       "      <td>NaN</td>\n",
       "    </tr>\n",
       "    <tr>\n",
       "      <td>197</td>\n",
       "      <td>Watford2020</td>\n",
       "      <td>214.52</td>\n",
       "      <td>2020</td>\n",
       "      <td>NaN</td>\n",
       "      <td>NaN</td>\n",
       "    </tr>\n",
       "    <tr>\n",
       "      <td>198</td>\n",
       "      <td>West Ham United2020</td>\n",
       "      <td>299.03</td>\n",
       "      <td>2020</td>\n",
       "      <td>NaN</td>\n",
       "      <td>NaN</td>\n",
       "    </tr>\n",
       "    <tr>\n",
       "      <td>199</td>\n",
       "      <td>Wolverhampton Wanderers2020</td>\n",
       "      <td>276.98</td>\n",
       "      <td>2020</td>\n",
       "      <td>NaN</td>\n",
       "      <td>NaN</td>\n",
       "    </tr>\n",
       "  </tbody>\n",
       "</table>\n",
       "<p>200 rows × 5 columns</p>\n",
       "</div>"
      ],
      "text/plain": [
       "                          teamid  TMValue  seasonyrend        wages  Position\n",
       "0                    Arsenal2011   272.70         2011  124401000.0       4.0\n",
       "1                Aston Villa2011   127.94         2011   83395000.0       9.0\n",
       "2            Birmingham City2011    68.00         2011   45088340.0      18.0\n",
       "3           Blackburn Rovers2011    65.93         2011   49869577.0      15.0\n",
       "4                  Blackpool2011    24.37         2011   26014248.0      19.0\n",
       "..                           ...      ...          ...          ...       ...\n",
       "195              Southampton2020   209.70         2020          NaN       NaN\n",
       "196        Tottenham Hotspur2020   881.55         2020          NaN       NaN\n",
       "197                  Watford2020   214.52         2020          NaN       NaN\n",
       "198          West Ham United2020   299.03         2020          NaN       NaN\n",
       "199  Wolverhampton Wanderers2020   276.98         2020          NaN       NaN\n",
       "\n",
       "[200 rows x 5 columns]"
      ]
     },
     "execution_count": 6,
     "metadata": {},
     "output_type": "execute_result"
    }
   ],
   "source": [
    "#Self Test\n",
    "TMdat = pd.merge(TMdat[['teamid','TMValue','seasonyrend']],wagedat[['teamid','wages', 'Position']], on= 'teamid', how = 'left')\n",
    "TMdat"
   ]
  },
  {
   "cell_type": "code",
   "execution_count": 7,
   "metadata": {
    "scrolled": true
   },
   "outputs": [
    {
     "data": {
      "text/html": [
       "<div>\n",
       "<style scoped>\n",
       "    .dataframe tbody tr th:only-of-type {\n",
       "        vertical-align: middle;\n",
       "    }\n",
       "\n",
       "    .dataframe tbody tr th {\n",
       "        vertical-align: top;\n",
       "    }\n",
       "\n",
       "    .dataframe thead th {\n",
       "        text-align: right;\n",
       "    }\n",
       "</style>\n",
       "<table border=\"1\" class=\"dataframe\">\n",
       "  <thead>\n",
       "    <tr style=\"text-align: right;\">\n",
       "      <th></th>\n",
       "      <th>teamid</th>\n",
       "      <th>TMValue</th>\n",
       "      <th>seasonyrend</th>\n",
       "      <th>wages</th>\n",
       "      <th>Position</th>\n",
       "    </tr>\n",
       "  </thead>\n",
       "  <tbody>\n",
       "    <tr>\n",
       "      <td>0</td>\n",
       "      <td>Arsenal2011</td>\n",
       "      <td>272.70</td>\n",
       "      <td>2011</td>\n",
       "      <td>124.401000</td>\n",
       "      <td>4.0</td>\n",
       "    </tr>\n",
       "    <tr>\n",
       "      <td>1</td>\n",
       "      <td>Aston Villa2011</td>\n",
       "      <td>127.94</td>\n",
       "      <td>2011</td>\n",
       "      <td>83.395000</td>\n",
       "      <td>9.0</td>\n",
       "    </tr>\n",
       "    <tr>\n",
       "      <td>2</td>\n",
       "      <td>Birmingham City2011</td>\n",
       "      <td>68.00</td>\n",
       "      <td>2011</td>\n",
       "      <td>45.088340</td>\n",
       "      <td>18.0</td>\n",
       "    </tr>\n",
       "    <tr>\n",
       "      <td>3</td>\n",
       "      <td>Blackburn Rovers2011</td>\n",
       "      <td>65.93</td>\n",
       "      <td>2011</td>\n",
       "      <td>49.869577</td>\n",
       "      <td>15.0</td>\n",
       "    </tr>\n",
       "    <tr>\n",
       "      <td>4</td>\n",
       "      <td>Blackpool2011</td>\n",
       "      <td>24.37</td>\n",
       "      <td>2011</td>\n",
       "      <td>26.014248</td>\n",
       "      <td>19.0</td>\n",
       "    </tr>\n",
       "    <tr>\n",
       "      <td>...</td>\n",
       "      <td>...</td>\n",
       "      <td>...</td>\n",
       "      <td>...</td>\n",
       "      <td>...</td>\n",
       "      <td>...</td>\n",
       "    </tr>\n",
       "    <tr>\n",
       "      <td>195</td>\n",
       "      <td>Southampton2020</td>\n",
       "      <td>209.70</td>\n",
       "      <td>2020</td>\n",
       "      <td>NaN</td>\n",
       "      <td>NaN</td>\n",
       "    </tr>\n",
       "    <tr>\n",
       "      <td>196</td>\n",
       "      <td>Tottenham Hotspur2020</td>\n",
       "      <td>881.55</td>\n",
       "      <td>2020</td>\n",
       "      <td>NaN</td>\n",
       "      <td>NaN</td>\n",
       "    </tr>\n",
       "    <tr>\n",
       "      <td>197</td>\n",
       "      <td>Watford2020</td>\n",
       "      <td>214.52</td>\n",
       "      <td>2020</td>\n",
       "      <td>NaN</td>\n",
       "      <td>NaN</td>\n",
       "    </tr>\n",
       "    <tr>\n",
       "      <td>198</td>\n",
       "      <td>West Ham United2020</td>\n",
       "      <td>299.03</td>\n",
       "      <td>2020</td>\n",
       "      <td>NaN</td>\n",
       "      <td>NaN</td>\n",
       "    </tr>\n",
       "    <tr>\n",
       "      <td>199</td>\n",
       "      <td>Wolverhampton Wanderers2020</td>\n",
       "      <td>276.98</td>\n",
       "      <td>2020</td>\n",
       "      <td>NaN</td>\n",
       "      <td>NaN</td>\n",
       "    </tr>\n",
       "  </tbody>\n",
       "</table>\n",
       "<p>200 rows × 5 columns</p>\n",
       "</div>"
      ],
      "text/plain": [
       "                          teamid  TMValue  seasonyrend       wages  Position\n",
       "0                    Arsenal2011   272.70         2011  124.401000       4.0\n",
       "1                Aston Villa2011   127.94         2011   83.395000       9.0\n",
       "2            Birmingham City2011    68.00         2011   45.088340      18.0\n",
       "3           Blackburn Rovers2011    65.93         2011   49.869577      15.0\n",
       "4                  Blackpool2011    24.37         2011   26.014248      19.0\n",
       "..                           ...      ...          ...         ...       ...\n",
       "195              Southampton2020   209.70         2020         NaN       NaN\n",
       "196        Tottenham Hotspur2020   881.55         2020         NaN       NaN\n",
       "197                  Watford2020   214.52         2020         NaN       NaN\n",
       "198          West Ham United2020   299.03         2020         NaN       NaN\n",
       "199  Wolverhampton Wanderers2020   276.98         2020         NaN       NaN\n",
       "\n",
       "[200 rows x 5 columns]"
      ]
     },
     "execution_count": 7,
     "metadata": {},
     "output_type": "execute_result"
    }
   ],
   "source": [
    "# The TM data is expressed in £ million, while the wage data is in £. We can convert to common units by dividing wages by 1 million, \n",
    "# although this is not strictly necessary for the purpose of measuring correlation.\n",
    "\n",
    "TMdat['wages']=TMdat['wages']/1000000\n",
    "TMdat"
   ]
  },
  {
   "cell_type": "markdown",
   "metadata": {},
   "source": [
    "irst let's look at the correlation using a scatter diagram for all of the data. Using relplot in Seaborn (sns) we can see that the correlation is very close. using \"hue\" helps us to see how the data varies by year, but in fact the pattern is pretty consistent across all years"
   ]
  },
  {
   "cell_type": "code",
   "execution_count": 8,
   "metadata": {},
   "outputs": [
    {
     "data": {
      "text/plain": [
       "<seaborn.axisgrid.FacetGrid at 0x1e13cc30908>"
      ]
     },
     "execution_count": 8,
     "metadata": {},
     "output_type": "execute_result"
    },
    {
     "data": {
      "image/png": "[encoded data removed]",
      "text/plain": [
       "<Figure size 460x360 with 1 Axes>"
      ]
     },
     "metadata": {
      "needs_background": "light"
     },
     "output_type": "display_data"
    }
   ],
   "source": [
    "sns.relplot(x=\"wages\", y=\"TMValue\", data = TMdat, s=30, hue = \"seasonyrend\")"
   ]
  },
  {
   "cell_type": "code",
   "execution_count": 9,
   "metadata": {},
   "outputs": [
    {
     "data": {
      "text/plain": [
       "<matplotlib.axes._subplots.AxesSubplot at 0x1e13cc60e08>"
      ]
     },
     "execution_count": 9,
     "metadata": {},
     "output_type": "execute_result"
    },
    {
     "data": {
      "image/png": "[encoded data removed]",
      "text/plain": [
       "<Figure size 432x288 with 1 Axes>"
      ]
     },
     "metadata": {
      "needs_background": "light"
     },
     "output_type": "display_data"
    }
   ],
   "source": [
    "# If we use 'regplot' instead of 'relplot', we can add a regression line to the chart.\n",
    "\n",
    "sns.regplot(x=\"wages\", y=\"TMValue\", data = TMdat, scatter_kws={'s':10}, ci = False)"
   ]
  },
  {
   "cell_type": "markdown",
   "metadata": {},
   "source": [
    "## Self test - 2\n",
    "\n",
    "Generate a relplot or regplot for (a) wages and Position and (b) TMValue and Position"
   ]
  },
  {
   "cell_type": "code",
   "execution_count": 10,
   "metadata": {},
   "outputs": [
    {
     "data": {
      "text/plain": [
       "<seaborn.axisgrid.FacetGrid at 0x1e13d09ac48>"
      ]
     },
     "execution_count": 10,
     "metadata": {},
     "output_type": "execute_result"
    },
    {
     "data": {
      "image/png": "[encoded data removed]",
      "text/plain": [
       "<Figure size 460x360 with 1 Axes>"
      ]
     },
     "metadata": {
      "needs_background": "light"
     },
     "output_type": "display_data"
    }
   ],
   "source": [
    "#Self Test a)\n",
    "sns.relplot(x=\"wages\", y=\"Position\", data = TMdat, s=30, hue = \"seasonyrend\")"
   ]
  },
  {
   "cell_type": "code",
   "execution_count": 11,
   "metadata": {},
   "outputs": [
    {
     "data": {
      "text/plain": [
       "<seaborn.axisgrid.FacetGrid at 0x1e13d0ae5c8>"
      ]
     },
     "execution_count": 11,
     "metadata": {},
     "output_type": "execute_result"
    },
    {
     "data": {
      "image/png": "[encoded data removed]",
      "text/plain": [
       "<Figure size 460x360 with 1 Axes>"
      ]
     },
     "metadata": {
      "needs_background": "light"
     },
     "output_type": "display_data"
    }
   ],
   "source": [
    "#Self Test b)\n",
    "sns.relplot(x=\"TMValue\", y=\"Position\", data = TMdat, s=30, hue = \"seasonyrend\")"
   ]
  },
  {
   "cell_type": "code",
   "execution_count": 12,
   "metadata": {
    "scrolled": true
   },
   "outputs": [
    {
     "data": {
      "text/html": [
       "<table class=\"simpletable\">\n",
       "<caption>OLS Regression Results</caption>\n",
       "<tr>\n",
       "  <th>Dep. Variable:</th>         <td>TMValue</td>     <th>  R-squared:         </th> <td>   0.909</td>\n",
       "</tr>\n",
       "<tr>\n",
       "  <th>Model:</th>                   <td>OLS</td>       <th>  Adj. R-squared:    </th> <td>   0.908</td>\n",
       "</tr>\n",
       "<tr>\n",
       "  <th>Method:</th>             <td>Least Squares</td>  <th>  F-statistic:       </th> <td>   1575.</td>\n",
       "</tr>\n",
       "<tr>\n",
       "  <th>Date:</th>             <td>Wed, 06 Jan 2021</td> <th>  Prob (F-statistic):</th> <td>4.46e-84</td>\n",
       "</tr>\n",
       "<tr>\n",
       "  <th>Time:</th>                 <td>13:03:27</td>     <th>  Log-Likelihood:    </th> <td> -823.24</td>\n",
       "</tr>\n",
       "<tr>\n",
       "  <th>No. Observations:</th>      <td>   160</td>      <th>  AIC:               </th> <td>   1650.</td>\n",
       "</tr>\n",
       "<tr>\n",
       "  <th>Df Residuals:</th>          <td>   158</td>      <th>  BIC:               </th> <td>   1657.</td>\n",
       "</tr>\n",
       "<tr>\n",
       "  <th>Df Model:</th>              <td>     1</td>      <th>                     </th>     <td> </td>   \n",
       "</tr>\n",
       "<tr>\n",
       "  <th>Covariance Type:</th>      <td>nonrobust</td>    <th>                     </th>     <td> </td>   \n",
       "</tr>\n",
       "</table>\n",
       "<table class=\"simpletable\">\n",
       "<tr>\n",
       "      <td></td>         <th>coef</th>     <th>std err</th>      <th>t</th>      <th>P>|t|</th>  <th>[0.025</th>    <th>0.975]</th>  \n",
       "</tr>\n",
       "<tr>\n",
       "  <th>Intercept</th> <td>  -41.3114</td> <td>    6.418</td> <td>   -6.436</td> <td> 0.000</td> <td>  -53.988</td> <td>  -28.634</td>\n",
       "</tr>\n",
       "<tr>\n",
       "  <th>wages</th>     <td>    2.1262</td> <td>    0.054</td> <td>   39.687</td> <td> 0.000</td> <td>    2.020</td> <td>    2.232</td>\n",
       "</tr>\n",
       "</table>\n",
       "<table class=\"simpletable\">\n",
       "<tr>\n",
       "  <th>Omnibus:</th>       <td>11.482</td> <th>  Durbin-Watson:     </th> <td>   2.266</td>\n",
       "</tr>\n",
       "<tr>\n",
       "  <th>Prob(Omnibus):</th> <td> 0.003</td> <th>  Jarque-Bera (JB):  </th> <td>  12.844</td>\n",
       "</tr>\n",
       "<tr>\n",
       "  <th>Skew:</th>          <td> 0.531</td> <th>  Prob(JB):          </th> <td> 0.00163</td>\n",
       "</tr>\n",
       "<tr>\n",
       "  <th>Kurtosis:</th>      <td> 3.893</td> <th>  Cond. No.          </th> <td>    233.</td>\n",
       "</tr>\n",
       "</table><br/><br/>Warnings:<br/>[1] Standard Errors assume that the covariance matrix of the errors is correctly specified."
      ],
      "text/plain": [
       "<class 'statsmodels.iolib.summary.Summary'>\n",
       "\"\"\"\n",
       "                            OLS Regression Results                            \n",
       "==============================================================================\n",
       "Dep. Variable:                TMValue   R-squared:                       0.909\n",
       "Model:                            OLS   Adj. R-squared:                  0.908\n",
       "Method:                 Least Squares   F-statistic:                     1575.\n",
       "Date:                Wed, 06 Jan 2021   Prob (F-statistic):           4.46e-84\n",
       "Time:                        13:03:27   Log-Likelihood:                -823.24\n",
       "No. Observations:                 160   AIC:                             1650.\n",
       "Df Residuals:                     158   BIC:                             1657.\n",
       "Df Model:                           1                                         \n",
       "Covariance Type:            nonrobust                                         \n",
       "==============================================================================\n",
       "                 coef    std err          t      P>|t|      [0.025      0.975]\n",
       "------------------------------------------------------------------------------\n",
       "Intercept    -41.3114      6.418     -6.436      0.000     -53.988     -28.634\n",
       "wages          2.1262      0.054     39.687      0.000       2.020       2.232\n",
       "==============================================================================\n",
       "Omnibus:                       11.482   Durbin-Watson:                   2.266\n",
       "Prob(Omnibus):                  0.003   Jarque-Bera (JB):               12.844\n",
       "Skew:                           0.531   Prob(JB):                      0.00163\n",
       "Kurtosis:                       3.893   Cond. No.                         233.\n",
       "==============================================================================\n",
       "\n",
       "Warnings:\n",
       "[1] Standard Errors assume that the covariance matrix of the errors is correctly specified.\n",
       "\"\"\""
      ]
     },
     "execution_count": 12,
     "metadata": {},
     "output_type": "execute_result"
    }
   ],
   "source": [
    "TMwage_lm = smf.ols(formula = 'TMValue ~ wages', data=TMdat).fit()\n",
    "TMwage_lm.summary()"
   ]
  },
  {
   "cell_type": "code",
   "execution_count": 13,
   "metadata": {},
   "outputs": [
    {
     "name": "stdout",
     "output_type": "stream",
     "text": [
      "\n",
      "=========================\n",
      "                 TMValue \n",
      "-------------------------\n",
      "Intercept        -41.3114\n",
      "                 (6.4184)\n",
      "wages            2.1262  \n",
      "                 (0.0536)\n",
      "R-squared        0.91    \n",
      "No. observations 160     \n",
      "=========================\n",
      "Standard errors in\n",
      "parentheses.\n"
     ]
    }
   ],
   "source": [
    "from statsmodels.iolib.summary2 import summary_col\n",
    "info_dict={'R-squared' : lambda x: f\"{x.rsquared:.2f}\",\n",
    "           'No. observations' : lambda x: f\"{int(x.nobs):d}\"}\n",
    "TMwage_Out = summary_col(TMwage_lm,info_dict = info_dict)\n",
    "print(TMwage_Out)"
   ]
  },
  {
   "cell_type": "code",
   "execution_count": 14,
   "metadata": {
    "scrolled": false
   },
   "outputs": [
    {
     "name": "stdout",
     "output_type": "stream",
     "text": [
      "\n",
      "=====================================================================================================================\n",
      "                     All        2011      2012        2013       2014        2015       2016       2017       2018   \n",
      "---------------------------------------------------------------------------------------------------------------------\n",
      "Intercept        -41.3114*** -16.0649  -41.9445** -51.8969*** -42.3952** -55.7933*** -24.8110  -76.4519*** -72.4432**\n",
      "                 (6.4184)    (13.9340) (14.6265)  (13.5827)   (16.9183)  (14.2330)   (21.0048) (22.2210)   (29.6730) \n",
      "wages            2.1262***   2.0355*** 2.3286***  2.2880***   2.1202***  2.2213***   1.9026*** 2.3548***   2.2253*** \n",
      "                 (0.0536)    (0.1507)  (0.1541)   (0.1303)    (0.1550)   (0.1228)    (0.1683)  (0.1574)    (0.1857)  \n",
      "R-squared        0.91        0.91      0.93       0.94        0.91       0.95        0.88      0.93        0.89      \n",
      "No. observations 160         20        20         20          20         20          20        20          20        \n",
      "=====================================================================================================================\n",
      "Standard errors in parentheses.\n",
      "* p<.1, ** p<.05, ***p<.01\n"
     ]
    }
   ],
   "source": [
    "TM2011 = TMdat[TMdat.seasonyrend == 2011]\n",
    "TM2012 = TMdat[TMdat.seasonyrend == 2012]\n",
    "TM2013 = TMdat[TMdat.seasonyrend == 2013]\n",
    "TM2014 = TMdat[TMdat.seasonyrend == 2014]\n",
    "TM2015 = TMdat[TMdat.seasonyrend == 2015]\n",
    "TM2016 = TMdat[TMdat.seasonyrend == 2016]\n",
    "TM2017 = TMdat[TMdat.seasonyrend == 2017]\n",
    "TM2018 = TMdat[TMdat.seasonyrend == 2018]\n",
    "\n",
    "TM2011_lm = smf.ols(formula = 'TMValue ~ wages', data=TM2011).fit()\n",
    "TM2012_lm = smf.ols(formula = 'TMValue ~ wages', data=TM2012).fit()\n",
    "TM2013_lm = smf.ols(formula = 'TMValue ~ wages', data=TM2013).fit()\n",
    "TM2014_lm = smf.ols(formula = 'TMValue ~ wages', data=TM2014).fit()\n",
    "TM2015_lm = smf.ols(formula = 'TMValue ~ wages', data=TM2015).fit()\n",
    "TM2016_lm = smf.ols(formula = 'TMValue ~ wages', data=TM2016).fit()\n",
    "TM2017_lm = smf.ols(formula = 'TMValue ~ wages', data=TM2017).fit()\n",
    "TM2018_lm = smf.ols(formula = 'TMValue ~ wages', data=TM2018).fit()\n",
    "\n",
    "\n",
    "AllTM = [\"All\",'2011','2012','2013','2014','2015','2016','2017','2018']\n",
    "\n",
    "TMAll_Out = summary_col([TMwage_lm,TM2011_lm, TM2012_lm,TM2013_lm, TM2014_lm,TM2015_lm,TM2016_lm, TM2017_lm,TM2018_lm],\\\n",
    "                        model_names = AllTM, stars=True, info_dict = info_dict)\n",
    "\n",
    "print(TMAll_Out)"
   ]
  },
  {
   "cell_type": "markdown",
   "metadata": {},
   "source": [
    "## Self test - 3\n",
    "\n",
    "run a regression of Position on (a) wages and (b) TMValue for all the seasons combined (i.e. not season by season) and compare the two regressions "
   ]
  },
  {
   "cell_type": "code",
   "execution_count": 15,
   "metadata": {},
   "outputs": [
    {
     "data": {
      "text/html": [
       "<table class=\"simpletable\">\n",
       "<caption>OLS Regression Results</caption>\n",
       "<tr>\n",
       "  <th>Dep. Variable:</th>        <td>Position</td>     <th>  R-squared:         </th> <td>   0.483</td>\n",
       "</tr>\n",
       "<tr>\n",
       "  <th>Model:</th>                   <td>OLS</td>       <th>  Adj. R-squared:    </th> <td>   0.480</td>\n",
       "</tr>\n",
       "<tr>\n",
       "  <th>Method:</th>             <td>Least Squares</td>  <th>  F-statistic:       </th> <td>   147.5</td>\n",
       "</tr>\n",
       "<tr>\n",
       "  <th>Date:</th>             <td>Wed, 06 Jan 2021</td> <th>  Prob (F-statistic):</th> <td>2.17e-24</td>\n",
       "</tr>\n",
       "<tr>\n",
       "  <th>Time:</th>                 <td>13:03:27</td>     <th>  Log-Likelihood:    </th> <td> -454.61</td>\n",
       "</tr>\n",
       "<tr>\n",
       "  <th>No. Observations:</th>      <td>   160</td>      <th>  AIC:               </th> <td>   913.2</td>\n",
       "</tr>\n",
       "<tr>\n",
       "  <th>Df Residuals:</th>          <td>   158</td>      <th>  BIC:               </th> <td>   919.4</td>\n",
       "</tr>\n",
       "<tr>\n",
       "  <th>Df Model:</th>              <td>     1</td>      <th>                     </th>     <td> </td>   \n",
       "</tr>\n",
       "<tr>\n",
       "  <th>Covariance Type:</th>      <td>nonrobust</td>    <th>                     </th>     <td> </td>   \n",
       "</tr>\n",
       "</table>\n",
       "<table class=\"simpletable\">\n",
       "<tr>\n",
       "      <td></td>         <th>coef</th>     <th>std err</th>      <th>t</th>      <th>P>|t|</th>  <th>[0.025</th>    <th>0.975]</th>  \n",
       "</tr>\n",
       "<tr>\n",
       "  <th>Intercept</th> <td>   17.1741</td> <td>    0.641</td> <td>   26.793</td> <td> 0.000</td> <td>   15.908</td> <td>   18.440</td>\n",
       "</tr>\n",
       "<tr>\n",
       "  <th>wages</th>     <td>   -0.0650</td> <td>    0.005</td> <td>  -12.144</td> <td> 0.000</td> <td>   -0.076</td> <td>   -0.054</td>\n",
       "</tr>\n",
       "</table>\n",
       "<table class=\"simpletable\">\n",
       "<tr>\n",
       "  <th>Omnibus:</th>       <td> 9.740</td> <th>  Durbin-Watson:     </th> <td>   1.715</td>\n",
       "</tr>\n",
       "<tr>\n",
       "  <th>Prob(Omnibus):</th> <td> 0.008</td> <th>  Jarque-Bera (JB):  </th> <td>   4.088</td>\n",
       "</tr>\n",
       "<tr>\n",
       "  <th>Skew:</th>          <td>-0.016</td> <th>  Prob(JB):          </th> <td>   0.130</td>\n",
       "</tr>\n",
       "<tr>\n",
       "  <th>Kurtosis:</th>      <td> 2.218</td> <th>  Cond. No.          </th> <td>    233.</td>\n",
       "</tr>\n",
       "</table><br/><br/>Warnings:<br/>[1] Standard Errors assume that the covariance matrix of the errors is correctly specified."
      ],
      "text/plain": [
       "<class 'statsmodels.iolib.summary.Summary'>\n",
       "\"\"\"\n",
       "                            OLS Regression Results                            \n",
       "==============================================================================\n",
       "Dep. Variable:               Position   R-squared:                       0.483\n",
       "Model:                            OLS   Adj. R-squared:                  0.480\n",
       "Method:                 Least Squares   F-statistic:                     147.5\n",
       "Date:                Wed, 06 Jan 2021   Prob (F-statistic):           2.17e-24\n",
       "Time:                        13:03:27   Log-Likelihood:                -454.61\n",
       "No. Observations:                 160   AIC:                             913.2\n",
       "Df Residuals:                     158   BIC:                             919.4\n",
       "Df Model:                           1                                         \n",
       "Covariance Type:            nonrobust                                         \n",
       "==============================================================================\n",
       "                 coef    std err          t      P>|t|      [0.025      0.975]\n",
       "------------------------------------------------------------------------------\n",
       "Intercept     17.1741      0.641     26.793      0.000      15.908      18.440\n",
       "wages         -0.0650      0.005    -12.144      0.000      -0.076      -0.054\n",
       "==============================================================================\n",
       "Omnibus:                        9.740   Durbin-Watson:                   1.715\n",
       "Prob(Omnibus):                  0.008   Jarque-Bera (JB):                4.088\n",
       "Skew:                          -0.016   Prob(JB):                        0.130\n",
       "Kurtosis:                       2.218   Cond. No.                         233.\n",
       "==============================================================================\n",
       "\n",
       "Warnings:\n",
       "[1] Standard Errors assume that the covariance matrix of the errors is correctly specified.\n",
       "\"\"\""
      ]
     },
     "execution_count": 15,
     "metadata": {},
     "output_type": "execute_result"
    }
   ],
   "source": [
    "#Self Test a)\n",
    "wagePos_lm = smf.ols(formula = 'Position ~ wages', data=TMdat).fit()\n",
    "wagePos_lm.summary()"
   ]
  },
  {
   "cell_type": "code",
   "execution_count": 16,
   "metadata": {},
   "outputs": [
    {
     "data": {
      "text/html": [
       "<table class=\"simpletable\">\n",
       "<caption>OLS Regression Results</caption>\n",
       "<tr>\n",
       "  <th>Dep. Variable:</th>        <td>Position</td>     <th>  R-squared:         </th> <td>   0.551</td>\n",
       "</tr>\n",
       "<tr>\n",
       "  <th>Model:</th>                   <td>OLS</td>       <th>  Adj. R-squared:    </th> <td>   0.548</td>\n",
       "</tr>\n",
       "<tr>\n",
       "  <th>Method:</th>             <td>Least Squares</td>  <th>  F-statistic:       </th> <td>   193.6</td>\n",
       "</tr>\n",
       "<tr>\n",
       "  <th>Date:</th>             <td>Wed, 06 Jan 2021</td> <th>  Prob (F-statistic):</th> <td>3.05e-29</td>\n",
       "</tr>\n",
       "<tr>\n",
       "  <th>Time:</th>                 <td>13:03:27</td>     <th>  Log-Likelihood:    </th> <td> -443.36</td>\n",
       "</tr>\n",
       "<tr>\n",
       "  <th>No. Observations:</th>      <td>   160</td>      <th>  AIC:               </th> <td>   890.7</td>\n",
       "</tr>\n",
       "<tr>\n",
       "  <th>Df Residuals:</th>          <td>   158</td>      <th>  BIC:               </th> <td>   896.9</td>\n",
       "</tr>\n",
       "<tr>\n",
       "  <th>Df Model:</th>              <td>     1</td>      <th>                     </th>     <td> </td>   \n",
       "</tr>\n",
       "<tr>\n",
       "  <th>Covariance Type:</th>      <td>nonrobust</td>    <th>                     </th>     <td> </td>   \n",
       "</tr>\n",
       "</table>\n",
       "<table class=\"simpletable\">\n",
       "<tr>\n",
       "      <td></td>         <th>coef</th>     <th>std err</th>      <th>t</th>      <th>P>|t|</th>  <th>[0.025</th>    <th>0.975]</th>  \n",
       "</tr>\n",
       "<tr>\n",
       "  <th>Intercept</th> <td>   16.0097</td> <td>    0.501</td> <td>   31.933</td> <td> 0.000</td> <td>   15.020</td> <td>   17.000</td>\n",
       "</tr>\n",
       "<tr>\n",
       "  <th>TMValue</th>   <td>   -0.0311</td> <td>    0.002</td> <td>  -13.915</td> <td> 0.000</td> <td>   -0.036</td> <td>   -0.027</td>\n",
       "</tr>\n",
       "</table>\n",
       "<table class=\"simpletable\">\n",
       "<tr>\n",
       "  <th>Omnibus:</th>       <td> 0.457</td> <th>  Durbin-Watson:     </th> <td>   1.783</td>\n",
       "</tr>\n",
       "<tr>\n",
       "  <th>Prob(Omnibus):</th> <td> 0.796</td> <th>  Jarque-Bera (JB):  </th> <td>   0.596</td>\n",
       "</tr>\n",
       "<tr>\n",
       "  <th>Skew:</th>          <td>-0.008</td> <th>  Prob(JB):          </th> <td>   0.742</td>\n",
       "</tr>\n",
       "<tr>\n",
       "  <th>Kurtosis:</th>      <td> 2.701</td> <th>  Cond. No.          </th> <td>    366.</td>\n",
       "</tr>\n",
       "</table><br/><br/>Warnings:<br/>[1] Standard Errors assume that the covariance matrix of the errors is correctly specified."
      ],
      "text/plain": [
       "<class 'statsmodels.iolib.summary.Summary'>\n",
       "\"\"\"\n",
       "                            OLS Regression Results                            \n",
       "==============================================================================\n",
       "Dep. Variable:               Position   R-squared:                       0.551\n",
       "Model:                            OLS   Adj. R-squared:                  0.548\n",
       "Method:                 Least Squares   F-statistic:                     193.6\n",
       "Date:                Wed, 06 Jan 2021   Prob (F-statistic):           3.05e-29\n",
       "Time:                        13:03:27   Log-Likelihood:                -443.36\n",
       "No. Observations:                 160   AIC:                             890.7\n",
       "Df Residuals:                     158   BIC:                             896.9\n",
       "Df Model:                           1                                         \n",
       "Covariance Type:            nonrobust                                         \n",
       "==============================================================================\n",
       "                 coef    std err          t      P>|t|      [0.025      0.975]\n",
       "------------------------------------------------------------------------------\n",
       "Intercept     16.0097      0.501     31.933      0.000      15.020      17.000\n",
       "TMValue       -0.0311      0.002    -13.915      0.000      -0.036      -0.027\n",
       "==============================================================================\n",
       "Omnibus:                        0.457   Durbin-Watson:                   1.783\n",
       "Prob(Omnibus):                  0.796   Jarque-Bera (JB):                0.596\n",
       "Skew:                          -0.008   Prob(JB):                        0.742\n",
       "Kurtosis:                       2.701   Cond. No.                         366.\n",
       "==============================================================================\n",
       "\n",
       "Warnings:\n",
       "[1] Standard Errors assume that the covariance matrix of the errors is correctly specified.\n",
       "\"\"\""
      ]
     },
     "execution_count": 16,
     "metadata": {},
     "output_type": "execute_result"
    }
   ],
   "source": [
    "#Self Test b)\n",
    "TMPos_lm = smf.ols(formula = 'Position ~ TMValue', data=TMdat).fit()\n",
    "TMPos_lm.summary()"
   ]
  }
 ],
 "metadata": {
  "kernelspec": {
   "display_name": "Python 3",
   "language": "python",
   "name": "python3"
  },
  "language_info": {
   "codemirror_mode": {
    "name": "ipython",
    "version": 3
   },
   "file_extension": ".py",
   "mimetype": "text/x-python",
   "name": "python",
   "nbconvert_exporter": "python",
   "pygments_lexer": "ipython3",
   "version": "3.7.4"
  }
 },
 "nbformat": 4,
 "nbformat_minor": 2
}
