{
 "cells": [
  {
   "cell_type": "markdown",
   "metadata": {},
   "source": [
    "## 1.1. LPM and Logit Model"
   ]
  },
  {
   "cell_type": "markdown",
   "metadata": {},
   "source": [
    "## Self Test - Exploratory Data Analysis Example\n",
    "- Instruction: Explore the imported data by using some python commands. Specifically you should be able to: \n",
    "    - Display the raw data \n",
    "    - Examine dimensionality of the raw data\n",
    "    - Obtain the list of variables\n",
    "    - Explore the data types in the dataset\n",
    "    - Obtain various summary statistics (e.g., mean, variance, etc.)\n",
    "    - Explore the missing values within the data frame"
   ]
  },
  {
   "cell_type": "code",
   "execution_count": null,
   "metadata": {},
   "outputs": [],
   "source": [
    "#Display data\n",
    "display(NHL_game[0:10])\n",
    "#Examine the size of data\n",
    "NHL_game.shape\n",
    "#Obtain the list of vairables\n",
    "NHL_game.columns\n",
    "#Explore the types of variables (data) and missing values in a data frame\n",
    "NHL_game.info()\n",
    "#Obtain basic descriptive statistics (Round off the descriptive statistics properly)\n",
    "NHL_game.describe().round(decimals=3).round({\"comp_id\":0,\"gid\":0,\"tid\":0,\"year\":0})"
   ]
  },
  {
   "cell_type": "markdown",
   "metadata": {},
   "source": [
    "### Self Test: Multiple Logistic Regression Example\n",
    "#### Fit the multiple logistic regression using pythagorean winning % and home dummy variable as independent variables\n",
    "Instruction \n",
    "1. Use home dummy variable encoded with a value of 1 indicating home and 0 indicating away games\n",
    "2. Interpret the coefficients"
   ]
  },
  {
   "cell_type": "code",
   "execution_count": null,
   "metadata": {},
   "outputs": [],
   "source": [
    "# Self-test\n",
    "Win_Pyth_hm = 'win~pyth_wpct + home'\n",
    "model2 = smf.glm(formula=Win_Pyth_hm, data = NHL_reg_2017_WL, family=sm.families.Binomial())\n",
    "result2 = model2.fit()\n",
    "print(result2.summary())\n",
    "\n",
    "print(\"Coefficients\")\n",
    "print(result2.params)\n",
    "print(\"p-Values\")\n",
    "print(result2.pvalues)\n",
    "print(\"Dependent variables\")\n",
    "print(result2.model.endog_names)\n",
    "\n",
    "#we can fit the model to calculate probabilities of winning on each game\n",
    "## Here we can print first 10 probabilities, which correspond to the probability of the chance of winning\n",
    "fittedProbs2 = result2.predict()\n",
    "print(fittedProbs2[0:10])\n",
    "\n",
    "# Based on the fitted probabilites of winning, here we create a binary winning variable for 1 indicating Win, 0 indicating lose\n",
    "fittedWin2 = [1 if x > .5 else 0 for x in fittedProbs2]\n",
    "print(fittedWin2[0:10])\n",
    "\n",
    "from sklearn.metrics import confusion_matrix, classification_report\n",
    "confusion_matrix(NHL_reg_2017_WL['win'], fittedWin2)\n",
    "\n",
    "print(classification_report(NHL_reg_2017_WL['win'], fittedWin2, digits=3))\n",
    "\n",
    "# Success rate\n",
    "(751+769)/2454 #Model2 worked slightly better than Model1"
   ]
  },
  {
   "cell_type": "markdown",
   "metadata": {},
   "source": [
    "## 1.2. Ordered Logit Regression"
   ]
  },
  {
   "cell_type": "markdown",
   "metadata": {},
   "source": [
    "## Self Test: Add pythagorean winning % to the current dataset Solution\n",
    "### Add Pythagorean Winning percentage\n",
    "1) Sort the dataframe by game in order (i.e., gid)\n",
    "    (Note you will need to reset your index after you sort the NHL_reg_2016 data)\n",
    "\n",
    "2) Calculate cumulative GF and GA for each team\n",
    "\n",
    "3) Calculate Pythagorean win-percent"
   ]
  },
  {
   "cell_type": "code",
   "execution_count": null,
   "metadata": {},
   "outputs": [],
   "source": [
    "## Add Pythagorean Winning percentage\n",
    "#1) Sort the dataframe by game in order (i.e., gid)\n",
    "    ##Note) you will need to reset your index after you sort the NHL_reg_2016 data\n",
    "NHL_reg_2016 = NHL_reg_2016.sort_values(by ='gid').reset_index().drop(['index'], axis=1)\n",
    "\n",
    "#2) Calculate cumulative GF and GA for each team\n",
    "NHL_reg_2016['cumGF'] = NHL_reg_2016.groupby(['tid'])['goals_for'].apply(lambda x: x.cumsum())\n",
    "NHL_reg_2016['cumGA'] = NHL_reg_2016.groupby(['tid'])['goals_against'].apply(lambda x: x.cumsum())\n",
    "\n",
    "display(NHL_reg_2016)\n",
    "\n",
    "# Calculate Pythagorean win-percent\n",
    "NHL_reg_2016['pyth_wpct'] = NHL_reg_2016['cumGF']**2/(NHL_reg_2016['cumGF']**2 + NHL_reg_2016['cumGA']**2)\n",
    "\n",
    "display(NHL_reg_2016[0:10])\n",
    "\n",
    "NHL_reg_2016.shape"
   ]
  },
  {
   "cell_type": "markdown",
   "metadata": {},
   "source": [
    "## 1.3. Predictive Modeling-Basics of Forecasting"
   ]
  },
  {
   "cell_type": "markdown",
   "metadata": {},
   "source": [
    "### Self-Test Data preparation for NHL_2016_2nd Solution\n",
    "Instruction\n",
    ": In this exercise, you will need to manipulate the 2nd half of NHL data. Specifically, you will need to \n",
    "1. generate a team level data which obtain the total number of wins\n",
    "2. obtain the number of games played by each team for the 2st half of the 2016 regular season and merge it to the data\n",
    "3. Create an winning percentage in the dataset: winning percent = win/total games"
   ]
  },
  {
   "cell_type": "code",
   "execution_count": null,
   "metadata": {},
   "outputs": [],
   "source": [
    "# 1. generate a team level data which obtain the total number of 1) wins, 2) goals for, and 3) goals against\n",
    "nhl2016_pos = NHL_2016_2nd.groupby(['tricode'])['win',].sum()\n",
    "display(nhl2016_pos[0:9])\n",
    "\n",
    "# 2. obtain the number of games played by each team for the 2st half of the 2016 regular season\n",
    "NHL_pos_GameNum = NHL_2016_2nd.groupby(['tricode']).size().reset_index(name='game_count')\n",
    "display(NHL_pos_GameNum[0:3])\n",
    "\n",
    "# Merge \"NHL_pos_gameNum\" to the \"nhl2016_pos\" dataset\n",
    "nhl2016_pos=pd.merge(nhl2016_pos, NHL_pos_GameNum, on=['tricode'])\n",
    "nhl2016_pos.head()\n",
    "\n",
    "# 3. Create an winning percent in the nhl2016_pos dataset: winning percent = win/total games\n",
    "nhl2016_pos['win_pct_pos']=nhl2016_pos['win']/nhl2016_pos['game_count']\n",
    "display(nhl2016_pos[0:3])\n",
    "\n",
    "# 4. Drop unnecessary columns  \n",
    "nhl2016_pos.drop(['game_count'], axis=1, inplace=True)\n",
    "nhl2016_pos.drop(['win'], axis=1, inplace=True)\n",
    "\n",
    "nhl2016_pos.head()"
   ]
  }
 ],
 "metadata": {
  "kernelspec": {
   "display_name": "Python 3",
   "language": "python",
   "name": "python3"
  },
  "language_info": {
   "codemirror_mode": {
    "name": "ipython",
    "version": 3
   },
   "file_extension": ".py",
   "mimetype": "text/x-python",
   "name": "python",
   "nbconvert_exporter": "python",
   "pygments_lexer": "ipython3",
   "version": "3.7.6"
  }
 },
 "nbformat": 4,
 "nbformat_minor": 2
}
