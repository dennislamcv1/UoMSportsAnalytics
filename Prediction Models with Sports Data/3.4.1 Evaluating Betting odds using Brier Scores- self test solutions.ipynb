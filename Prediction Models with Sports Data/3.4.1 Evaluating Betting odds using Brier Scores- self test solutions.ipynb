{
 "cells": [
  {
   "cell_type": "markdown",
   "metadata": {},
   "source": [
    "# Evaluating Betting Odds Using Brier Scores: Self Test Solutions"
   ]
  },
  {
   "cell_type": "code",
   "execution_count": 1,
   "metadata": {},
   "outputs": [
    {
     "data": {
      "text/plain": [
       "0.6731707317073171"
      ]
     },
     "execution_count": 1,
     "metadata": {},
     "output_type": "execute_result"
    }
   ],
   "source": [
    "import pandas as pd\n",
    "import numpy as np\n",
    "\n",
    "NBA19 = pd.read_excel(\"../../Data/Week 2/NBA2019odds.xlsx\")\n",
    "NBA19['winprob']= 1/(NBA19['winodds'])/(1/(NBA19['winodds'])+ 1/(NBA19['loseodds']))\n",
    "NBA19['winpred'] = np.where(NBA19['winprob'] >= .5,1,0)\n",
    "NBA19['oddscorrect']= np.where(NBA19['winpred'] == NBA19['win'] ,1,0)\n",
    "NBA19['oddscorrect'].mean()"
   ]
  },
  {
   "cell_type": "code",
   "execution_count": 2,
   "metadata": {},
   "outputs": [
    {
     "data": {
      "text/plain": [
       "0.7450292397660818"
      ]
     },
     "execution_count": 2,
     "metadata": {},
     "output_type": "execute_result"
    }
   ],
   "source": [
    "# Cases where a win or a loss is predicted to have a probability in excess of 60%.\n",
    "\n",
    "NBA19['highprob'] = np.where(NBA19['winprob'] >= .6,1,np.where(NBA19['winprob'] <= .4,1,0))\n",
    "NBA19rest = NBA19[NBA19['highprob'] == 1].copy()\n",
    "NBA19rest['oddscorrect']= np.where(NBA19rest['winpred'] == NBA19rest['win'] ,1,0)\n",
    "NBA19rest['oddscorrect'].mean()"
   ]
  },
  {
   "cell_type": "markdown",
   "metadata": {},
   "source": [
    "## Self Test - 1\n",
    "\n",
    "Identify the proportion of correct bookmaker predictions when the odds of a team win were above 70% or below 30%."
   ]
  },
  {
   "cell_type": "code",
   "execution_count": 3,
   "metadata": {},
   "outputs": [
    {
     "data": {
      "text/plain": [
       "0.8055009823182712"
      ]
     },
     "execution_count": 3,
     "metadata": {},
     "output_type": "execute_result"
    }
   ],
   "source": [
    "# Self test solution\n",
    "\n",
    "NBA19['vhighprob'] = np.where(NBA19['winprob'] >= .7,1,np.where(NBA19['winprob'] <= .3,1,0))\n",
    "NBA19cert = NBA19[NBA19['vhighprob'] == 1].copy()\n",
    "NBA19cert['oddscorrect']= np.where(NBA19cert['winpred'] == NBA19cert['win'] ,1,0)\n",
    "NBA19cert['oddscorrect'].mean()"
   ]
  },
  {
   "cell_type": "markdown",
   "metadata": {},
   "source": [
    "## Brier Score in Two Outcome Leagues\n",
    "\n",
    "We first look at Brier Scores for the NBA, MLB, and IPL, where each game must result in either a win or a loss for each team. First the NBA:"
   ]
  },
  {
   "cell_type": "code",
   "execution_count": 4,
   "metadata": {},
   "outputs": [
    {
     "data": {
      "text/plain": [
       "0.40736941528135695"
      ]
     },
     "execution_count": 4,
     "metadata": {},
     "output_type": "execute_result"
    }
   ],
   "source": [
    "NBA19['Brier']= (NBA19['win']-NBA19['winprob'])**2 + ((1-NBA19['win'])-(1-NBA19['winprob']))**2\n",
    "NBA19['Brier'].mean()                                                     "
   ]
  },
  {
   "cell_type": "markdown",
   "metadata": {},
   "source": [
    "## Self Test - 2\n",
    "\n",
    "Generate the Brier Score for the bookmaker probabilities for the 2019 MLB season."
   ]
  },
  {
   "cell_type": "code",
   "execution_count": 5,
   "metadata": {},
   "outputs": [
    {
     "data": {
      "text/plain": [
       "0.47138210629045985"
      ]
     },
     "execution_count": 5,
     "metadata": {},
     "output_type": "execute_result"
    }
   ],
   "source": [
    "# Self test solution\n",
    "\n",
    "MLB19 = pd.read_excel(\"../../Data/Week 2/MLB2019odds.xlsx\")\n",
    "MLB19['winprob']= 1/(MLB19['oddsfor'])/(1/(MLB19['oddsfor'])+ 1/(MLB19['oddsagainst']))\n",
    "MLB19['Brier']= (MLB19['win']-MLB19['winprob'])**2 + ((1-MLB19['win'])-(1-MLB19['winprob']))**2\n",
    "MLB19['Brier'].mean()    "
   ]
  },
  {
   "cell_type": "markdown",
   "metadata": {},
   "source": [
    "## Self Test - 3\n",
    "\n",
    "Now calculate the Brier score for the EPL."
   ]
  },
  {
   "cell_type": "code",
   "execution_count": 6,
   "metadata": {},
   "outputs": [
    {
     "data": {
      "text/plain": [
       "0.5212400786602575"
      ]
     },
     "execution_count": 6,
     "metadata": {},
     "output_type": "execute_result"
    }
   ],
   "source": [
    "# Solution to the self test\n",
    "\n",
    "EPL19 = pd.read_excel(\"../../Data/Week 2/EPL2018-19odds.xlsx\")\n",
    "EPL19['win'] = np.where(EPL19['pts']==3, 1,0)\n",
    "EPL19['draw'] = np.where(EPL19['pts']==1, 1,0)\n",
    "EPL19['loss'] = np.where(EPL19['pts']==0, 1,0)\n",
    "EPL19['winprob']= 1/(EPL19['winodds'])/(1/(EPL19['winodds'])+ 1/(EPL19['drawodds'])+ 1/(EPL19['loseodds']))\n",
    "EPL19['drawprob']= 1/(EPL19['drawodds'])/(1/(EPL19['winodds'])+ 1/(EPL19['drawodds'])+ 1/(EPL19['loseodds']))\n",
    "EPL19['Brier']= (EPL19['win']-EPL19['winprob'])**2 + ((EPL19['draw'])-(EPL19['drawprob']))**2 \\\n",
    "+((EPL19['loss'])-(1 -EPL19['winprob']- EPL19['drawprob']))**2\n",
    "EPL19['Brier'].mean() "
   ]
  }
 ],
 "metadata": {
  "kernelspec": {
   "display_name": "Python 3",
   "language": "python",
   "name": "python3"
  },
  "language_info": {
   "codemirror_mode": {
    "name": "ipython",
    "version": 3
   },
   "file_extension": ".py",
   "mimetype": "text/x-python",
   "name": "python",
   "nbconvert_exporter": "python",
   "pygments_lexer": "ipython3",
   "version": "3.7.4"
  }
 },
 "nbformat": 4,
 "nbformat_minor": 2
}
