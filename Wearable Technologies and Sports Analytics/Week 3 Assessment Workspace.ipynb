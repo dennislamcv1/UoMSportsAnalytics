{
 "cells": [
  {
   "cell_type": "markdown",
   "metadata": {
    "cell_id": "00000-4768447b-0248-467f-92d6-df7450eac4a0",
    "deepnote_cell_type": "text-cell-h2",
    "tags": []
   },
   "source": [
    "## Wearable Tech: Week 3 Assignment"
   ]
  },
  {
   "cell_type": "markdown",
   "metadata": {
    "cell_id": "00002-78e1221d-7427-448a-b297-484579250b61",
    "deepnote_cell_type": "markdown",
    "tags": []
   },
   "source": [
    "### Step 1"
   ]
  },
  {
   "cell_type": "code",
   "execution_count": null,
   "metadata": {
    "cell_id": "00003-13cd0930-522f-4625-b583-0167a1f81817",
    "deepnote_cell_type": "code",
    "deepnote_to_be_reexecuted": false,
    "execution_millis": 7090,
    "execution_start": 1623677260549,
    "source_hash": "626085b7",
    "tags": []
   },
   "outputs": [],
   "source": [
    "#imports\n",
    "import numpy as np\n",
    "import pandas as pd\n",
    "from matplotlib import pyplot as plt\n",
    "import seaborn as sn\n",
    "import matplotlib.dates as mdates\n",
    "\n",
    "from datetime import datetime\n",
    "import plotly.graph_objects as go\n",
    "\n",
    "df = pd.read_csv(\"../Data/WBBtotal.csv\", index_col =[\"Timestamp\"], parse_dates=[\"Timestamp\"])"
   ]
  },
  {
   "cell_type": "markdown",
   "metadata": {
    "cell_id": "00006-f063d56a-3600-400e-a4dc-3c782278b48d",
    "deepnote_cell_type": "markdown",
    "tags": []
   },
   "source": [
    "### Step 2"
   ]
  },
  {
   "cell_type": "code",
   "execution_count": null,
   "metadata": {
    "cell_id": "00008-69ab5b92-65d3-46b0-81fe-2396b1f488a7",
    "deepnote_cell_type": "code",
    "deepnote_to_be_reexecuted": false,
    "execution_millis": 247,
    "execution_start": 1623677291597,
    "source_hash": "527ed305",
    "tags": []
   },
   "outputs": [],
   "source": []
  },
  {
   "cell_type": "markdown",
   "metadata": {
    "cell_id": "00015-e63367d1-8165-4b49-920c-5983eaa3d6ca",
    "deepnote_cell_type": "markdown",
    "tags": []
   },
   "source": [
    "### Step 3"
   ]
  },
  {
   "cell_type": "code",
   "execution_count": null,
   "metadata": {
    "cell_id": "00017-d702c1c9-fea4-4398-88d7-5300cd383269",
    "deepnote_cell_type": "code",
    "deepnote_to_be_reexecuted": false,
    "execution_millis": 131,
    "execution_start": 1623677303446,
    "source_hash": "6ae7d800",
    "tags": []
   },
   "outputs": [],
   "source": []
  },
  {
   "cell_type": "markdown",
   "metadata": {
    "cell_id": "00019-3476bdf2-2db8-4c14-92f7-7317c5af70ea",
    "deepnote_cell_type": "markdown",
    "tags": []
   },
   "source": [
    "### Step 4"
   ]
  },
  {
   "cell_type": "code",
   "execution_count": null,
   "metadata": {
    "cell_id": "00021-0e12a6ef-1492-4808-81f8-4dcae2ba29f5",
    "deepnote_cell_type": "code",
    "deepnote_to_be_reexecuted": false,
    "execution_millis": 104,
    "execution_start": 1623675618990,
    "source_hash": "6ec850fd",
    "tags": []
   },
   "outputs": [],
   "source": []
  },
  {
   "cell_type": "markdown",
   "metadata": {
    "cell_id": "00032-75c7f726-4bb1-4ccf-aa9a-2b1d7b3c9fa1",
    "deepnote_cell_type": "markdown",
    "tags": []
   },
   "source": [
    "### Step 5"
   ]
  },
  {
   "cell_type": "code",
   "execution_count": null,
   "metadata": {
    "cell_id": "00034-5200b046-73ee-4411-90d8-61f61271306a",
    "deepnote_cell_type": "code",
    "deepnote_to_be_reexecuted": false,
    "execution_millis": 21,
    "execution_start": 1623677434210,
    "source_hash": "fa41ea1d",
    "tags": []
   },
   "outputs": [],
   "source": []
  },
  {
   "cell_type": "markdown",
   "metadata": {
    "cell_id": "00017-b854b105-4c01-4d4e-9296-c296e1788d48",
    "deepnote_cell_type": "markdown",
    "tags": []
   },
   "source": [
    "### Step 6\n"
   ]
  },
  {
   "cell_type": "code",
   "execution_count": null,
   "metadata": {
    "cell_id": "00051-5a3b3fd6-c706-4aa0-ac3f-11a7af8c69a2",
    "deepnote_cell_type": "code",
    "deepnote_to_be_reexecuted": false,
    "execution_millis": 40,
    "execution_start": 1623677465573,
    "source_hash": "60569f79",
    "tags": []
   },
   "outputs": [],
   "source": []
  },
  {
   "cell_type": "markdown",
   "metadata": {
    "cell_id": "00021-192c2df4-7d79-4b36-966a-7a45481d3fe4",
    "deepnote_cell_type": "markdown",
    "tags": []
   },
   "source": [
    "### Step 7"
   ]
  },
  {
   "cell_type": "code",
   "execution_count": null,
   "metadata": {
    "cell_id": "00057-42b39687-be63-4d9f-b1ad-62caf1936aaa",
    "deepnote_cell_type": "code",
    "deepnote_to_be_reexecuted": false,
    "execution_millis": 268,
    "execution_start": 1623677489858,
    "source_hash": "b5e708d9",
    "tags": []
   },
   "outputs": [],
   "source": []
  },
  {
   "cell_type": "markdown",
   "metadata": {
    "cell_id": "00059-4c51e254-3e57-4f31-82ff-f07d7268da3a",
    "deepnote_cell_type": "markdown",
    "tags": []
   },
   "source": [
    "### Step 8\n"
   ]
  },
  {
   "cell_type": "code",
   "execution_count": null,
   "metadata": {
    "cell_id": "00061-b385fd7d-8b13-4690-b339-15a69cd61462",
    "deepnote_cell_type": "code",
    "deepnote_to_be_reexecuted": false,
    "execution_millis": 120,
    "execution_start": 1623675620600,
    "source_hash": "f75f5506",
    "tags": []
   },
   "outputs": [],
   "source": []
  },
  {
   "cell_type": "markdown",
   "metadata": {
    "cell_id": "00025-36ec597a-2911-45e5-b605-8cf658fc344f",
    "deepnote_cell_type": "markdown",
    "tags": []
   },
   "source": [
    "### Step 9"
   ]
  },
  {
   "cell_type": "code",
   "execution_count": null,
   "metadata": {
    "cell_id": "00079-2be7a599-d1f4-4553-98b2-af5f441c39ff",
    "deepnote_cell_type": "code",
    "deepnote_to_be_reexecuted": false,
    "execution_millis": 5,
    "execution_start": 1623676885033,
    "source_hash": "41e47c23",
    "tags": []
   },
   "outputs": [],
   "source": []
  }
 ],
 "metadata": {
  "deepnote": {
   "is_reactive": false
  },
  "deepnote_execution_queue": [],
  "deepnote_notebook_id": "eaa87ba0-217d-437a-9f2e-8ba9cb8260ed",
  "kernelspec": {
   "display_name": "Python 3",
   "language": "python",
   "name": "python3"
  },
  "language_info": {
   "codemirror_mode": {
    "name": "ipython",
    "version": 3
   },
   "file_extension": ".py",
   "mimetype": "text/x-python",
   "name": "python",
   "nbconvert_exporter": "python",
   "pygments_lexer": "ipython3",
   "version": "3.7.6"
  }
 },
 "nbformat": 4,
 "nbformat_minor": 2
}
