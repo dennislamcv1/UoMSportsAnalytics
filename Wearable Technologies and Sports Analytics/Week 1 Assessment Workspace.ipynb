{
 "cells": [
  {
   "cell_type": "markdown",
   "metadata": {},
   "source": [
    "## Wearable Tech: Week 1 Assignment"
   ]
  },
  {
   "cell_type": "markdown",
   "metadata": {
    "cell_id": "00003-0cc3b9f5-0df8-4240-a4ce-2132799a53b8",
    "deepnote_cell_type": "text-cell-h2",
    "tags": []
   },
   "source": [
    "## Step 1"
   ]
  },
  {
   "cell_type": "code",
   "execution_count": null,
   "metadata": {
    "cell_id": "00004-23961cd2-35fc-46f4-942b-5c0991069f94",
    "deepnote_cell_type": "code",
    "deepnote_to_be_reexecuted": false,
    "execution_millis": 1463,
    "execution_start": 1623324487812,
    "source_hash": "a027e273"
   },
   "outputs": [],
   "source": [
    "#imports\n",
    "import numpy as np\n",
    "import pandas as pd\n",
    "from matplotlib import pyplot as plt\n",
    "import seaborn as sn\n",
    "import matplotlib.dates as mdates\n",
    "import datetime\n",
    "\n",
    "# Read in the dataset\n",
    "\n",
    "df = pd.read_csv(\"../Data/TexasTechVBall.csv\")"
   ]
  },
  {
   "cell_type": "markdown",
   "metadata": {
    "cell_id": "00005-b537ea2e-7910-4969-ad5b-0ada9dfa6a79",
    "deepnote_cell_type": "text-cell-h2",
    "tags": []
   },
   "source": [
    "## Step 2"
   ]
  },
  {
   "cell_type": "code",
   "execution_count": null,
   "metadata": {},
   "outputs": [],
   "source": []
  },
  {
   "cell_type": "markdown",
   "metadata": {
    "cell_id": "00008-397eda61-8d41-4cb9-87e0-764c505d8491",
    "deepnote_cell_type": "text-cell-h2",
    "tags": []
   },
   "source": [
    "## Step 3"
   ]
  },
  {
   "cell_type": "code",
   "execution_count": null,
   "metadata": {
    "cell_id": "00006-0f05b7f5-68e8-43af-b80d-1c9f31d87ba2",
    "deepnote_cell_type": "code",
    "deepnote_to_be_reexecuted": false,
    "execution_millis": 16,
    "execution_start": 1623328409045,
    "source_hash": "f46420c1",
    "tags": []
   },
   "outputs": [],
   "source": []
  },
  {
   "cell_type": "markdown",
   "metadata": {
    "cell_id": "00016-f3b38c9c-c27e-4d72-8fc3-8d2c2d934317",
    "deepnote_cell_type": "text-cell-h2",
    "tags": []
   },
   "source": [
    "## Step 4"
   ]
  },
  {
   "cell_type": "code",
   "execution_count": null,
   "metadata": {
    "cell_id": "00010-d4399c03-edda-4ca7-9d39-7e8f8dfd957b",
    "deepnote_cell_type": "code",
    "deepnote_to_be_reexecuted": false,
    "execution_millis": 23,
    "execution_start": 1623328539532,
    "source_hash": "9e17bf93",
    "tags": []
   },
   "outputs": [],
   "source": []
  },
  {
   "cell_type": "markdown",
   "metadata": {
    "cell_id": "00011-1bb129d8-6716-4ae6-a562-28a850fd9134",
    "deepnote_cell_type": "markdown",
    "tags": []
   },
   "source": [
    "## Step 5"
   ]
  },
  {
   "cell_type": "code",
   "execution_count": null,
   "metadata": {
    "cell_id": "00011-e4cc9556-68ee-4945-aa8b-8c67f1c93984",
    "deepnote_cell_type": "code",
    "deepnote_to_be_reexecuted": false,
    "execution_millis": 616,
    "execution_start": 1623328831958,
    "source_hash": "e61c8fc2",
    "tags": []
   },
   "outputs": [],
   "source": []
  },
  {
   "cell_type": "markdown",
   "metadata": {
    "cell_id": "00013-e31c6efa-f780-4103-af0e-2ea1bfdaf3f0",
    "deepnote_cell_type": "markdown",
    "tags": []
   },
   "source": [
    "## Step 6"
   ]
  },
  {
   "cell_type": "code",
   "execution_count": null,
   "metadata": {
    "cell_id": "00013-5ae70c35-1252-4468-9ecd-59b9caaf098b",
    "deepnote_cell_type": "code",
    "deepnote_to_be_reexecuted": false,
    "execution_millis": 4385,
    "execution_start": 1623325768237,
    "source_hash": "a7147806",
    "tags": []
   },
   "outputs": [],
   "source": []
  }
 ],
 "metadata": {
  "deepnote": {},
  "deepnote_execution_queue": [],
  "deepnote_notebook_id": "350e215b-192d-4fea-8f75-c3dac5ed11a8",
  "kernelspec": {
   "display_name": "Python 3",
   "language": "python",
   "name": "python3"
  },
  "language_info": {
   "codemirror_mode": {
    "name": "ipython",
    "version": 3
   },
   "file_extension": ".py",
   "mimetype": "text/x-python",
   "name": "python",
   "nbconvert_exporter": "python",
   "pygments_lexer": "ipython3",
   "version": "3.7.6"
  }
 },
 "nbformat": 4,
 "nbformat_minor": 4
}
