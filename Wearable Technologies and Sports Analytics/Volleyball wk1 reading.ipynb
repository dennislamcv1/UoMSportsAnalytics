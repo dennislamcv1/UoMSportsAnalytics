{
 "cells": [
  {
   "cell_type": "markdown",
   "metadata": {
    "cell_id": "00002-0bb105b2-2c88-420c-8f03-5065ccb39364",
    "deepnote_cell_type": "text-cell-h2",
    "tags": []
   },
   "source": [
    "## Introduction to Volleyball Dataset"
   ]
  },
  {
   "cell_type": "markdown",
   "metadata": {
    "cell_id": "00001-0467332b-4e21-49fd-acf9-277513f1916c",
    "deepnote_cell_type": "markdown",
    "tags": []
   },
   "source": [
    "We have been provided a dataset by the Texas Tech University Women's Volleyball team.  The dataset represents an entire season of data collected from the \"VERT\" device -- which is widely used in the sport of volleyball.  We have \"mis-identified\" the players names -- to keep it interesting but without including the original players names.\n",
    "\n",
    "One important caveat of this dataset is that the team used the system for their home practices, scrimmages and games -- but not for their travel games or practices while on the road.  Therefore, we have to be careful not to over- or mis-interpret the \"weekly\" loads -- as the dataset does not capture every practice and game.  So -- we don't want to try and evaluate this  dataset from a standpoint of whole season workload changes.  Nevertheless, it provides us a great dataset to \"jump in\" and start looking at some of the measures and metrics that can be used to evaluate team sports! \n",
    "\n",
    "So, let's get started and load up this dataset! \n"
   ]
  },
  {
   "cell_type": "markdown",
   "metadata": {
    "cell_id": "00004-1ef072ab-9a89-4de0-8ffd-9d07b3b78094",
    "deepnote_cell_type": "text-cell-h2",
    "tags": []
   },
   "source": [
    "## Import LIbraries and Dataset"
   ]
  },
  {
   "cell_type": "code",
   "execution_count": 1,
   "metadata": {
    "cell_id": "00001-fe802a3e-6cf1-42dc-a108-a6b94d385c27",
    "deepnote_cell_type": "code",
    "deepnote_to_be_reexecuted": false,
    "execution_millis": 2359,
    "execution_start": 1623331819713,
    "source_hash": "e2e1e74f"
   },
   "outputs": [
    {
     "data": {
      "text/html": [
       "<div>\n",
       "<style scoped>\n",
       "    .dataframe tbody tr th:only-of-type {\n",
       "        vertical-align: middle;\n",
       "    }\n",
       "\n",
       "    .dataframe tbody tr th {\n",
       "        vertical-align: top;\n",
       "    }\n",
       "\n",
       "    .dataframe thead th {\n",
       "        text-align: right;\n",
       "    }\n",
       "</style>\n",
       "<table border=\"1\" class=\"dataframe\">\n",
       "  <thead>\n",
       "    <tr style=\"text-align: right;\">\n",
       "      <th></th>\n",
       "      <th>EVENT NAME</th>\n",
       "      <th>EVENT TYPE</th>\n",
       "      <th>DATE</th>\n",
       "      <th>PLAYER NAME</th>\n",
       "      <th>POSITION</th>\n",
       "      <th>ENERGY</th>\n",
       "      <th>MAX ENERGY</th>\n",
       "      <th>SETS BY ENERGY</th>\n",
       "      <th>POWER</th>\n",
       "      <th>INTENSITY</th>\n",
       "      <th>...</th>\n",
       "      <th>JUMPS</th>\n",
       "      <th>JUMPS 15+</th>\n",
       "      <th>JUMPS 20+</th>\n",
       "      <th>HIGHEST JUMP (in)</th>\n",
       "      <th>AVG HI JUMP (in)</th>\n",
       "      <th>% MAX JUMP</th>\n",
       "      <th>MAX JUMP (in)</th>\n",
       "      <th>HIGH LANDING %</th>\n",
       "      <th>ALERT LANDING %</th>\n",
       "      <th>ELEVATED LANDING %</th>\n",
       "    </tr>\n",
       "  </thead>\n",
       "  <tbody>\n",
       "    <tr>\n",
       "      <th>0</th>\n",
       "      <td>8/19/19</td>\n",
       "      <td>PRAC</td>\n",
       "      <td>8/19/19</td>\n",
       "      <td>Erika</td>\n",
       "      <td>S</td>\n",
       "      <td>1595</td>\n",
       "      <td>2750</td>\n",
       "      <td>2.9</td>\n",
       "      <td>9.6</td>\n",
       "      <td>15.6</td>\n",
       "      <td>...</td>\n",
       "      <td>116</td>\n",
       "      <td>8</td>\n",
       "      <td>0</td>\n",
       "      <td>17.7</td>\n",
       "      <td>14.0</td>\n",
       "      <td>62</td>\n",
       "      <td>22.5</td>\n",
       "      <td>0</td>\n",
       "      <td>0</td>\n",
       "      <td>0</td>\n",
       "    </tr>\n",
       "    <tr>\n",
       "      <th>1</th>\n",
       "      <td>8-19-19#2</td>\n",
       "      <td>PRAC</td>\n",
       "      <td>8/19/19</td>\n",
       "      <td>Erika</td>\n",
       "      <td>S</td>\n",
       "      <td>1020</td>\n",
       "      <td>2750</td>\n",
       "      <td>1.9</td>\n",
       "      <td>8.4</td>\n",
       "      <td>14.6</td>\n",
       "      <td>...</td>\n",
       "      <td>62</td>\n",
       "      <td>2</td>\n",
       "      <td>1</td>\n",
       "      <td>21.7</td>\n",
       "      <td>13.4</td>\n",
       "      <td>60</td>\n",
       "      <td>22.5</td>\n",
       "      <td>0</td>\n",
       "      <td>0</td>\n",
       "      <td>0</td>\n",
       "    </tr>\n",
       "    <tr>\n",
       "      <th>2</th>\n",
       "      <td>8/19/19</td>\n",
       "      <td>PRAC</td>\n",
       "      <td>8/19/19</td>\n",
       "      <td>Adelaide</td>\n",
       "      <td>MB</td>\n",
       "      <td>1869</td>\n",
       "      <td>2500</td>\n",
       "      <td>4.7</td>\n",
       "      <td>9.4</td>\n",
       "      <td>16.8</td>\n",
       "      <td>...</td>\n",
       "      <td>194</td>\n",
       "      <td>126</td>\n",
       "      <td>8</td>\n",
       "      <td>22.2</td>\n",
       "      <td>18.8</td>\n",
       "      <td>75</td>\n",
       "      <td>25.0</td>\n",
       "      <td>3</td>\n",
       "      <td>2</td>\n",
       "      <td>5</td>\n",
       "    </tr>\n",
       "    <tr>\n",
       "      <th>3</th>\n",
       "      <td>8-19-19#2</td>\n",
       "      <td>PRAC</td>\n",
       "      <td>8/19/19</td>\n",
       "      <td>Adelaide</td>\n",
       "      <td>MB</td>\n",
       "      <td>451</td>\n",
       "      <td>2500</td>\n",
       "      <td>1.1</td>\n",
       "      <td>8.4</td>\n",
       "      <td>10.0</td>\n",
       "      <td>...</td>\n",
       "      <td>53</td>\n",
       "      <td>41</td>\n",
       "      <td>2</td>\n",
       "      <td>20.4</td>\n",
       "      <td>17.9</td>\n",
       "      <td>72</td>\n",
       "      <td>25.0</td>\n",
       "      <td>4</td>\n",
       "      <td>0</td>\n",
       "      <td>4</td>\n",
       "    </tr>\n",
       "    <tr>\n",
       "      <th>4</th>\n",
       "      <td>8/19/19</td>\n",
       "      <td>PRAC</td>\n",
       "      <td>8/19/19</td>\n",
       "      <td>Ingrid</td>\n",
       "      <td>OH</td>\n",
       "      <td>2747</td>\n",
       "      <td>3720</td>\n",
       "      <td>3.7</td>\n",
       "      <td>10.3</td>\n",
       "      <td>19.9</td>\n",
       "      <td>...</td>\n",
       "      <td>121</td>\n",
       "      <td>113</td>\n",
       "      <td>91</td>\n",
       "      <td>28.9</td>\n",
       "      <td>26.5</td>\n",
       "      <td>88</td>\n",
       "      <td>30.0</td>\n",
       "      <td>7</td>\n",
       "      <td>2</td>\n",
       "      <td>9</td>\n",
       "    </tr>\n",
       "  </tbody>\n",
       "</table>\n",
       "<p>5 rows × 22 columns</p>\n",
       "</div>"
      ],
      "text/plain": [
       "  EVENT NAME EVENT TYPE     DATE PLAYER NAME POSITION  ENERGY  MAX ENERGY  \\\n",
       "0    8/19/19       PRAC  8/19/19       Erika        S    1595        2750   \n",
       "1  8-19-19#2       PRAC  8/19/19       Erika        S    1020        2750   \n",
       "2    8/19/19       PRAC  8/19/19    Adelaide       MB    1869        2500   \n",
       "3  8-19-19#2       PRAC  8/19/19    Adelaide       MB     451        2500   \n",
       "4    8/19/19       PRAC  8/19/19      Ingrid       OH    2747        3720   \n",
       "\n",
       "   SETS BY ENERGY  POWER  INTENSITY  ...  JUMPS  JUMPS 15+  JUMPS 20+  \\\n",
       "0             2.9    9.6       15.6  ...    116          8          0   \n",
       "1             1.9    8.4       14.6  ...     62          2          1   \n",
       "2             4.7    9.4       16.8  ...    194        126          8   \n",
       "3             1.1    8.4       10.0  ...     53         41          2   \n",
       "4             3.7   10.3       19.9  ...    121        113         91   \n",
       "\n",
       "   HIGHEST JUMP (in)  AVG HI JUMP (in)  % MAX JUMP  MAX JUMP (in)  \\\n",
       "0               17.7              14.0          62           22.5   \n",
       "1               21.7              13.4          60           22.5   \n",
       "2               22.2              18.8          75           25.0   \n",
       "3               20.4              17.9          72           25.0   \n",
       "4               28.9              26.5          88           30.0   \n",
       "\n",
       "   HIGH LANDING %  ALERT LANDING %  ELEVATED LANDING %  \n",
       "0               0                0                   0  \n",
       "1               0                0                   0  \n",
       "2               3                2                   5  \n",
       "3               4                0                   4  \n",
       "4               7                2                   9  \n",
       "\n",
       "[5 rows x 22 columns]"
      ]
     },
     "execution_count": 1,
     "metadata": {},
     "output_type": "execute_result"
    }
   ],
   "source": [
    "#imports\n",
    "import numpy as np\n",
    "import pandas as pd\n",
    "from matplotlib import pyplot as plt\n",
    "import seaborn as sn\n",
    "import matplotlib.dates as mdates\n",
    "import datetime\n",
    "\n",
    "\n",
    "# Read in the dataset\n",
    "\n",
    "df = pd.read_csv(\"../Data/TexasTechVBall.csv\")\n",
    "df.head()"
   ]
  },
  {
   "cell_type": "markdown",
   "metadata": {
    "cell_id": "00006-1720cf8a-d7a7-448a-b46f-dbb341ee7996",
    "deepnote_cell_type": "text-cell-h2",
    "tags": []
   },
   "source": [
    "## Data Overview"
   ]
  },
  {
   "cell_type": "code",
   "execution_count": 2,
   "metadata": {
    "cell_id": "00002-367c0977-fe9c-4678-9bdd-3c35bd5b1b39",
    "deepnote_cell_type": "code",
    "deepnote_to_be_reexecuted": false,
    "execution_millis": 208748,
    "execution_start": 1623331822075,
    "source_hash": "d7bcf6ad",
    "tags": []
   },
   "outputs": [],
   "source": [
    "# we'll make a copy of the dataframe before we get started changing it\n",
    "\n",
    "df_vb=df"
   ]
  },
  {
   "cell_type": "markdown",
   "metadata": {
    "cell_id": "00007-8b76f95c-954e-40c8-8696-f1640388d270",
    "deepnote_cell_type": "markdown",
    "tags": []
   },
   "source": [
    "Let's take a look at how the VERT dataset has been characterized regarding data type"
   ]
  },
  {
   "cell_type": "code",
   "execution_count": 3,
   "metadata": {
    "cell_id": "00009-f4377204-6fa6-409d-aa94-3cd89d6c71c5",
    "deepnote_cell_type": "code",
    "deepnote_to_be_reexecuted": false,
    "execution_millis": 29,
    "execution_start": 1623331822082,
    "source_hash": "e5001688",
    "tags": []
   },
   "outputs": [
    {
     "name": "stdout",
     "output_type": "stream",
     "text": [
      "<class 'pandas.core.frame.DataFrame'>\n",
      "RangeIndex: 548 entries, 0 to 547\n",
      "Data columns (total 22 columns):\n",
      " #   Column              Non-Null Count  Dtype  \n",
      "---  ------              --------------  -----  \n",
      " 0   EVENT NAME          548 non-null    object \n",
      " 1   EVENT TYPE          548 non-null    object \n",
      " 2   DATE                548 non-null    object \n",
      " 3   PLAYER NAME         548 non-null    object \n",
      " 4   POSITION            548 non-null    object \n",
      " 5   ENERGY              548 non-null    int64  \n",
      " 6   MAX ENERGY          548 non-null    int64  \n",
      " 7   SETS BY ENERGY      548 non-null    float64\n",
      " 8   POWER               548 non-null    float64\n",
      " 9   INTENSITY           548 non-null    float64\n",
      " 10  STRESS              548 non-null    float64\n",
      " 11  ACTIVE MINS         547 non-null    float64\n",
      " 12  JUMPS               548 non-null    int64  \n",
      " 13  JUMPS 15+           548 non-null    int64  \n",
      " 14  JUMPS 20+           548 non-null    int64  \n",
      " 15  HIGHEST JUMP (in)   547 non-null    float64\n",
      " 16  AVG HI JUMP (in)    548 non-null    float64\n",
      " 17  % MAX JUMP          548 non-null    int64  \n",
      " 18  MAX JUMP (in)       548 non-null    float64\n",
      " 19  HIGH LANDING %      548 non-null    int64  \n",
      " 20  ALERT LANDING %     548 non-null    int64  \n",
      " 21  ELEVATED LANDING %  548 non-null    int64  \n",
      "dtypes: float64(8), int64(9), object(5)\n",
      "memory usage: 94.3+ KB\n"
     ]
    }
   ],
   "source": [
    "df_vb.info()"
   ]
  },
  {
   "cell_type": "markdown",
   "metadata": {
    "cell_id": "00011-1c8c6c8b-6458-4be9-b81f-403c343aba6d",
    "deepnote_cell_type": "text-cell-h2",
    "tags": []
   },
   "source": [
    "## Data Preparation"
   ]
  },
  {
   "cell_type": "markdown",
   "metadata": {
    "cell_id": "00010-85c5bb35-2646-4ecf-8ba0-1350efb9ebc4",
    "deepnote_cell_type": "text-cell-p",
    "tags": []
   },
   "source": [
    "In order to focus down our first look at this dataset, let's limit the number of columns we keep for our initial analysis"
   ]
  },
  {
   "cell_type": "code",
   "execution_count": 4,
   "metadata": {
    "cell_id": "00002-fc98a398-dfbc-4d47-82c4-1e6fbb55af39",
    "deepnote_cell_type": "code",
    "deepnote_to_be_reexecuted": false,
    "execution_millis": 88,
    "execution_start": 1623331822115,
    "source_hash": "a10ed317"
   },
   "outputs": [
    {
     "data": {
      "text/html": [
       "<div>\n",
       "<style scoped>\n",
       "    .dataframe tbody tr th:only-of-type {\n",
       "        vertical-align: middle;\n",
       "    }\n",
       "\n",
       "    .dataframe tbody tr th {\n",
       "        vertical-align: top;\n",
       "    }\n",
       "\n",
       "    .dataframe thead th {\n",
       "        text-align: right;\n",
       "    }\n",
       "</style>\n",
       "<table border=\"1\" class=\"dataframe\">\n",
       "  <thead>\n",
       "    <tr style=\"text-align: right;\">\n",
       "      <th></th>\n",
       "      <th>EVENT TYPE</th>\n",
       "      <th>DATE</th>\n",
       "      <th>PLAYER NAME</th>\n",
       "      <th>POSITION</th>\n",
       "      <th>ENERGY</th>\n",
       "      <th>POWER</th>\n",
       "      <th>JUMPS 15+</th>\n",
       "      <th>HIGHEST JUMP (in)</th>\n",
       "      <th>JUMPS</th>\n",
       "      <th>WEEK</th>\n",
       "      <th>ACTIVE MINS</th>\n",
       "    </tr>\n",
       "  </thead>\n",
       "  <tbody>\n",
       "    <tr>\n",
       "      <th>0</th>\n",
       "      <td>PRAC</td>\n",
       "      <td>8/19/19</td>\n",
       "      <td>Erika</td>\n",
       "      <td>S</td>\n",
       "      <td>1595</td>\n",
       "      <td>9.6</td>\n",
       "      <td>8</td>\n",
       "      <td>17.7</td>\n",
       "      <td>116</td>\n",
       "      <td>NaN</td>\n",
       "      <td>102.0</td>\n",
       "    </tr>\n",
       "    <tr>\n",
       "      <th>1</th>\n",
       "      <td>PRAC</td>\n",
       "      <td>8/19/19</td>\n",
       "      <td>Erika</td>\n",
       "      <td>S</td>\n",
       "      <td>1020</td>\n",
       "      <td>8.4</td>\n",
       "      <td>2</td>\n",
       "      <td>21.7</td>\n",
       "      <td>62</td>\n",
       "      <td>NaN</td>\n",
       "      <td>70.0</td>\n",
       "    </tr>\n",
       "    <tr>\n",
       "      <th>2</th>\n",
       "      <td>PRAC</td>\n",
       "      <td>8/19/19</td>\n",
       "      <td>Adelaide</td>\n",
       "      <td>MB</td>\n",
       "      <td>1869</td>\n",
       "      <td>9.4</td>\n",
       "      <td>126</td>\n",
       "      <td>22.2</td>\n",
       "      <td>194</td>\n",
       "      <td>NaN</td>\n",
       "      <td>111.0</td>\n",
       "    </tr>\n",
       "    <tr>\n",
       "      <th>3</th>\n",
       "      <td>PRAC</td>\n",
       "      <td>8/19/19</td>\n",
       "      <td>Adelaide</td>\n",
       "      <td>MB</td>\n",
       "      <td>451</td>\n",
       "      <td>8.4</td>\n",
       "      <td>41</td>\n",
       "      <td>20.4</td>\n",
       "      <td>53</td>\n",
       "      <td>NaN</td>\n",
       "      <td>45.0</td>\n",
       "    </tr>\n",
       "    <tr>\n",
       "      <th>4</th>\n",
       "      <td>PRAC</td>\n",
       "      <td>8/19/19</td>\n",
       "      <td>Ingrid</td>\n",
       "      <td>OH</td>\n",
       "      <td>2747</td>\n",
       "      <td>10.3</td>\n",
       "      <td>113</td>\n",
       "      <td>28.9</td>\n",
       "      <td>121</td>\n",
       "      <td>NaN</td>\n",
       "      <td>138.0</td>\n",
       "    </tr>\n",
       "  </tbody>\n",
       "</table>\n",
       "</div>"
      ],
      "text/plain": [
       "  EVENT TYPE     DATE PLAYER NAME POSITION  ENERGY  POWER  JUMPS 15+  \\\n",
       "0       PRAC  8/19/19       Erika        S    1595    9.6          8   \n",
       "1       PRAC  8/19/19       Erika        S    1020    8.4          2   \n",
       "2       PRAC  8/19/19    Adelaide       MB    1869    9.4        126   \n",
       "3       PRAC  8/19/19    Adelaide       MB     451    8.4         41   \n",
       "4       PRAC  8/19/19      Ingrid       OH    2747   10.3        113   \n",
       "\n",
       "   HIGHEST JUMP (in)  JUMPS  WEEK  ACTIVE MINS  \n",
       "0               17.7    116   NaN        102.0  \n",
       "1               21.7     62   NaN         70.0  \n",
       "2               22.2    194   NaN        111.0  \n",
       "3               20.4     53   NaN         45.0  \n",
       "4               28.9    121   NaN        138.0  "
      ]
     },
     "execution_count": 4,
     "metadata": {},
     "output_type": "execute_result"
    }
   ],
   "source": [
    "# make a list of columns to focus on for the analysis\n",
    "\n",
    "columns_to_keep = ['EVENT TYPE',\n",
    "                   'DATE',\n",
    "                   'PLAYER NAME',\n",
    "                   'POSITION',\n",
    "                   'ENERGY',\n",
    "                   'POWER', \n",
    "                   'JUMPS 15+',\n",
    "                   'HIGHEST JUMP (in)',\n",
    "                   'JUMPS',\n",
    "                   'WEEK', 'ACTIVE MINS']\n",
    "\n",
    "\n",
    "df_vb = df_vb.reindex(columns = columns_to_keep)      \n",
    "\n",
    "df_vb.head()"
   ]
  },
  {
   "cell_type": "markdown",
   "metadata": {
    "cell_id": "00002-551d1ee6-f2ed-4173-986f-d122573e76e2",
    "deepnote_cell_type": "markdown",
    "tags": []
   },
   "source": [
    "Next we want to begin to break down the season into more typical bins -- such as days of the month or weeks of the season.  \n"
   ]
  },
  {
   "cell_type": "code",
   "execution_count": 5,
   "metadata": {
    "cell_id": "00002-18d9e26f-dbae-4905-8957-a2fd199d2296",
    "deepnote_cell_type": "code",
    "deepnote_to_be_reexecuted": false,
    "execution_millis": 177,
    "execution_start": 1623331822228,
    "source_hash": "5da22689",
    "tags": []
   },
   "outputs": [
    {
     "data": {
      "text/html": [
       "<div>\n",
       "<style scoped>\n",
       "    .dataframe tbody tr th:only-of-type {\n",
       "        vertical-align: middle;\n",
       "    }\n",
       "\n",
       "    .dataframe tbody tr th {\n",
       "        vertical-align: top;\n",
       "    }\n",
       "\n",
       "    .dataframe thead th {\n",
       "        text-align: right;\n",
       "    }\n",
       "</style>\n",
       "<table border=\"1\" class=\"dataframe\">\n",
       "  <thead>\n",
       "    <tr style=\"text-align: right;\">\n",
       "      <th></th>\n",
       "      <th>EVENT TYPE</th>\n",
       "      <th>DATE</th>\n",
       "      <th>PLAYER NAME</th>\n",
       "      <th>POSITION</th>\n",
       "      <th>ENERGY</th>\n",
       "      <th>POWER</th>\n",
       "      <th>JUMPS 15+</th>\n",
       "      <th>HIGHEST JUMP (in)</th>\n",
       "      <th>JUMPS</th>\n",
       "      <th>WEEK</th>\n",
       "      <th>ACTIVE MINS</th>\n",
       "    </tr>\n",
       "  </thead>\n",
       "  <tbody>\n",
       "    <tr>\n",
       "      <th>0</th>\n",
       "      <td>PRAC</td>\n",
       "      <td>2019-08-19</td>\n",
       "      <td>Erika</td>\n",
       "      <td>S</td>\n",
       "      <td>1595</td>\n",
       "      <td>9.6</td>\n",
       "      <td>8</td>\n",
       "      <td>17.7</td>\n",
       "      <td>116</td>\n",
       "      <td>1</td>\n",
       "      <td>102.0</td>\n",
       "    </tr>\n",
       "    <tr>\n",
       "      <th>1</th>\n",
       "      <td>PRAC</td>\n",
       "      <td>2019-08-19</td>\n",
       "      <td>Erika</td>\n",
       "      <td>S</td>\n",
       "      <td>1020</td>\n",
       "      <td>8.4</td>\n",
       "      <td>2</td>\n",
       "      <td>21.7</td>\n",
       "      <td>62</td>\n",
       "      <td>1</td>\n",
       "      <td>70.0</td>\n",
       "    </tr>\n",
       "    <tr>\n",
       "      <th>2</th>\n",
       "      <td>PRAC</td>\n",
       "      <td>2019-08-19</td>\n",
       "      <td>Adelaide</td>\n",
       "      <td>MB</td>\n",
       "      <td>1869</td>\n",
       "      <td>9.4</td>\n",
       "      <td>126</td>\n",
       "      <td>22.2</td>\n",
       "      <td>194</td>\n",
       "      <td>1</td>\n",
       "      <td>111.0</td>\n",
       "    </tr>\n",
       "    <tr>\n",
       "      <th>3</th>\n",
       "      <td>PRAC</td>\n",
       "      <td>2019-08-19</td>\n",
       "      <td>Adelaide</td>\n",
       "      <td>MB</td>\n",
       "      <td>451</td>\n",
       "      <td>8.4</td>\n",
       "      <td>41</td>\n",
       "      <td>20.4</td>\n",
       "      <td>53</td>\n",
       "      <td>1</td>\n",
       "      <td>45.0</td>\n",
       "    </tr>\n",
       "    <tr>\n",
       "      <th>4</th>\n",
       "      <td>PRAC</td>\n",
       "      <td>2019-08-19</td>\n",
       "      <td>Ingrid</td>\n",
       "      <td>OH</td>\n",
       "      <td>2747</td>\n",
       "      <td>10.3</td>\n",
       "      <td>113</td>\n",
       "      <td>28.9</td>\n",
       "      <td>121</td>\n",
       "      <td>1</td>\n",
       "      <td>138.0</td>\n",
       "    </tr>\n",
       "  </tbody>\n",
       "</table>\n",
       "</div>"
      ],
      "text/plain": [
       "  EVENT TYPE       DATE PLAYER NAME POSITION  ENERGY  POWER  JUMPS 15+  \\\n",
       "0       PRAC 2019-08-19       Erika        S    1595    9.6          8   \n",
       "1       PRAC 2019-08-19       Erika        S    1020    8.4          2   \n",
       "2       PRAC 2019-08-19    Adelaide       MB    1869    9.4        126   \n",
       "3       PRAC 2019-08-19    Adelaide       MB     451    8.4         41   \n",
       "4       PRAC 2019-08-19      Ingrid       OH    2747   10.3        113   \n",
       "\n",
       "   HIGHEST JUMP (in)  JUMPS WEEK  ACTIVE MINS  \n",
       "0               17.7    116    1        102.0  \n",
       "1               21.7     62    1         70.0  \n",
       "2               22.2    194    1        111.0  \n",
       "3               20.4     53    1         45.0  \n",
       "4               28.9    121    1        138.0  "
      ]
     },
     "execution_count": 5,
     "metadata": {},
     "output_type": "execute_result"
    }
   ],
   "source": [
    "df_vb.loc[:,'DATE'] = pd.to_datetime(df_vb['DATE'], errors='coerce')\n",
    "df_vb.loc[:,'WEEK'] = (df_vb['DATE'].dt.week) - 33\n",
    "df_vb['WEEK'] = df_vb['WEEK'].astype('object')\n",
    "\n",
    "df_vb.head()"
   ]
  },
  {
   "cell_type": "markdown",
   "metadata": {
    "cell_id": "00006-adafd031-6c14-4135-b612-0aed97303d86",
    "deepnote_cell_type": "markdown",
    "tags": []
   },
   "source": [
    "Note that the \"week\" column that is being added is determining what week of the year each date in the dataset occurs in.  In order for the first days to be considered \"week 1\" of the season - we need to subtract the week by the number 33 -- as our first date falls in the 34th week of the calendar year.\n",
    "\n",
    "We have changed the type for our new variable \"week\" to an \"object\" as we do not plan to perform calculations based on the value of week.  This will also allow us to not have calculations performed on this variable."
   ]
  },
  {
   "cell_type": "markdown",
   "metadata": {
    "cell_id": "00009-c94eba5e-f739-4c69-8679-fff52afc873a",
    "deepnote_cell_type": "markdown",
    "tags": []
   },
   "source": [
    "Note that the original dataset included days where two different training sessions were performed with VERT -- and the \"Event Name\" in the dateset shows these sessions with the date and the addition of \"#2\" on the end.  \n"
   ]
  },
  {
   "cell_type": "markdown",
   "metadata": {
    "cell_id": "00003-2370d813-6340-456d-9917-b579182e8e55",
    "deepnote_cell_type": "markdown",
    "tags": []
   },
   "source": [
    "\n"
   ]
  },
  {
   "cell_type": "markdown",
   "metadata": {
    "cell_id": "00017-8f1c706d-1748-4d56-97f6-fd62f8d82cc5",
    "deepnote_cell_type": "text-cell-h2",
    "tags": []
   },
   "source": [
    "## Summarizing player data across the season with VERT"
   ]
  },
  {
   "cell_type": "markdown",
   "metadata": {
    "cell_id": "00019-ac5b083c-2a90-40c6-b8ed-ecd5c625339a",
    "deepnote_cell_type": "markdown",
    "tags": []
   },
   "source": [
    "We can start by evaluating some summary data according to player position.  In volleyball there are often 4 primary positions: middle blocker (MB), outside hitter (OH), and setter (S) and liberos.  The are expected differences in the duties and attributes of these players and we can perform some simple calculations to evaluate this.  \n",
    "\n",
    "NOTE: our dataset does not include liberos as they tend to jump less and dive more -- making the VERT device less interesting for them.  (Plus, they don't like to land on their VERT device when diving!) "
   ]
  },
  {
   "cell_type": "code",
   "execution_count": 6,
   "metadata": {
    "cell_id": "00003-9ba0da8b-0a4f-4c6f-8810-539a26781971",
    "deepnote_cell_type": "code",
    "deepnote_to_be_reexecuted": false,
    "execution_millis": 140,
    "execution_start": 1623331822427,
    "source_hash": "93352d5e"
   },
   "outputs": [
    {
     "name": "stdout",
     "output_type": "stream",
     "text": [
      "Total number of jumps captured using VERT for the season\n",
      "Erika 2234.0\n",
      "Adelaide 5000.0\n",
      "Ingrid 1922.0\n",
      "Kimmie 2580.0\n",
      "Zahra 3738.0\n",
      "Christine 4274.0\n",
      "Anja 2812.0\n",
      "Cassidy 2141.0\n",
      "Sofia 4695.0\n",
      "Charlie 4881.0\n",
      "Amy 5562.0\n",
      "Kamaria 2812.0\n",
      "Jasmine 5770.0\n",
      "Maya 2999.0\n"
     ]
    }
   ],
   "source": [
    "# Here we can use a simple For/Loop to sum together the total number of jumps for each player across the season\n",
    "\n",
    "print(\"Total number of jumps captured using VERT for the season\")\n",
    "for plyr in df_vb['PLAYER NAME'].unique():\n",
    "    tot_jumps = np.sum(df_vb.where(df_vb['PLAYER NAME']==plyr).dropna()['JUMPS'])\n",
    "    print(plyr, tot_jumps)"
   ]
  },
  {
   "cell_type": "markdown",
   "metadata": {
    "cell_id": "00012-0dcb5eb3-526f-4096-adf6-3014ed37e6da",
    "deepnote_cell_type": "markdown",
    "tags": []
   },
   "source": [
    "That is a lot of jumps!  However, remember that this actually only represents a portion of their actual jumps as it doesn't include any of the teams away games -- or practices that took place while they were traveling.  Later we'll have a dataset that includes all practices and games - but for this team it was a system that they only used at \"home\".\n",
    "\n",
    "Now... on to the data we've generated... This is a relatively simple summary and not to hard to digest.  However, it is not very pleasing as it provides only the name and the total number of jumps. It is not sorted in a way that is meaningful to evaluating the season.\n",
    "\n",
    "Let's use \"groupby\" to sort this further.  One possibility when looking at a whole season of data is that some players participated in less of the season than others, for example, due to injury.  We can count up how many total events (i.e. practices, games and scrimmages) each player participated in to explore this further."
   ]
  },
  {
   "cell_type": "code",
   "execution_count": 7,
   "metadata": {
    "cell_id": "00011-ec2780de-f380-4396-867c-1446edb39fb6",
    "deepnote_cell_type": "code",
    "deepnote_to_be_reexecuted": false,
    "execution_millis": 25,
    "execution_start": 1623331822565,
    "source_hash": "aec7acb3",
    "tags": []
   },
   "outputs": [
    {
     "name": "stdout",
     "output_type": "stream",
     "text": [
      "Total number of practices and games in database according to player name and position\n",
      "                      EVENT TYPE\n",
      "PLAYER NAME POSITION            \n",
      "Christine   OH                47\n",
      "Amy         S                 45\n",
      "Zahra       OH                45\n",
      "Jasmine     MB                44\n",
      "Kamaria     OH                44\n",
      "Adelaide    MB                41\n",
      "Sofia       MB                41\n",
      "Anja        OH                40\n",
      "Maya        OH                39\n",
      "Erika       S                 38\n",
      "Cassidy     OH                34\n",
      "Kimmie      S                 33\n",
      "Charlie     S                 30\n",
      "Ingrid      OH                27\n"
     ]
    }
   ],
   "source": [
    "PG_per_player = df_vb.groupby(['PLAYER NAME', 'POSITION'])[['EVENT TYPE']].count()\n",
    "print(\"Total number of practices and games in database according to player name and position\")\n",
    "\n",
    "\n",
    "print(PG_per_player.sort_values(by='EVENT TYPE', ascending = False))"
   ]
  },
  {
   "cell_type": "code",
   "execution_count": 8,
   "metadata": {
    "cell_id": "00023-cd4a9f30-3a6f-41ac-b9e5-8e3fbdc88128",
    "deepnote_cell_type": "code",
    "deepnote_to_be_reexecuted": false,
    "execution_millis": 29,
    "execution_start": 1623331822596,
    "source_hash": "d0feaa22",
    "tags": []
   },
   "outputs": [
    {
     "name": "stdout",
     "output_type": "stream",
     "text": [
      "Total active minutes during practices and games in database according to player name and position\n",
      "                      ACTIVE MINS\n",
      "PLAYER NAME POSITION             \n",
      "Christine   OH             4619.0\n",
      "Sofia       MB             4039.0\n",
      "Kamaria     OH             4013.0\n",
      "Amy         S              3901.0\n",
      "Zahra       OH             3841.0\n",
      "Jasmine     MB             3745.0\n",
      "Anja        OH             3518.0\n",
      "Maya        OH             3328.0\n",
      "Cassidy     OH             3299.0\n",
      "Adelaide    MB             3266.0\n",
      "Kimmie      S              3072.0\n",
      "Charlie     S              2917.0\n",
      "Erika       S              2848.0\n",
      "Ingrid      OH             2241.0\n"
     ]
    }
   ],
   "source": [
    "Mins_per_player = df_vb.groupby(['PLAYER NAME', 'POSITION'])[['ACTIVE MINS']].sum()\n",
    "print(\"Total active minutes during practices and games in database according to player name and position\")\n",
    "\n",
    "\n",
    "print(Mins_per_player.sort_values(by='ACTIVE MINS', ascending = False))"
   ]
  },
  {
   "cell_type": "markdown",
   "metadata": {
    "cell_id": "00024-1854bc66-7fc4-4de1-9d5c-ae5e63346fd2",
    "deepnote_cell_type": "text-cell-p",
    "tags": []
   },
   "source": [
    "This measure is strictly an external measure - as it is just using the acceleration data to produce the \"active minutes\" variable.  Nevertheless, it does help us gain an appreciation for how much activity each athlete accumulated over the course of the season."
   ]
  },
  {
   "cell_type": "markdown",
   "metadata": {
    "cell_id": "00022-b93637ca-86d3-4c66-967c-31e9c928fd72",
    "deepnote_cell_type": "markdown",
    "tags": []
   },
   "source": [
    "Next, let's take a look at the average numbers of jumps per session according to the player position."
   ]
  },
  {
   "cell_type": "code",
   "execution_count": 9,
   "metadata": {
    "cell_id": "00009-0b6eb30d-92d7-44d3-9b4c-aed4cb3873fa",
    "deepnote_cell_type": "code",
    "deepnote_to_be_reexecuted": false,
    "execution_millis": 26,
    "execution_start": 1623331822629,
    "source_hash": "74cbf289",
    "tags": []
   },
   "outputs": [
    {
     "name": "stdout",
     "output_type": "stream",
     "text": [
      "               JUMPS\n",
      "POSITION            \n",
      "MB        122.738095\n",
      "OH         75.188406\n",
      "S         105.938356\n"
     ]
    }
   ],
   "source": [
    "# Calculating the mean number of jumps per collection (practice / game / scrimmage)\n",
    "\n",
    "jumps_per_position = df_vb.groupby(['POSITION'])[['JUMPS']].mean()\n",
    "\n",
    "print(jumps_per_position)"
   ]
  },
  {
   "cell_type": "markdown",
   "metadata": {
    "cell_id": "00022-13982c6c-b684-4e02-a5ac-b9eefd0f50dc",
    "deepnote_cell_type": "markdown",
    "tags": []
   },
   "source": [
    "Players in the different positions had an average number of jumps between about 75 and 122 -- which doesn't tell us much yet.  However, we expect that setters are not the big \"leapers\" on the team -- so we can expect that calculating the mean of the higher jumps will show greater separation between the different positions."
   ]
  },
  {
   "cell_type": "code",
   "execution_count": 10,
   "metadata": {
    "cell_id": "00010-7598a0cf-0dc9-4ec6-a8a6-9b979bb3657d",
    "deepnote_cell_type": "code",
    "deepnote_to_be_reexecuted": false,
    "execution_millis": 11,
    "execution_start": 1623331822707,
    "source_hash": "38035934",
    "tags": []
   },
   "outputs": [
    {
     "name": "stdout",
     "output_type": "stream",
     "text": [
      "               JUMPS  JUMPS 15+\n",
      "POSITION                       \n",
      "MB        122.738095  92.293651\n",
      "OH         75.188406  62.148551\n",
      "S         105.938356  24.267123\n"
     ]
    }
   ],
   "source": [
    "# Calculating the mean number of jumps at or greater than 15 inches per collection\n",
    "\n",
    "jumps15_per_position = df_vb.groupby(['POSITION'])[['JUMPS', 'JUMPS 15+']].mean()\n",
    "print(jumps15_per_position)"
   ]
  },
  {
   "cell_type": "markdown",
   "metadata": {
    "cell_id": "00026-e09544ae-19ea-4ba2-9b52-32782e2cb2ad",
    "deepnote_cell_type": "markdown",
    "tags": []
   },
   "source": [
    "Now we see a more clear separation according to player position... with the setters having a low number of jumps greater than 15 inches (since most of their jumping is performed at a lower level than the outside hitters and middle blockers)."
   ]
  },
  {
   "cell_type": "markdown",
   "metadata": {
    "cell_id": "00027-e0867a37-45af-4e3e-b094-9d85cb4efd4e",
    "deepnote_cell_type": "markdown",
    "tags": []
   },
   "source": [
    "Let's also look at how many games were recorded with the VERT for each player."
   ]
  },
  {
   "cell_type": "code",
   "execution_count": 11,
   "metadata": {
    "cell_id": "00026-2a197237-a020-427b-a5e6-ebf46f263041",
    "deepnote_cell_type": "code",
    "deepnote_to_be_reexecuted": false,
    "execution_millis": 48,
    "execution_start": 1623331822708,
    "source_hash": "68f5e74a",
    "tags": []
   },
   "outputs": [
    {
     "data": {
      "text/plain": [
       "PLAYER NAME  POSITION\n",
       "Amy          S           9\n",
       "Christine    OH          9\n",
       "Jasmine      MB          9\n",
       "Kamaria      OH          9\n",
       "Maya         OH          9\n",
       "Anja         OH          8\n",
       "Sofia        MB          8\n",
       "Zahra        OH          8\n",
       "Cassidy      OH          7\n",
       "Adelaide     MB          6\n",
       "Erika        S           6\n",
       "Kimmie       S           5\n",
       "Charlie      S           4\n",
       "Ingrid       OH          3\n",
       "Name: JUMPS, dtype: int64"
      ]
     },
     "execution_count": 11,
     "metadata": {},
     "output_type": "execute_result"
    }
   ],
   "source": [
    "Games_only = df_vb[df_vb['EVENT TYPE'] ==\"GAME\"]\n",
    "\n",
    "#Games_only.head()\n",
    "\n",
    "Games_per_player = Games_only.groupby(['PLAYER NAME', 'POSITION']).count()\n",
    "Games_per_player\n",
    "Count_of_games_per_player = Games_per_player['JUMPS']\n",
    "Count_of_games_per_player.sort_values(ascending=False)"
   ]
  },
  {
   "cell_type": "markdown",
   "metadata": {
    "cell_id": "00026-7409c52e-6fb5-47b1-9c80-9753dd0dfd2d",
    "deepnote_cell_type": "markdown",
    "tags": []
   },
   "source": [
    "It is worth noting that some players had a limited number of games played.  We might want to be careful when performing analyses as these players may have had injury or illness that prevented their full participation in the season."
   ]
  },
  {
   "cell_type": "code",
   "execution_count": 12,
   "metadata": {
    "cell_id": "00028-ce749b69-a20b-49b1-b4f6-64615a37e8b8",
    "deepnote_cell_type": "code",
    "deepnote_to_be_reexecuted": false,
    "execution_millis": 208670,
    "execution_start": 1623331822760,
    "source_hash": "a1f11274",
    "tags": []
   },
   "outputs": [
    {
     "data": {
      "text/plain": [
       "PLAYER NAME  POSITION\n",
       "Christine    OH          37\n",
       "Zahra        OH          36\n",
       "Amy          S           35\n",
       "Adelaide     MB          34\n",
       "Jasmine      MB          34\n",
       "Kamaria      OH          34\n",
       "Sofia        MB          32\n",
       "Anja         OH          31\n",
       "Erika        S           31\n",
       "Maya         OH          29\n",
       "Kimmie       S           27\n",
       "Cassidy      OH          26\n",
       "Charlie      S           25\n",
       "Ingrid       OH          23\n",
       "Name: JUMPS, dtype: int64"
      ]
     },
     "execution_count": 12,
     "metadata": {},
     "output_type": "execute_result"
    }
   ],
   "source": [
    "Practice_only = df_vb[df_vb['EVENT TYPE'] ==\"PRAC\"]\n",
    "Practice_per_player = Practice_only.groupby(['PLAYER NAME', 'POSITION']).count()\n",
    "Practice_per_player\n",
    "Count_of_practice_per_player = Practice_per_player['JUMPS']\n",
    "Count_of_practice_per_player.sort_values(ascending=False)"
   ]
  },
  {
   "cell_type": "markdown",
   "metadata": {
    "cell_id": "00029-cf964840-4b0f-4d51-95c8-cde35743a55e",
    "deepnote_cell_type": "markdown",
    "tags": []
   },
   "source": [
    "We see that these same players have a limited number of practices - which suggests that there was something that limited their participation in the season.  "
   ]
  },
  {
   "cell_type": "code",
   "execution_count": 13,
   "metadata": {
    "cell_id": "00035-898c3a2f-9065-47bc-9e84-1c7fc91a1411",
    "deepnote_cell_type": "code",
    "deepnote_to_be_reexecuted": false,
    "execution_millis": 208664,
    "execution_start": 1623331822850,
    "source_hash": "36bdf104",
    "tags": []
   },
   "outputs": [
    {
     "name": "stdout",
     "output_type": "stream",
     "text": [
      "Total active minutes during game 'sessions' in database according to player name and position\n",
      "                      ACTIVE MINS\n",
      "PLAYER NAME POSITION             \n",
      "Christine   OH              989.0\n",
      "Anja        OH              809.0\n",
      "Jasmine     MB              781.0\n",
      "Amy         S               772.0\n",
      "Maya        OH              770.0\n",
      "Kamaria     OH              746.0\n",
      "Sofia       MB              714.0\n",
      "Cassidy     OH              685.0\n",
      "Zahra       OH              620.0\n",
      "Charlie     S               492.0\n",
      "Erika       S               480.0\n",
      "Kimmie      S               452.0\n",
      "Adelaide    MB              379.0\n",
      "Ingrid      OH              181.0\n"
     ]
    }
   ],
   "source": [
    "Mins_per_player_Games = Games_only.groupby(['PLAYER NAME', 'POSITION'])[['ACTIVE MINS']].sum()\n",
    "print(\"Total active minutes during game 'sessions' in database according to player name and position\")\n",
    "\n",
    "\n",
    "print(Mins_per_player_Games.sort_values(by='ACTIVE MINS', ascending = False))"
   ]
  },
  {
   "cell_type": "markdown",
   "metadata": {
    "cell_id": "00036-d00a289f-009c-4da9-820e-eef97088cbcc",
    "deepnote_cell_type": "text-cell-p",
    "tags": []
   },
   "source": [
    "To be fair, this device was not recording only when they were in game play.  It would be recording any time it is on.  Therefore, cheering from the side of the court could also result in some detected activity and contribute to this measure of \"active minutes\".   "
   ]
  },
  {
   "cell_type": "code",
   "execution_count": 14,
   "metadata": {
    "cell_id": "00036-b880dd1e-ed2a-43fe-a272-cded3ef58afb",
    "deepnote_cell_type": "code",
    "deepnote_to_be_reexecuted": false,
    "execution_millis": 62,
    "execution_start": 1623331822851,
    "source_hash": "9673cfb5",
    "tags": []
   },
   "outputs": [
    {
     "name": "stdout",
     "output_type": "stream",
     "text": [
      "Total active minutes during practice in database according to player name and position\n",
      "                      ACTIVE MINS\n",
      "PLAYER NAME POSITION             \n",
      "Christine   OH             3568.0\n",
      "Sofia       MB             3215.0\n",
      "Kamaria     OH             3156.0\n",
      "Zahra       OH             3127.0\n",
      "Amy         S              3030.0\n",
      "Jasmine     MB             2872.0\n",
      "Adelaide    MB             2769.0\n",
      "Anja        OH             2605.0\n",
      "Kimmie      S              2518.0\n",
      "Cassidy     OH             2498.0\n",
      "Maya        OH             2474.0\n",
      "Charlie     S              2311.0\n",
      "Erika       S              2263.0\n",
      "Ingrid      OH             1968.0\n"
     ]
    }
   ],
   "source": [
    "Mins_per_player_Practice = Practice_only.groupby(['PLAYER NAME', 'POSITION'])[['ACTIVE MINS']].sum()\n",
    "print(\"Total active minutes during practice in database according to player name and position\")\n",
    "\n",
    "\n",
    "print(Mins_per_player_Practice.sort_values(by='ACTIVE MINS', ascending = False))"
   ]
  },
  {
   "cell_type": "code",
   "execution_count": 15,
   "metadata": {
    "cell_id": "00024-d43d755e-bc05-4de9-9a83-6ded0a823bf5",
    "deepnote_cell_type": "code",
    "deepnote_to_be_reexecuted": false,
    "execution_millis": 401,
    "execution_start": 1623331822852,
    "source_hash": "b341ab",
    "tags": []
   },
   "outputs": [
    {
     "name": "stdout",
     "output_type": "stream",
     "text": [
      "Sum of values across all practices and games in database for each player\n",
      "Sorted by total number of jumps\n",
      "                      ENERGY  POWER  JUMPS 15+  HIGHEST JUMP (in)  JUMPS  \\\n",
      "PLAYER NAME POSITION                                                       \n",
      "Jasmine     MB         83894  474.3       4784             1069.6   5770   \n",
      "Amy         S          70206  431.1       1848              919.0   5562   \n",
      "Charlie     S          65800  288.2       1011              591.4   5091   \n",
      "Adelaide    MB         49829  378.7       3256              995.1   5000   \n",
      "Sofia       MB         66265  358.1       3589             1034.0   4695   \n",
      "Christine   OH        106427  430.0       3436             1250.2   4274   \n",
      "Zahra       OH         55645  399.2       3180             1108.2   3738   \n",
      "Maya        OH         63095  339.5       2662              963.9   2999   \n",
      "Kamaria     OH         69482  405.9       2514             1235.9   2866   \n",
      "Anja        OH         52841  380.7       1725              914.4   2812   \n",
      "Kimmie      S          34074  226.3        354              595.8   2580   \n",
      "Erika       S          41648  360.1        330              699.4   2234   \n",
      "Cassidy     OH         43709  311.5       1843              943.9   2141   \n",
      "Ingrid      OH         37418  253.2       1793              753.7   1922   \n",
      "\n",
      "                      ACTIVE MINS  \n",
      "PLAYER NAME POSITION               \n",
      "Jasmine     MB             3745.0  \n",
      "Amy         S              3901.0  \n",
      "Charlie     S              2917.0  \n",
      "Adelaide    MB             3266.0  \n",
      "Sofia       MB             4039.0  \n",
      "Christine   OH             4619.0  \n",
      "Zahra       OH             3841.0  \n",
      "Maya        OH             3328.0  \n",
      "Kamaria     OH             4013.0  \n",
      "Anja        OH             3518.0  \n",
      "Kimmie      S              3072.0  \n",
      "Erika       S              2848.0  \n",
      "Cassidy     OH             3299.0  \n",
      "Ingrid      OH             2241.0  \n"
     ]
    }
   ],
   "source": [
    "TOTjumps = df_vb.groupby(['PLAYER NAME', 'POSITION']).sum()\n",
    "print(\"Sum of values across all practices and games in database for each player\")\n",
    "print(\"Sorted by total number of jumps\")\n",
    "print(TOTjumps.sort_values(by='JUMPS', ascending = False))"
   ]
  },
  {
   "cell_type": "markdown",
   "metadata": {
    "cell_id": "00031-f20b39dc-449b-4fbe-8469-45cf61659329",
    "deepnote_cell_type": "markdown",
    "tags": []
   },
   "source": [
    "This provides us a look at the total number of jumps performed across the entire season (of collected VERT data).  "
   ]
  },
  {
   "cell_type": "code",
   "execution_count": 16,
   "metadata": {
    "allow_embed": false,
    "cell_id": "00024-94c66564-1c97-40d0-83ff-7074df7fc85b",
    "deepnote_cell_type": "code",
    "deepnote_to_be_reexecuted": false,
    "execution_millis": 331,
    "execution_start": 1623331822922,
    "source_hash": "b767dd5",
    "tags": []
   },
   "outputs": [
    {
     "name": "stdout",
     "output_type": "stream",
     "text": [
      "Total number of practices and games in database for each player\n"
     ]
    },
    {
     "data": {
      "text/plain": [
       "PLAYER NAME  POSITION\n",
       "Christine    OH          47\n",
       "Amy          S           45\n",
       "Zahra        OH          45\n",
       "Jasmine      MB          44\n",
       "Kamaria      OH          44\n",
       "Adelaide     MB          41\n",
       "Sofia        MB          41\n",
       "Anja         OH          40\n",
       "Maya         OH          39\n",
       "Erika        S           38\n",
       "Cassidy      OH          34\n",
       "Kimmie       S           33\n",
       "Charlie      S           30\n",
       "Ingrid       OH          27\n",
       "Name: EVENT TYPE, dtype: int64"
      ]
     },
     "execution_count": 16,
     "metadata": {},
     "output_type": "execute_result"
    }
   ],
   "source": [
    "PG_per_player = df_vb.groupby(['PLAYER NAME', 'POSITION']).count()\n",
    "print(\"Total number of practices and games in database for each player\")\n",
    "PG_per_player\n",
    "\n",
    "PG_per_player.sort_values(by='EVENT TYPE', ascending = False)['EVENT TYPE']"
   ]
  },
  {
   "cell_type": "markdown",
   "metadata": {
    "cell_id": "00034-3e775920-db34-41b8-859b-7eb919b3b1ea",
    "deepnote_cell_type": "markdown",
    "tags": []
   },
   "source": [
    "Let's say that we decide we are interested in evaluating the season without a player that was injured.  Let's remove \"Ingrid\" from this dataset -- since any averages that are computed for the team (and players of her position) will be influenced by her data.  We'll use the \"drop\" method.\n",
    "\n",
    "We will set the \"player name\" column to be the dataframe index and then we will use the drop function to delete any rows of \"Ingrid\" data. \n"
   ]
  },
  {
   "cell_type": "code",
   "execution_count": 17,
   "metadata": {
    "cell_id": "00034-22cd1c67-be24-4099-950c-ac34ed39c944",
    "deepnote_cell_type": "code",
    "deepnote_to_be_reexecuted": false,
    "execution_millis": 286,
    "execution_start": 1623331822967,
    "source_hash": "32ef8b59",
    "tags": []
   },
   "outputs": [
    {
     "name": "stdout",
     "output_type": "stream",
     "text": [
      "Total number of practices and games in database for each player\n"
     ]
    },
    {
     "data": {
      "text/plain": [
       "PLAYER NAME  POSITION\n",
       "Christine    OH          47\n",
       "Amy          S           45\n",
       "Zahra        OH          45\n",
       "Jasmine      MB          44\n",
       "Kamaria      OH          44\n",
       "Adelaide     MB          41\n",
       "Sofia        MB          41\n",
       "Anja         OH          40\n",
       "Maya         OH          39\n",
       "Erika        S           38\n",
       "Cassidy      OH          34\n",
       "Kimmie       S           33\n",
       "Charlie      S           30\n",
       "Name: EVENT TYPE, dtype: int64"
      ]
     },
     "execution_count": 17,
     "metadata": {},
     "output_type": "execute_result"
    }
   ],
   "source": [
    "df_vb2=df_vb.copy()\n",
    "df_vb2.set_index('PLAYER NAME', inplace=True)\n",
    "df_vb2.drop(['Ingrid'], axis=0, inplace=True)\n",
    "PG_per_player2 = df_vb2.groupby(['PLAYER NAME', 'POSITION']).count()\n",
    "print(\"Total number of practices and games in database for each player\")\n",
    "\n",
    "\n",
    "PG_per_player2.sort_values(by='EVENT TYPE', ascending = False)['EVENT TYPE']"
   ]
  },
  {
   "cell_type": "markdown",
   "metadata": {
    "cell_id": "00037-a23025fb-a30a-4c14-bbd9-b28bc04f3275",
    "deepnote_cell_type": "markdown",
    "tags": []
   },
   "source": [
    "We can see that this dataframe has removed the player named Ingrid -- so we can choose to analyze the season with the entire dataset or with the revised dataset where Ingrid has been removed (e.g. to due to injury).\n",
    "\n",
    "Now -- let's take a look at the averages for the season with and without Ingrid.  First we will compare the season with the full roster."
   ]
  },
  {
   "cell_type": "code",
   "execution_count": 18,
   "metadata": {
    "cell_id": "00007-8f654913-8d4e-4e48-8a6c-c6471a8bdb60",
    "deepnote_cell_type": "code",
    "deepnote_to_be_reexecuted": false,
    "execution_millis": 286,
    "execution_start": 1623331822968,
    "source_hash": "b16342e1"
   },
   "outputs": [
    {
     "name": "stdout",
     "output_type": "stream",
     "text": [
      "Players in position MB have an average highest jump 24.6\n",
      "There were 126 records in group MB for processing.\n",
      "Players in position OH have an average highest jump 26.1\n",
      "There were 276 records in group OH for processing.\n",
      "Players in position S have an average highest jump 19.2\n",
      "There were 146 records in group S for processing.\n"
     ]
    }
   ],
   "source": [
    "for pos, hjump in df_vb.groupby('POSITION'):\n",
    "    avghj = np.average(hjump['HIGHEST JUMP (in)'].dropna())\n",
    "  \n",
    "    print('Players in position ' + pos + ' have an average highest jump ' + str(round(avghj,1)))\n",
    "    print('There were ' + str(len(hjump)) + ' records in group ' + str(pos) + ' for processing.')"
   ]
  },
  {
   "cell_type": "markdown",
   "metadata": {
    "cell_id": "00039-7a88c973-0874-4ee9-9d25-fd8d256f9dda",
    "deepnote_cell_type": "markdown",
    "tags": []
   },
   "source": [
    "Next we will run it with the dataset that doesn't include Ingrid (df_vbp2) -- in order to check our work and see if things make sense."
   ]
  },
  {
   "cell_type": "code",
   "execution_count": 19,
   "metadata": {
    "cell_id": "00039-1e50a084-8675-4a26-88ad-d6d1dc71bcfe",
    "deepnote_cell_type": "code",
    "deepnote_to_be_reexecuted": false,
    "execution_millis": 242,
    "execution_start": 1623331823012,
    "source_hash": "413e9576",
    "tags": []
   },
   "outputs": [
    {
     "name": "stdout",
     "output_type": "stream",
     "text": [
      "Players in position MB have an average highest jump 24.6\n",
      "There were 126 records in group MB for processing.\n",
      "Players in position OH have an average highest jump 25.9\n",
      "There were 249 records in group OH for processing.\n",
      "Players in position S have an average highest jump 19.2\n",
      "There were 146 records in group S for processing.\n"
     ]
    }
   ],
   "source": [
    "for pos, hjump in df_vb2.groupby('POSITION'):\n",
    "    avghj2 = np.average(hjump['HIGHEST JUMP (in)'].dropna())\n",
    "  \n",
    "    print('Players in position ' + pos + ' have an average highest jump ' + str(round(avghj2,1)))\n",
    "    print('There were ' + str(len(hjump)) + ' records in group ' + str(pos) + ' for processing.')"
   ]
  },
  {
   "cell_type": "markdown",
   "metadata": {
    "cell_id": "00008-6fab57aa-baec-4e5c-93bb-c87990b5adce",
    "deepnote_cell_type": "markdown",
    "tags": []
   },
   "source": [
    "We see that there are the expected number of records after removing Ingrid from the new dataset.  We have 276 records from outside hitters in the original dataset - and only 249 records after removing Ingrid. Since we know Ingrid was at 27 practices and games -- all of the calculations add up and make sense.\n",
    "\n",
    "However, we see that the average highest jump is actually lower after removing Ingrid -- so her highest jumps in her practices and games were higher than the average for her position.  \n",
    "\n"
   ]
  },
  {
   "cell_type": "markdown",
   "metadata": {
    "cell_id": "00043-3fe2d9cd-bfb2-4e73-8ea8-ea9df4513274",
    "deepnote_cell_type": "markdown",
    "tags": []
   },
   "source": [
    "Finally, let's explore one of the \"other\" metrics that are provided by \"VERT\" to understand it better.  Let's start by using the \"describe\" method to see the range of values across the entire dataset."
   ]
  },
  {
   "cell_type": "code",
   "execution_count": 20,
   "metadata": {
    "cell_id": "00033-eec2b508-aec3-435d-810b-d8bb087b5a36",
    "deepnote_cell_type": "code",
    "deepnote_to_be_reexecuted": false,
    "execution_millis": 244,
    "execution_start": 1623331823013,
    "source_hash": "b7f29f57",
    "tags": []
   },
   "outputs": [
    {
     "data": {
      "text/html": [
       "<div>\n",
       "<style scoped>\n",
       "    .dataframe tbody tr th:only-of-type {\n",
       "        vertical-align: middle;\n",
       "    }\n",
       "\n",
       "    .dataframe tbody tr th {\n",
       "        vertical-align: top;\n",
       "    }\n",
       "\n",
       "    .dataframe thead th {\n",
       "        text-align: right;\n",
       "    }\n",
       "</style>\n",
       "<table border=\"1\" class=\"dataframe\">\n",
       "  <thead>\n",
       "    <tr style=\"text-align: right;\">\n",
       "      <th></th>\n",
       "      <th>ENERGY</th>\n",
       "    </tr>\n",
       "  </thead>\n",
       "  <tbody>\n",
       "    <tr>\n",
       "      <th>count</th>\n",
       "      <td>548.000000</td>\n",
       "    </tr>\n",
       "    <tr>\n",
       "      <th>mean</th>\n",
       "      <td>1533.454380</td>\n",
       "    </tr>\n",
       "    <tr>\n",
       "      <th>std</th>\n",
       "      <td>705.470354</td>\n",
       "    </tr>\n",
       "    <tr>\n",
       "      <th>min</th>\n",
       "      <td>220.000000</td>\n",
       "    </tr>\n",
       "    <tr>\n",
       "      <th>25%</th>\n",
       "      <td>1036.000000</td>\n",
       "    </tr>\n",
       "    <tr>\n",
       "      <th>50%</th>\n",
       "      <td>1471.000000</td>\n",
       "    </tr>\n",
       "    <tr>\n",
       "      <th>75%</th>\n",
       "      <td>1962.000000</td>\n",
       "    </tr>\n",
       "    <tr>\n",
       "      <th>max</th>\n",
       "      <td>3901.000000</td>\n",
       "    </tr>\n",
       "  </tbody>\n",
       "</table>\n",
       "</div>"
      ],
      "text/plain": [
       "            ENERGY\n",
       "count   548.000000\n",
       "mean   1533.454380\n",
       "std     705.470354\n",
       "min     220.000000\n",
       "25%    1036.000000\n",
       "50%    1471.000000\n",
       "75%    1962.000000\n",
       "max    3901.000000"
      ]
     },
     "execution_count": 20,
     "metadata": {},
     "output_type": "execute_result"
    }
   ],
   "source": [
    "# what is \"energy\"?\n",
    "\n",
    "df_vb[['ENERGY']].describe()  #description of values for a particular variable"
   ]
  },
  {
   "cell_type": "markdown",
   "metadata": {
    "cell_id": "00050-6cafe164-bcb0-43ef-8818-81c235032fc7",
    "deepnote_cell_type": "text-cell-p",
    "tags": []
   },
   "source": [
    "Let's explore this dataset a bit -- by looking at the lowest values across the season and see what they might have in common.  We'll use the \"nsmallest\" method to look at the 5 lowest values from the sessions collected across the season."
   ]
  },
  {
   "cell_type": "code",
   "execution_count": 21,
   "metadata": {
    "cell_id": "00050-9d1c54d5-713e-4846-8908-13e9a3433115",
    "deepnote_cell_type": "code",
    "deepnote_to_be_reexecuted": false,
    "execution_millis": 200,
    "execution_start": 1623331823057,
    "source_hash": "1fa0c587",
    "tags": []
   },
   "outputs": [
    {
     "data": {
      "text/html": [
       "<div>\n",
       "<style scoped>\n",
       "    .dataframe tbody tr th:only-of-type {\n",
       "        vertical-align: middle;\n",
       "    }\n",
       "\n",
       "    .dataframe tbody tr th {\n",
       "        vertical-align: top;\n",
       "    }\n",
       "\n",
       "    .dataframe thead th {\n",
       "        text-align: right;\n",
       "    }\n",
       "</style>\n",
       "<table border=\"1\" class=\"dataframe\">\n",
       "  <thead>\n",
       "    <tr style=\"text-align: right;\">\n",
       "      <th></th>\n",
       "      <th>EVENT TYPE</th>\n",
       "      <th>DATE</th>\n",
       "      <th>PLAYER NAME</th>\n",
       "      <th>POSITION</th>\n",
       "      <th>ENERGY</th>\n",
       "      <th>POWER</th>\n",
       "      <th>JUMPS 15+</th>\n",
       "      <th>HIGHEST JUMP (in)</th>\n",
       "      <th>JUMPS</th>\n",
       "      <th>WEEK</th>\n",
       "      <th>ACTIVE MINS</th>\n",
       "    </tr>\n",
       "  </thead>\n",
       "  <tbody>\n",
       "    <tr>\n",
       "      <th>537</th>\n",
       "      <td>GAME</td>\n",
       "      <td>2019-11-30</td>\n",
       "      <td>Adelaide</td>\n",
       "      <td>MB</td>\n",
       "      <td>220</td>\n",
       "      <td>7.7</td>\n",
       "      <td>11</td>\n",
       "      <td>26.9</td>\n",
       "      <td>11</td>\n",
       "      <td>15</td>\n",
       "      <td>37.0</td>\n",
       "    </tr>\n",
       "    <tr>\n",
       "      <th>216</th>\n",
       "      <td>GAME</td>\n",
       "      <td>2019-09-20</td>\n",
       "      <td>Adelaide</td>\n",
       "      <td>MB</td>\n",
       "      <td>239</td>\n",
       "      <td>7.6</td>\n",
       "      <td>10</td>\n",
       "      <td>23.7</td>\n",
       "      <td>11</td>\n",
       "      <td>5</td>\n",
       "      <td>93.0</td>\n",
       "    </tr>\n",
       "    <tr>\n",
       "      <th>397</th>\n",
       "      <td>PRAC</td>\n",
       "      <td>2019-10-22</td>\n",
       "      <td>Adelaide</td>\n",
       "      <td>MB</td>\n",
       "      <td>243</td>\n",
       "      <td>9.2</td>\n",
       "      <td>18</td>\n",
       "      <td>25.9</td>\n",
       "      <td>33</td>\n",
       "      <td>10</td>\n",
       "      <td>21.0</td>\n",
       "    </tr>\n",
       "    <tr>\n",
       "      <th>286</th>\n",
       "      <td>PRAC</td>\n",
       "      <td>2019-09-26</td>\n",
       "      <td>Jasmine</td>\n",
       "      <td>MB</td>\n",
       "      <td>256</td>\n",
       "      <td>9.1</td>\n",
       "      <td>16</td>\n",
       "      <td>23.8</td>\n",
       "      <td>16</td>\n",
       "      <td>6</td>\n",
       "      <td>21.0</td>\n",
       "    </tr>\n",
       "    <tr>\n",
       "      <th>536</th>\n",
       "      <td>GAME</td>\n",
       "      <td>2019-11-30</td>\n",
       "      <td>Erika</td>\n",
       "      <td>S</td>\n",
       "      <td>262</td>\n",
       "      <td>5.7</td>\n",
       "      <td>1</td>\n",
       "      <td>16.0</td>\n",
       "      <td>7</td>\n",
       "      <td>15</td>\n",
       "      <td>78.0</td>\n",
       "    </tr>\n",
       "  </tbody>\n",
       "</table>\n",
       "</div>"
      ],
      "text/plain": [
       "    EVENT TYPE       DATE PLAYER NAME POSITION  ENERGY  POWER  JUMPS 15+  \\\n",
       "537       GAME 2019-11-30    Adelaide       MB     220    7.7         11   \n",
       "216       GAME 2019-09-20    Adelaide       MB     239    7.6         10   \n",
       "397       PRAC 2019-10-22    Adelaide       MB     243    9.2         18   \n",
       "286       PRAC 2019-09-26     Jasmine       MB     256    9.1         16   \n",
       "536       GAME 2019-11-30       Erika        S     262    5.7          1   \n",
       "\n",
       "     HIGHEST JUMP (in)  JUMPS WEEK  ACTIVE MINS  \n",
       "537               26.9     11   15         37.0  \n",
       "216               23.7     11    5         93.0  \n",
       "397               25.9     33   10         21.0  \n",
       "286               23.8     16    6         21.0  \n",
       "536               16.0      7   15         78.0  "
      ]
     },
     "execution_count": 21,
     "metadata": {},
     "output_type": "execute_result"
    }
   ],
   "source": [
    "df_vb.nsmallest(5, ['ENERGY'])"
   ]
  },
  {
   "cell_type": "markdown",
   "metadata": {
    "cell_id": "00052-6cd7fecd-3af0-43d6-a021-a1bcde2e6352",
    "deepnote_cell_type": "text-cell-p",
    "tags": []
   },
   "source": [
    "We see the lowest values here are from a mix of games and practice -- and include sessions with a small number of jumps -- though a variable number of active minutes.  Remember that a player on the sidelines of a game can still have \"active minutes\" and data collected... including the warm-up for the game.  If I had to take a guess -- I would guess that \"Adelaide\" did not see any (or much) game time in these games that are featured here.  I suspect that the jumps performed here were from the warm-up of the entire team."
   ]
  },
  {
   "cell_type": "markdown",
   "metadata": {
    "deepnote_cell_type": "text-cell-p",
    "tags": []
   },
   "source": [
    "Let's take a look at the highest energy values as well -- to see what we can glean from them."
   ]
  },
  {
   "cell_type": "code",
   "execution_count": 22,
   "metadata": {
    "cell_id": "00046-7c034b72-1e2a-4e6b-9e09-a57d152e96b2",
    "deepnote_cell_type": "code",
    "deepnote_to_be_reexecuted": false,
    "execution_millis": 148,
    "execution_start": 1623331823170,
    "source_hash": "946a1f1b",
    "tags": []
   },
   "outputs": [
    {
     "data": {
      "text/html": [
       "<div>\n",
       "<style scoped>\n",
       "    .dataframe tbody tr th:only-of-type {\n",
       "        vertical-align: middle;\n",
       "    }\n",
       "\n",
       "    .dataframe tbody tr th {\n",
       "        vertical-align: top;\n",
       "    }\n",
       "\n",
       "    .dataframe thead th {\n",
       "        text-align: right;\n",
       "    }\n",
       "</style>\n",
       "<table border=\"1\" class=\"dataframe\">\n",
       "  <thead>\n",
       "    <tr style=\"text-align: right;\">\n",
       "      <th></th>\n",
       "      <th>EVENT TYPE</th>\n",
       "      <th>DATE</th>\n",
       "      <th>PLAYER NAME</th>\n",
       "      <th>POSITION</th>\n",
       "      <th>ENERGY</th>\n",
       "      <th>POWER</th>\n",
       "      <th>JUMPS 15+</th>\n",
       "      <th>HIGHEST JUMP (in)</th>\n",
       "      <th>JUMPS</th>\n",
       "      <th>WEEK</th>\n",
       "      <th>ACTIVE MINS</th>\n",
       "    </tr>\n",
       "  </thead>\n",
       "  <tbody>\n",
       "    <tr>\n",
       "      <th>315</th>\n",
       "      <td>GAME</td>\n",
       "      <td>2019-10-06</td>\n",
       "      <td>Christine</td>\n",
       "      <td>OH</td>\n",
       "      <td>3901</td>\n",
       "      <td>9.2</td>\n",
       "      <td>84</td>\n",
       "      <td>33.4</td>\n",
       "      <td>104</td>\n",
       "      <td>7</td>\n",
       "      <td>131.0</td>\n",
       "    </tr>\n",
       "    <tr>\n",
       "      <th>368</th>\n",
       "      <td>GAME</td>\n",
       "      <td>2019-10-16</td>\n",
       "      <td>Charlie</td>\n",
       "      <td>S</td>\n",
       "      <td>3876</td>\n",
       "      <td>10.3</td>\n",
       "      <td>70</td>\n",
       "      <td>21.6</td>\n",
       "      <td>248</td>\n",
       "      <td>9</td>\n",
       "      <td>145.0</td>\n",
       "    </tr>\n",
       "    <tr>\n",
       "      <th>267</th>\n",
       "      <td>GAME</td>\n",
       "      <td>2019-09-25</td>\n",
       "      <td>Christine</td>\n",
       "      <td>OH</td>\n",
       "      <td>3829</td>\n",
       "      <td>9.4</td>\n",
       "      <td>96</td>\n",
       "      <td>26.6</td>\n",
       "      <td>126</td>\n",
       "      <td>6</td>\n",
       "      <td>131.0</td>\n",
       "    </tr>\n",
       "    <tr>\n",
       "      <th>220</th>\n",
       "      <td>GAME</td>\n",
       "      <td>2019-09-20</td>\n",
       "      <td>Christine</td>\n",
       "      <td>OH</td>\n",
       "      <td>3800</td>\n",
       "      <td>9.6</td>\n",
       "      <td>101</td>\n",
       "      <td>27.4</td>\n",
       "      <td>119</td>\n",
       "      <td>5</td>\n",
       "      <td>113.0</td>\n",
       "    </tr>\n",
       "    <tr>\n",
       "      <th>106</th>\n",
       "      <td>PRAC</td>\n",
       "      <td>2019-08-26</td>\n",
       "      <td>Jasmine</td>\n",
       "      <td>MB</td>\n",
       "      <td>3694</td>\n",
       "      <td>12.0</td>\n",
       "      <td>259</td>\n",
       "      <td>25.5</td>\n",
       "      <td>293</td>\n",
       "      <td>2</td>\n",
       "      <td>113.0</td>\n",
       "    </tr>\n",
       "  </tbody>\n",
       "</table>\n",
       "</div>"
      ],
      "text/plain": [
       "    EVENT TYPE       DATE PLAYER NAME POSITION  ENERGY  POWER  JUMPS 15+  \\\n",
       "315       GAME 2019-10-06   Christine       OH    3901    9.2         84   \n",
       "368       GAME 2019-10-16     Charlie        S    3876   10.3         70   \n",
       "267       GAME 2019-09-25   Christine       OH    3829    9.4         96   \n",
       "220       GAME 2019-09-20   Christine       OH    3800    9.6        101   \n",
       "106       PRAC 2019-08-26     Jasmine       MB    3694   12.0        259   \n",
       "\n",
       "     HIGHEST JUMP (in)  JUMPS WEEK  ACTIVE MINS  \n",
       "315               33.4    104    7        131.0  \n",
       "368               21.6    248    9        145.0  \n",
       "267               26.6    126    6        131.0  \n",
       "220               27.4    119    5        113.0  \n",
       "106               25.5    293    2        113.0  "
      ]
     },
     "execution_count": 22,
     "metadata": {},
     "output_type": "execute_result"
    }
   ],
   "source": [
    "df_vb.nlargest(5, ['ENERGY'])"
   ]
  },
  {
   "cell_type": "markdown",
   "metadata": {
    "cell_id": "00045-be7403da-07e8-4414-8b54-b0382907942a",
    "deepnote_cell_type": "markdown",
    "tags": []
   },
   "source": [
    "Based on this, it appears that Christine has a high \"ENERGY\" value on a regular basis.  All of these sessions include more than 100 jumps and nearly 100 jumps of more than 15 inches.\n",
    "\n",
    "Next, let's sort the entire team according to their mean \"energy\" for each VERT event across the entire season."
   ]
  },
  {
   "cell_type": "code",
   "execution_count": 23,
   "metadata": {
    "allow_embed": false,
    "cell_id": "00024-e17a869c-0020-4cdb-a9a9-f5977325ead3",
    "deepnote_cell_type": "code",
    "deepnote_to_be_reexecuted": false,
    "execution_millis": 72,
    "execution_start": 1623331823318,
    "source_hash": "12b5bd88",
    "tags": []
   },
   "outputs": [
    {
     "name": "stdout",
     "output_type": "stream",
     "text": [
      "Total sum of ENERGY from practices and games for each player\n"
     ]
    },
    {
     "data": {
      "text/plain": [
       "PLAYER NAME  POSITION\n",
       "Christine    OH          106427\n",
       "Jasmine      MB           83894\n",
       "Amy          S            70206\n",
       "Kamaria      OH           69482\n",
       "Sofia        MB           66265\n",
       "Charlie      S            65800\n",
       "Maya         OH           63095\n",
       "Zahra        OH           55645\n",
       "Anja         OH           52841\n",
       "Adelaide     MB           49829\n",
       "Cassidy      OH           43709\n",
       "Erika        S            41648\n",
       "Ingrid       OH           37418\n",
       "Kimmie       S            34074\n",
       "Name: ENERGY, dtype: int64"
      ]
     },
     "execution_count": 23,
     "metadata": {},
     "output_type": "execute_result"
    }
   ],
   "source": [
    "PG_Energy = df_vb.groupby(['PLAYER NAME', 'POSITION']).sum()\n",
    "print(\"Total sum of ENERGY from practices and games for each player\")\n",
    "PG_Energy\n",
    "\n",
    "PG_Energy.sort_values(by='ENERGY', ascending = False)['ENERGY']"
   ]
  },
  {
   "cell_type": "markdown",
   "metadata": {
    "cell_id": "00057-9686f13f-b1a9-482e-9648-a3cd7fc04ed4",
    "deepnote_cell_type": "text-cell-p",
    "tags": []
   },
   "source": [
    "Let's look at the average ENERGY value of the players according to the weeks of the season.  We'll generate a basic plot that allows us to visualize changes in the ENERGY score on game days across the season. "
   ]
  },
  {
   "cell_type": "code",
   "execution_count": 24,
   "metadata": {
    "cell_id": "00063-f9564d8f-16a5-4fba-8b46-0c69b64bb953",
    "deepnote_cell_type": "code",
    "deepnote_to_be_reexecuted": false,
    "execution_millis": 743,
    "execution_start": 1623331823371,
    "source_hash": "73db20c9",
    "tags": []
   },
   "outputs": [
    {
     "data": {
      "text/plain": [
       "Text(0, 0.5, 'ENERGY')"
      ]
     },
     "execution_count": 24,
     "metadata": {},
     "output_type": "execute_result"
    },
    {
     "data": {
      "image/png": "[encoded data removed]",
      "text/plain": [
       "<Figure size 1080x504 with 1 Axes>"
      ]
     },
     "metadata": {
      "needs_background": "light"
     },
     "output_type": "display_data"
    }
   ],
   "source": [
    "df_game = df_vb.loc[df_vb['EVENT TYPE'] == 'GAME']\n",
    "\n",
    "# plot data\n",
    "fig, ax = plt.subplots(figsize=(15,7))\n",
    "# use unstack()\n",
    "df_game.groupby(['WEEK', 'PLAYER NAME']).mean()['ENERGY'].unstack().plot(ax=ax, legend=False)\n",
    "\n",
    "fig.legend(loc=\"upper right\")\n",
    "plt.title(\"Average ENERGY by Player per Week during Games\")\n",
    "plt.ylabel(\"ENERGY\")"
   ]
  },
  {
   "cell_type": "markdown",
   "metadata": {
    "cell_id": "00045-0883b3dd-097b-453d-9ea2-cb1540430c31",
    "deepnote_cell_type": "markdown",
    "tags": []
   },
   "source": [
    "Next, let's produce a matrix to evaluate the correlation between the \"energy\" metric and the other measures that we have in our current dataset. "
   ]
  },
  {
   "cell_type": "code",
   "execution_count": 25,
   "metadata": {
    "cell_id": "00013-9fbdcb7a-e38e-4059-820f-d001b40cf99a",
    "deepnote_cell_type": "code",
    "deepnote_to_be_reexecuted": false,
    "execution_millis": 876,
    "execution_start": 1623331824123,
    "source_hash": "c08d4cdc"
   },
   "outputs": [
    {
     "data": {
      "image/png": "[encoded data removed]",
      "text/plain": [
       "<Figure size 432x288 with 2 Axes>"
      ]
     },
     "metadata": {
      "needs_background": "light"
     },
     "output_type": "display_data"
    }
   ],
   "source": [
    "corrMatrix = df_vb.corr()\n",
    "sn.heatmap(corrMatrix, annot=True)\n",
    "plt.show()"
   ]
  },
  {
   "cell_type": "markdown",
   "metadata": {
    "cell_id": "00047-06c7dc9f-68fb-4075-84fb-a65ccce12c71",
    "deepnote_cell_type": "markdown",
    "tags": []
   },
   "source": [
    "We can see from the heatmap that the energy metric is strongly correlated with both \"jumps\" and \"jumps 15+\".  Let's plot those directly to see the relationship."
   ]
  },
  {
   "cell_type": "code",
   "execution_count": 26,
   "metadata": {
    "cell_id": "00009-1bbb41ad-cde2-4578-8960-02fada77cfba",
    "deepnote_cell_type": "code",
    "deepnote_to_be_reexecuted": false,
    "execution_millis": 295,
    "execution_start": 1623331825024,
    "source_hash": "810d1c34"
   },
   "outputs": [
    {
     "data": {
      "image/png": "[encoded data removed]",
      "text/plain": [
       "<Figure size 432x288 with 1 Axes>"
      ]
     },
     "metadata": {
      "needs_background": "light"
     },
     "output_type": "display_data"
    }
   ],
   "source": [
    "plt.scatter(df_vb['JUMPS 15+'], df_vb['ENERGY'])\n",
    "plt.show()"
   ]
  },
  {
   "cell_type": "code",
   "execution_count": 27,
   "metadata": {
    "cell_id": "00010-bfa2ca64-128b-463e-8ad3-82e2167e1acc",
    "deepnote_cell_type": "code",
    "deepnote_to_be_reexecuted": false,
    "execution_millis": 366,
    "execution_start": 1623331825321,
    "source_hash": "dd7d6f5b"
   },
   "outputs": [
    {
     "data": {
      "image/png": "[encoded data removed]",
      "text/plain": [
       "<Figure size 432x288 with 1 Axes>"
      ]
     },
     "metadata": {
      "needs_background": "light"
     },
     "output_type": "display_data"
    }
   ],
   "source": [
    "plt.scatter(df_vb['JUMPS'], df_vb['ENERGY'])\n",
    "plt.show()"
   ]
  },
  {
   "cell_type": "markdown",
   "metadata": {
    "cell_id": "00052-0aa57437-83ae-4239-9c57-88017541ce13",
    "deepnote_cell_type": "markdown",
    "tags": []
   },
   "source": [
    "So, we see a pretty strong corrleation between the total number of jumps and the \"energy\" metric provided by VERT.  Keep in mind that this device is an accelerometer... and it is primarily measuring the vertical motion of the athlete.  However, do you think that body weight would be relevant if we were trying to measure the (actual) energy involved in a practice or competition!?  (Definitely!)  However, in many collegiate sports in the United States (including volleyball)-- body weight measures are not measured regularly as body image and disordered eating can be a common problem for high-level athletes.  So, this can be a little tricky.\n",
    "\n",
    "This is something to keep in mind as we talk more about wearables and all of the different measures and metrics that they provide.  Some wearables will require body weight to be entered for their algorithms -- but certainly not all.  More to come about that in future lessons."
   ]
  }
 ],
 "metadata": {
  "deepnote": {},
  "deepnote_execution_queue": [],
  "deepnote_notebook_id": "404ae521-4a8c-46f1-a6da-f2282e9eabb0",
  "kernelspec": {
   "display_name": "Python 3",
   "language": "python",
   "name": "python3"
  },
  "language_info": {
   "codemirror_mode": {
    "name": "ipython",
    "version": 3
   },
   "file_extension": ".py",
   "mimetype": "text/x-python",
   "name": "python",
   "nbconvert_exporter": "python",
   "pygments_lexer": "ipython3",
   "version": "3.7.6"
  }
 },
 "nbformat": 4,
 "nbformat_minor": 4
}
