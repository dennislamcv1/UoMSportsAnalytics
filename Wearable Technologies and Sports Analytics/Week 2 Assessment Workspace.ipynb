{
 "cells": [
  {
   "cell_type": "markdown",
   "metadata": {
    "cell_id": "00000-4768447b-0248-467f-92d6-df7450eac4a0",
    "deepnote_cell_type": "text-cell-h2",
    "tags": []
   },
   "source": [
    "## Wearable Tech: Week 2 Assignment"
   ]
  },
  {
   "cell_type": "markdown",
   "metadata": {
    "cell_id": "00004-c6d3e859-9e51-4d3f-b8fd-c864af150a12",
    "deepnote_cell_type": "markdown",
    "tags": []
   },
   "source": [
    "### Step 1"
   ]
  },
  {
   "cell_type": "code",
   "execution_count": null,
   "metadata": {
    "cell_id": "00005-cd1f2c09-d336-43a2-b33d-4872663d88b6",
    "deepnote_cell_type": "code",
    "deepnote_to_be_reexecuted": false,
    "execution_millis": 1,
    "execution_start": 1623257030703,
    "source_hash": "66f28f6d"
   },
   "outputs": [],
   "source": [
    "# imports\n",
    "import pandas as pd\n",
    "from matplotlib import pyplot as plt\n",
    "import numpy as np\n",
    "from datetime import datetime\n",
    "\n",
    "#turns off warning for chained assignment as we are overwriting references to original dataframe\n",
    "pd.options.mode.chained_assignment = None  # default='warn'\n",
    "pd.set_option('display.max_rows', 30)\n",
    "\n",
    "df = pd.read_csv(\"../Data/Soccer.csv\", parse_dates=[\"Date\"])"
   ]
  },
  {
   "cell_type": "markdown",
   "metadata": {
    "cell_id": "00005-53423a28-b691-4641-94c5-9af81f04d7c0",
    "deepnote_cell_type": "markdown",
    "tags": []
   },
   "source": [
    "### Step 2"
   ]
  },
  {
   "cell_type": "code",
   "execution_count": null,
   "metadata": {
    "cell_id": "00011-79f11a14-aec2-4771-b2d3-37b14a41a903",
    "deepnote_cell_type": "code",
    "deepnote_to_be_reexecuted": false,
    "execution_millis": 58,
    "execution_start": 1623257040651,
    "source_hash": "2aaccec8"
   },
   "outputs": [],
   "source": []
  },
  {
   "cell_type": "markdown",
   "metadata": {
    "cell_id": "00007-9a2fbd8a-8817-4647-9bd4-2755a7b3ce9f",
    "deepnote_cell_type": "markdown",
    "tags": []
   },
   "source": [
    "### Step 3"
   ]
  },
  {
   "cell_type": "code",
   "execution_count": null,
   "metadata": {
    "cell_id": "00014-0db71159-dee8-45ee-8e63-d9bfcbb4a3ec",
    "deepnote_cell_type": "code",
    "deepnote_to_be_reexecuted": false,
    "execution_millis": 53,
    "execution_start": 1623257047484,
    "source_hash": "6ee65cc",
    "tags": []
   },
   "outputs": [],
   "source": []
  },
  {
   "cell_type": "markdown",
   "metadata": {
    "cell_id": "00011-75893545-03c8-4b7d-ac7e-7222b9efe2fd",
    "deepnote_cell_type": "markdown",
    "tags": []
   },
   "source": [
    "### Step 4"
   ]
  },
  {
   "cell_type": "code",
   "execution_count": null,
   "metadata": {
    "cell_id": "00019-157747e6-da45-44da-8939-e1c765273e85",
    "deepnote_cell_type": "code",
    "deepnote_to_be_reexecuted": false,
    "execution_millis": 14,
    "execution_start": 1623256870198,
    "source_hash": "2884284e",
    "tags": []
   },
   "outputs": [],
   "source": []
  },
  {
   "cell_type": "markdown",
   "metadata": {
    "cell_id": "00013-45f5c0d8-0234-4348-9ed9-189edc8aa8a2",
    "deepnote_cell_type": "markdown",
    "tags": []
   },
   "source": [
    "### Step 5"
   ]
  },
  {
   "cell_type": "code",
   "execution_count": null,
   "metadata": {
    "cell_id": "00005-028db0e8-26eb-4346-a23d-a81715c720c6",
    "deepnote_cell_type": "code",
    "deepnote_to_be_reexecuted": false,
    "execution_millis": 46,
    "execution_start": 1623256873664,
    "source_hash": "e5d470d0",
    "tags": []
   },
   "outputs": [],
   "source": []
  },
  {
   "cell_type": "markdown",
   "metadata": {
    "cell_id": "00015-46bd2f73-31f4-47a6-8f5c-15e68e599db6",
    "deepnote_cell_type": "markdown",
    "tags": []
   },
   "source": [
    "### Step 6"
   ]
  },
  {
   "cell_type": "code",
   "execution_count": null,
   "metadata": {
    "cell_id": "00023-42b6308e-4d5e-4548-a2a1-e0320802591a",
    "deepnote_cell_type": "code",
    "deepnote_to_be_reexecuted": false,
    "execution_millis": 108,
    "execution_start": 1623256878178,
    "scrolled": true,
    "source_hash": "aaf47d2e",
    "tags": []
   },
   "outputs": [],
   "source": []
  },
  {
   "cell_type": "markdown",
   "metadata": {
    "cell_id": "00036-5fcf0bc8-247f-4481-8030-4766320e20c1",
    "deepnote_cell_type": "markdown",
    "tags": []
   },
   "source": [
    "### Step 7 "
   ]
  },
  {
   "cell_type": "code",
   "execution_count": null,
   "metadata": {
    "cell_id": "00037-37809b8f-124b-49c6-8776-5f431cc3d59d",
    "deepnote_cell_type": "code",
    "deepnote_to_be_reexecuted": false,
    "execution_millis": 32,
    "execution_start": 1623256927651,
    "source_hash": "d5f1cd34"
   },
   "outputs": [],
   "source": []
  },
  {
   "cell_type": "markdown",
   "metadata": {
    "cell_id": "00026-4691eefd-62f7-402f-a833-50d48bb64981",
    "deepnote_cell_type": "markdown",
    "tags": []
   },
   "source": [
    "### Step 8"
   ]
  },
  {
   "cell_type": "code",
   "execution_count": null,
   "metadata": {
    "cell_id": "00056-e911db87-50ee-4cdb-aba2-fa46eee8fd65",
    "deepnote_cell_type": "code",
    "deepnote_to_be_reexecuted": false,
    "execution_millis": 20,
    "execution_start": 1623256120926,
    "source_hash": "c5e94f46"
   },
   "outputs": [],
   "source": []
  },
  {
   "cell_type": "markdown",
   "metadata": {
    "cell_id": "00030-ff5fd175-fa5e-42ad-991f-ff5bfad4f074",
    "deepnote_cell_type": "markdown",
    "tags": []
   },
   "source": [
    "### Step 9"
   ]
  },
  {
   "cell_type": "code",
   "execution_count": null,
   "metadata": {
    "cell_id": "00061-6206f8c7-f56f-4082-b06d-d533c7a30424",
    "deepnote_cell_type": "code",
    "deepnote_to_be_reexecuted": false,
    "execution_millis": 49,
    "execution_start": 1623256157763,
    "source_hash": "c2aaeb38",
    "tags": []
   },
   "outputs": [],
   "source": []
  },
  {
   "cell_type": "markdown",
   "metadata": {
    "cell_id": "00031-ba74469e-ea68-45ec-a93c-a066e2053aaa",
    "deepnote_cell_type": "markdown",
    "tags": []
   },
   "source": [
    "### Step 10"
   ]
  },
  {
   "cell_type": "code",
   "execution_count": null,
   "metadata": {
    "cell_id": "00064-bc4f0e19-bd3a-46da-8b43-0936b5166ad4",
    "deepnote_cell_type": "code",
    "deepnote_to_be_reexecuted": true,
    "execution_millis": 11,
    "execution_start": 1623252750742,
    "source_hash": "108f5083",
    "tags": []
   },
   "outputs": [],
   "source": []
  }
 ],
 "metadata": {
  "deepnote": {},
  "deepnote_execution_queue": [],
  "deepnote_notebook_id": "ce94cc4b-adef-4730-bdac-e8fc90b33de7",
  "kernelspec": {
   "display_name": "Python 3",
   "language": "python",
   "name": "python3"
  },
  "language_info": {
   "codemirror_mode": {
    "name": "ipython",
    "version": 3
   },
   "file_extension": ".py",
   "mimetype": "text/x-python",
   "name": "python",
   "nbconvert_exporter": "python",
   "pygments_lexer": "ipython3",
   "version": "3.7.6"
  }
 },
 "nbformat": 4,
 "nbformat_minor": 4
}
