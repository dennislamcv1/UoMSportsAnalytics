{
 "cells": [
  {
   "cell_type": "markdown",
   "metadata": {
    "cell_id": "00000-4768447b-0248-467f-92d6-df7450eac4a0",
    "deepnote_cell_type": "text-cell-h2",
    "tags": []
   },
   "source": [
    "## Wearable Tech: Week 5 Assignment"
   ]
  },
  {
   "cell_type": "markdown",
   "metadata": {
    "cell_id": "00002-9f22fdc1-3088-4a15-8d75-f1c63be57221",
    "deepnote_cell_type": "markdown",
    "tags": []
   },
   "source": [
    "### Step 1\n"
   ]
  },
  {
   "cell_type": "code",
   "execution_count": null,
   "metadata": {
    "cell_id": "00003-8c8102ee-b9a2-43e4-bf65-2bb7e746f3aa",
    "deepnote_cell_type": "code",
    "deepnote_to_be_reexecuted": false,
    "execution_millis": 7722,
    "execution_start": 1623777868670,
    "source_hash": "a888bc55",
    "tags": []
   },
   "outputs": [],
   "source": [
    "import numpy as np\n",
    "import pandas as pd\n",
    "from matplotlib import pyplot as plt\n",
    "import seaborn as sn\n",
    "import matplotlib.dates as mdates\n",
    "import datetime\n",
    "import plotly.graph_objects as go\n",
    "\n",
    "import scipy.stats as stats\n",
    "\n",
    "df = pd.read_csv(\"../Data/FH.csv\")"
   ]
  },
  {
   "cell_type": "markdown",
   "metadata": {
    "cell_id": "00005-72b83454-da00-440a-8e1e-acd577a1dad7",
    "deepnote_cell_type": "markdown",
    "tags": []
   },
   "source": [
    "### Step 2"
   ]
  },
  {
   "cell_type": "code",
   "execution_count": null,
   "metadata": {
    "cell_id": "00006-0f8e8358-3985-4add-af67-ce11c5c54389",
    "deepnote_cell_type": "code",
    "deepnote_to_be_reexecuted": false,
    "execution_millis": 54,
    "execution_start": 1623777876484,
    "source_hash": "bab49cca",
    "tags": []
   },
   "outputs": [],
   "source": []
  },
  {
   "cell_type": "markdown",
   "metadata": {
    "cell_id": "00010-d4e100be-5388-4991-a7c0-3c276cd24b13",
    "deepnote_cell_type": "markdown",
    "tags": []
   },
   "source": [
    "### Step 3"
   ]
  },
  {
   "cell_type": "code",
   "execution_count": null,
   "metadata": {
    "cell_id": "00008-55c7db75-80aa-420f-a643-84ba7b8c3d1b",
    "deepnote_cell_type": "code",
    "deepnote_to_be_reexecuted": false,
    "execution_millis": 28,
    "execution_start": 1623777878106,
    "source_hash": "2e96ea64",
    "tags": []
   },
   "outputs": [],
   "source": []
  },
  {
   "cell_type": "markdown",
   "metadata": {
    "cell_id": "00016-4f26f803-d12c-4411-9818-3701ce806151",
    "deepnote_cell_type": "markdown",
    "tags": []
   },
   "source": [
    "### Step 4"
   ]
  },
  {
   "cell_type": "code",
   "execution_count": null,
   "metadata": {
    "allow_embed": "code_output",
    "cell_id": "00013-5839e1ba-49b1-453d-acc1-cc68c2d35305",
    "deepnote_cell_type": "code",
    "deepnote_to_be_reexecuted": false,
    "execution_millis": 380,
    "execution_start": 1623777878369,
    "source_hash": "d057225f",
    "tags": []
   },
   "outputs": [],
   "source": []
  },
  {
   "cell_type": "markdown",
   "metadata": {
    "cell_id": "00019-5d7a2790-23e4-40ac-b446-349f2911cd65",
    "deepnote_cell_type": "markdown",
    "tags": []
   },
   "source": [
    "### Step 5"
   ]
  },
  {
   "cell_type": "code",
   "execution_count": null,
   "metadata": {
    "allow_embed": "code_output",
    "cell_id": "00014-d5830a11-c145-46db-8336-50e813c3523a",
    "deepnote_cell_type": "code",
    "deepnote_to_be_reexecuted": false,
    "execution_millis": 40,
    "execution_start": 1623777878759,
    "source_hash": "f2f7553f",
    "tags": []
   },
   "outputs": [],
   "source": []
  },
  {
   "cell_type": "markdown",
   "metadata": {
    "cell_id": "00022-ee30a2fe-6575-4f78-b8e7-d1d9c8183dcf",
    "deepnote_cell_type": "markdown",
    "tags": []
   },
   "source": [
    "### Step 6"
   ]
  },
  {
   "cell_type": "code",
   "execution_count": null,
   "metadata": {
    "cell_id": "00023-c3b16372-74ea-4101-b095-17c98e90ed1f",
    "deepnote_cell_type": "code",
    "deepnote_to_be_reexecuted": false,
    "execution_millis": 35,
    "execution_start": 1623777878803,
    "source_hash": "d3832726",
    "tags": []
   },
   "outputs": [],
   "source": []
  },
  {
   "cell_type": "markdown",
   "metadata": {
    "cell_id": "00024-44eb271d-0cd9-451b-a124-bf0b4e137dc0",
    "deepnote_cell_type": "markdown",
    "tags": []
   },
   "source": [
    "### Step 7"
   ]
  },
  {
   "cell_type": "code",
   "execution_count": null,
   "metadata": {},
   "outputs": [],
   "source": []
  }
 ],
 "metadata": {
  "deepnote": {
   "is_reactive": false
  },
  "deepnote_execution_queue": [],
  "deepnote_notebook_id": "a73f607f-24b8-458f-8af2-76760ee7f15c",
  "kernelspec": {
   "display_name": "Python 3",
   "language": "python",
   "name": "python3"
  },
  "language_info": {
   "codemirror_mode": {
    "name": "ipython",
    "version": 3
   },
   "file_extension": ".py",
   "mimetype": "text/x-python",
   "name": "python",
   "nbconvert_exporter": "python",
   "pygments_lexer": "ipython3",
   "version": "3.7.6"
  }
 },
 "nbformat": 4,
 "nbformat_minor": 2
}
