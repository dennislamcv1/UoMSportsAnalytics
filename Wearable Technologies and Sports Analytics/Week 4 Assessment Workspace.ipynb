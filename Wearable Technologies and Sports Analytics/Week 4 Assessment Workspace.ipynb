{
 "cells": [
  {
   "cell_type": "markdown",
   "metadata": {
    "cell_id": "00000-4768447b-0248-467f-92d6-df7450eac4a0",
    "deepnote_cell_type": "text-cell-h2",
    "tags": []
   },
   "source": [
    "## Wearable Tech: Week 4 Assignment"
   ]
  },
  {
   "cell_type": "markdown",
   "metadata": {
    "cell_id": "00003-1e3842df-bae4-461c-93df-ab19bf142c6c",
    "deepnote_cell_type": "markdown",
    "tags": []
   },
   "source": [
    "### Step 1"
   ]
  },
  {
   "cell_type": "code",
   "execution_count": null,
   "metadata": {
    "cell_id": "00003-adaa1986-2358-4715-8146-8fefe73c3c9c",
    "deepnote_cell_type": "code",
    "deepnote_to_be_reexecuted": false,
    "execution_millis": 19971,
    "execution_start": 1623748077926,
    "source_hash": "53310864",
    "tags": []
   },
   "outputs": [],
   "source": [
    "import numpy as np\n",
    "import pandas as pd\n",
    "from matplotlib import pyplot as plt\n",
    "import seaborn as sn\n",
    "import matplotlib.dates as mdates\n",
    "import datetime\n",
    "import plotly.graph_objects as go\n",
    "\n",
    "import matplotlib.pyplot as plt\n",
    "from scipy import stats\n",
    "\n",
    "df = pd.read_csv(\"../Data/FH.csv\", index_col =[\"Timestamp\"], parse_dates=[\"Timestamp\"])"
   ]
  },
  {
   "cell_type": "markdown",
   "metadata": {
    "cell_id": "00005-0e21acf5-0cd0-4f57-bd15-b84c0b0b5705",
    "deepnote_cell_type": "markdown",
    "tags": []
   },
   "source": [
    "### Step 2"
   ]
  },
  {
   "cell_type": "code",
   "execution_count": null,
   "metadata": {
    "cell_id": "00013-3fa2b560-479f-48df-bf3a-846be4af66b0",
    "deepnote_cell_type": "code",
    "deepnote_to_be_reexecuted": false,
    "execution_millis": 152,
    "execution_start": 1623748126387,
    "source_hash": "12f17179",
    "tags": []
   },
   "outputs": [],
   "source": []
  },
  {
   "cell_type": "markdown",
   "metadata": {
    "cell_id": "00007-684b0163-2aa9-4f45-9444-73f5f7a8917b",
    "deepnote_cell_type": "markdown",
    "tags": []
   },
   "source": [
    "### Step 3"
   ]
  },
  {
   "cell_type": "code",
   "execution_count": null,
   "metadata": {
    "cell_id": "00014-dd8406eb-cd7a-4253-a3f2-8bd46f88f2bd",
    "deepnote_cell_type": "code",
    "deepnote_to_be_reexecuted": false,
    "execution_millis": 198,
    "execution_start": 1623748134267,
    "source_hash": "b42195aa",
    "tags": []
   },
   "outputs": [],
   "source": []
  },
  {
   "cell_type": "markdown",
   "metadata": {
    "cell_id": "00009-a3fe5d72-85a0-429f-b7c2-6b677898d212",
    "deepnote_cell_type": "markdown",
    "tags": []
   },
   "source": [
    "### Step 4"
   ]
  },
  {
   "cell_type": "code",
   "execution_count": null,
   "metadata": {
    "cell_id": "00018-00c29b99-1e86-4e15-8ffa-fa5ca1b011c8",
    "deepnote_cell_type": "code",
    "deepnote_to_be_reexecuted": false,
    "execution_millis": 72,
    "execution_start": 1623748391929,
    "source_hash": "9c942531",
    "tags": []
   },
   "outputs": [],
   "source": []
  },
  {
   "cell_type": "markdown",
   "metadata": {
    "cell_id": "00017-acf7f86a-fc96-4981-bc72-2c7fc887bb3d",
    "deepnote_cell_type": "markdown",
    "tags": []
   },
   "source": [
    "### Step 5"
   ]
  },
  {
   "cell_type": "code",
   "execution_count": null,
   "metadata": {
    "cell_id": "00030-8bc9cd5e-41aa-4888-83fe-b3c8cec60ce6",
    "deepnote_cell_type": "code",
    "deepnote_to_be_reexecuted": false,
    "execution_millis": 1,
    "execution_start": 1623748594114,
    "source_hash": "fc28555d",
    "tags": []
   },
   "outputs": [],
   "source": []
  },
  {
   "cell_type": "markdown",
   "metadata": {
    "cell_id": "00021-71853b0a-c1be-400a-b398-3074b1523144",
    "deepnote_cell_type": "markdown",
    "tags": []
   },
   "source": [
    "### Step 6"
   ]
  },
  {
   "cell_type": "code",
   "execution_count": null,
   "metadata": {
    "cell_id": "00036-6526c041-065f-4701-8ee4-548f0e2e3447",
    "deepnote_cell_type": "code",
    "deepnote_to_be_reexecuted": false,
    "execution_millis": 784,
    "execution_start": 1623751772873,
    "source_hash": "8ad74fe0",
    "tags": []
   },
   "outputs": [],
   "source": []
  },
  {
   "cell_type": "markdown",
   "metadata": {
    "cell_id": "00025-79b4614b-6c07-4770-b9ae-886c3f652eb5",
    "deepnote_cell_type": "markdown",
    "tags": []
   },
   "source": [
    "### Step 7"
   ]
  },
  {
   "cell_type": "code",
   "execution_count": null,
   "metadata": {
    "cell_id": "00041-e75edabf-5e11-4ccf-ab3d-38ccbf74c23d",
    "deepnote_cell_type": "code",
    "deepnote_to_be_reexecuted": false,
    "execution_millis": 18785,
    "execution_start": 1623748866828,
    "source_hash": "caf2e7f0",
    "tags": []
   },
   "outputs": [],
   "source": []
  },
  {
   "cell_type": "markdown",
   "metadata": {
    "cell_id": "00027-cd0c91f3-4036-4a13-832a-cf724963d6bb",
    "deepnote_cell_type": "markdown",
    "tags": []
   },
   "source": [
    "### Step 8"
   ]
  },
  {
   "cell_type": "code",
   "execution_count": null,
   "metadata": {
    "cell_id": "00043-2a5b4167-82bc-4b4b-85bb-396cf0ea9bc2",
    "deepnote_cell_type": "code",
    "deepnote_to_be_reexecuted": false,
    "execution_millis": 108,
    "execution_start": 1623748959495,
    "source_hash": "8390f28a",
    "tags": []
   },
   "outputs": [],
   "source": []
  }
 ],
 "metadata": {
  "deepnote": {
   "is_reactive": false
  },
  "deepnote_execution_queue": [],
  "deepnote_notebook_id": "5d6668c8-42d3-4893-8dc5-2151d35f756d",
  "kernelspec": {
   "display_name": "Python 3",
   "language": "python",
   "name": "python3"
  },
  "language_info": {
   "codemirror_mode": {
    "name": "ipython",
    "version": 3
   },
   "file_extension": ".py",
   "mimetype": "text/x-python",
   "name": "python",
   "nbconvert_exporter": "python",
   "pygments_lexer": "ipython3",
   "version": "3.7.6"
  }
 },
 "nbformat": 4,
 "nbformat_minor": 2
}
